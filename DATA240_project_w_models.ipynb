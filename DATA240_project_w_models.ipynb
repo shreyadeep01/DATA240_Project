{
  "cells": [
    {
      "cell_type": "markdown",
      "metadata": {
        "id": "view-in-github",
        "colab_type": "text"
      },
      "source": [
        "<a href=\"https://colab.research.google.com/github/shreyadeep01/DATA240_Project/blob/initial-colab-change-files-_sh/DATA240_project_w_models.ipynb\" target=\"_parent\"><img src=\"https://colab.research.google.com/assets/colab-badge.svg\" alt=\"Open In Colab\"/></a>"
      ]
    },
    {
      "cell_type": "code",
      "source": [
        "#from google.colab import drive\n",
        "#drive.mount('/content/drive')"
      ],
      "metadata": {
        "colab": {
          "base_uri": "https://localhost:8080/"
        },
        "id": "2mptajWMg7LU",
        "outputId": "7f145d07-164f-47c0-8624-c554a38b11ea"
      },
      "execution_count": null,
      "outputs": [
        {
          "output_type": "stream",
          "name": "stdout",
          "text": [
            "Mounted at /content/drive\n"
          ]
        }
      ]
    },
    {
      "cell_type": "markdown",
      "metadata": {
        "id": "RJ5sEjD8PMhG"
      },
      "source": [
        "Load datasets from Google drives"
      ]
    },
    {
      "cell_type": "code",
      "execution_count": null,
      "metadata": {
        "id": "_jRdUXFmAUzQ"
      },
      "outputs": [],
      "source": [
        "is_churn_url = 'https://drive.google.com/file/d/1P43072y7KI4RUOKgWzZc3ov8kMaFQMVA/view?usp=sharing'\n",
        "is_churn_url = 'https://drive.google.com/uc?id=' + is_churn_url.split('/')[-2]\n",
        "\n",
        "# is_churn_url = 'is_churn.csv'\n",
        "is_churn_df = pd.read_csv(is_churn_url)\n",
        "\n",
        "# print(is_churn_df)"
      ]
    },
    {
      "cell_type": "code",
      "execution_count": null,
      "metadata": {
        "id": "fOcDvqSBMc1p"
      },
      "outputs": [],
      "source": [
        "transactions_url = 'https://drive.google.com/file/d/1oPbL4uWPtFvq41IqNfMNW7QUaGA3INXV/view?usp=sharing'\n",
        "transactions_url = 'https://drive.google.com/uc?id=' + transactions_url.split('/')[-2]\n",
        "# transactions_url = 'transactions.csv'\n",
        "transactions_df = pd.read_csv(transactions_url)\n",
        "\n",
        "# print(transactions_df)"
      ]
    },
    {
      "cell_type": "code",
      "execution_count": null,
      "metadata": {
        "id": "Itf_1tg2Mc86"
      },
      "outputs": [],
      "source": [
        "user_logs_url = 'https://drive.google.com/file/d/1FNMohIsfIcBFs2V-0m43qYoIGP1gCLQe/view?usp=sharing'\n",
        "user_logs_url = 'https://drive.google.com/uc?id=' + user_logs_url.split('/')[-2]\n",
        "\n",
        "user_logs_df = pd.read_csv(user_logs_url)\n",
        "\n",
        "# print(user_logs_df)"
      ]
    },
    {
      "cell_type": "code",
      "execution_count": null,
      "metadata": {
        "id": "qQCGk852MdGr"
      },
      "outputs": [],
      "source": [
        "members_url = 'https://drive.google.com/file/d/1yWY0mrpyEU3Ug98H8JsbQ-esROu5L5X6/view?usp=sharing'\n",
        "members_url = 'https://drive.google.com/uc?id=' + members_url.split('/')[-2]\n",
        "\n",
        "# members_path = 'members.csv'\n",
        "members_df = pd.read_csv(members_url)\n",
        "\n",
        "# print(members_df)"
      ]
    },
    {
      "cell_type": "markdown",
      "metadata": {
        "id": "DhLdBGx0PZS4"
      },
      "source": [
        "Merge four datasets into a large dataset"
      ]
    },
    {
      "cell_type": "code",
      "execution_count": null,
      "metadata": {
        "colab": {
          "base_uri": "https://localhost:8080/"
        },
        "id": "kRoYZeOaRm6i",
        "outputId": "1eb1dffb-f415-47dd-c2da-1ca501920b3c"
      },
      "outputs": [
        {
          "output_type": "stream",
          "name": "stdout",
          "text": [
            "msno                ++LEgyw4z5zuPu61SoBhMicDimkV+A9kPbcMaQgC/7c=\n",
            "playtime_per_day                            -320255973495365.125\n",
            "dtype: object\n"
          ]
        }
      ],
      "source": [
        "# count the average playtime per day for every member\n",
        "\n",
        "avg_playtime = user_logs_df.groupby('msno', as_index=False)['total_secs'].mean()\n",
        "avg_playtime = avg_playtime.rename(columns={\"total_secs\": \"playtime_per_day\"})\n",
        "print(avg_playtime.min())"
      ]
    },
    {
      "cell_type": "code",
      "execution_count": null,
      "metadata": {
        "id": "dj66GyDWRm8X"
      },
      "outputs": [],
      "source": [
        "# calculate the total length of membership plan in days\n",
        "\n",
        "membership_days = transactions_df.groupby('msno', as_index=False)['payment_plan_days'].sum()\n",
        "latest_transaction_date = transactions_df.groupby('msno', as_index=False)['transaction_date'].max()\n",
        "latest_transactions = transactions_df.merge(latest_transaction_date, on=[\"msno\", \"transaction_date\"])\n",
        "# print(latest_transactions)"
      ]
    },
    {
      "cell_type": "code",
      "execution_count": null,
      "metadata": {
        "colab": {
          "base_uri": "https://localhost:8080/"
        },
        "id": "WvEcfPJ53imG",
        "outputId": "9a169dd6-182c-4ec4-8928-92fa7519f495"
      },
      "outputs": [
        {
          "output_type": "stream",
          "name": "stdout",
          "text": [
            "                                              msno  is_churn  \\\n",
            "0     dEPT6Ki6RIimMvKFy2B/iLhNalAIQVvVEznJwqcI5xg=         0   \n",
            "1     NZh6JkdKxv5+yzfxoJjDpqQqlxaWoLte6GoAUcD2RKs=         0   \n",
            "2     MQJh0JzTYfSzdsOH/ice1rsxouzE/dRDFeI4MhA3mqA=         0   \n",
            "3     TMBsL0a7IjM8dEC4Yg8lwbnZP52MJpiSLcvHNjesmSs=         0   \n",
            "4     QH6WsEFO0cDNqAgBzuFoKdPbpaq27+StO4I/6ATGfXc=         0   \n",
            "...                                            ...       ...   \n",
            "4423  R+puA1IoFN9ZIBZINnLZivZEAW8jv47H6D0zPNeGlGc=         1   \n",
            "4424  uDT8cz06dz2Hwv0DspKzjDPcP4izsPH6HZgd9EvEgGg=         1   \n",
            "4425  2tfPyhPXlIGjqGMb+r/ZTmxeG/v0i28xY3xSn97gdOo=         1   \n",
            "4426  TQvFyIQAcPI4qpzYoT9+b9dM9Odjnyw4ev3kOu1I5sI=         1   \n",
            "4427  TQvFyIQAcPI4qpzYoT9+b9dM9Odjnyw4ev3kOu1I5sI=         1   \n",
            "\n",
            "      playtime_per_day  city  bd  gender  registered_via  \\\n",
            "0         1.481261e+04    22  35    male               9   \n",
            "1         1.446139e+03     1   0     NaN               7   \n",
            "2         3.540335e+03     8  32  female               7   \n",
            "3         2.101799e+03    12  21    male               4   \n",
            "4         2.693799e+04     1   0     NaN               7   \n",
            "...                ...   ...  ..     ...             ...   \n",
            "4423     -4.303284e+13     4  38  female               7   \n",
            "4424      6.345836e+03    17  17  female               7   \n",
            "4425      6.386885e+03    13  35  female               9   \n",
            "4426      6.546864e+03     1   0     NaN               4   \n",
            "4427      6.546864e+03     1   0     NaN               4   \n",
            "\n",
            "      registration_init_time  payment_method_id  payment_plan_days  \\\n",
            "0                   20110613                 31                 30   \n",
            "1                   20110111                 41                 30   \n",
            "2                   20110205                 41                 30   \n",
            "3                   20161005                 36                 30   \n",
            "4                   20130901                 38                 30   \n",
            "...                      ...                ...                ...   \n",
            "4423                20140116                 32                180   \n",
            "4424                20160204                 41                 30   \n",
            "4425                20050817                 32                180   \n",
            "4426                20161104                 38                 90   \n",
            "4427                20161104                 35                  7   \n",
            "\n",
            "      plan_list_price  actual_amount_paid  is_auto_renew  transaction_date  \\\n",
            "0                 149                 149              1          20170228   \n",
            "1                  99                  99              1          20170210   \n",
            "2                 149                 149              1          20170215   \n",
            "3                 180                 180              0          20170217   \n",
            "4                 149                 149              0          20170220   \n",
            "...               ...                 ...            ...               ...   \n",
            "4423              536                 536              0          20160823   \n",
            "4424               99                  99              1          20170204   \n",
            "4425              536                 536              0          20160811   \n",
            "4426              477                 477              0          20161104   \n",
            "4427                0                   0              0          20161104   \n",
            "\n",
            "      membership_expire_date  is_cancel  \n",
            "0                   20170331          0  \n",
            "1                   20170310          0  \n",
            "2                   20170316          0  \n",
            "3                   20170319          0  \n",
            "4                   20170322          0  \n",
            "...                      ...        ...  \n",
            "4423                20170222          0  \n",
            "4424                20170204          1  \n",
            "4425                20170210          0  \n",
            "4426                20170209          0  \n",
            "4427                20161111          0  \n",
            "\n",
            "[4428 rows x 16 columns]\n"
          ]
        }
      ],
      "source": [
        "# merge all dataset\n",
        "\n",
        "merged_data = is_churn_df.merge(avg_playtime, how='inner', on=[\"msno\"]).merge(members_df, how='inner', on=\"msno\").merge(latest_transactions, how='inner', on=[\"msno\"])\n",
        "\n",
        "print(merged_data)"
      ]
    },
    {
      "cell_type": "code",
      "execution_count": null,
      "metadata": {
        "colab": {
          "base_uri": "https://localhost:8080/"
        },
        "id": "haFH06HE48_D",
        "outputId": "df7243f6-2597-4e40-c139-31570672b506"
      },
      "outputs": [
        {
          "output_type": "execute_result",
          "data": {
            "text/plain": [
              "msno                         0\n",
              "is_churn                     0\n",
              "playtime_per_day             0\n",
              "city                         0\n",
              "bd                           0\n",
              "gender                    2471\n",
              "registered_via               0\n",
              "registration_init_time       0\n",
              "payment_method_id            0\n",
              "payment_plan_days            0\n",
              "plan_list_price              0\n",
              "actual_amount_paid           0\n",
              "is_auto_renew                0\n",
              "transaction_date             0\n",
              "membership_expire_date       0\n",
              "is_cancel                    0\n",
              "dtype: int64"
            ]
          },
          "metadata": {},
          "execution_count": 10
        }
      ],
      "source": [
        "# check missing values\n",
        "\n",
        "merged_data.isna().sum(axis = 0)"
      ]
    },
    {
      "cell_type": "code",
      "execution_count": null,
      "metadata": {
        "id": "Ym6e7kEhO4qY"
      },
      "outputs": [],
      "source": [
        "# Replace missing values in column 'gender' with integer -1\n",
        "\n",
        "merged_data[['gender']] = merged_data[['gender']].fillna('-1')"
      ]
    },
    {
      "cell_type": "code",
      "execution_count": null,
      "metadata": {
        "colab": {
          "base_uri": "https://localhost:8080/"
        },
        "id": "YzGc4Jr9VixT",
        "outputId": "b7bb52a5-df40-4f2a-d3e7-4dcbc1689f8f"
      },
      "outputs": [
        {
          "output_type": "stream",
          "name": "stdout",
          "text": [
            "                                              msno  is_churn  \\\n",
            "0     dEPT6Ki6RIimMvKFy2B/iLhNalAIQVvVEznJwqcI5xg=         0   \n",
            "1     NZh6JkdKxv5+yzfxoJjDpqQqlxaWoLte6GoAUcD2RKs=         0   \n",
            "2     MQJh0JzTYfSzdsOH/ice1rsxouzE/dRDFeI4MhA3mqA=         0   \n",
            "3     TMBsL0a7IjM8dEC4Yg8lwbnZP52MJpiSLcvHNjesmSs=         0   \n",
            "4     QH6WsEFO0cDNqAgBzuFoKdPbpaq27+StO4I/6ATGfXc=         0   \n",
            "...                                            ...       ...   \n",
            "4423  R+puA1IoFN9ZIBZINnLZivZEAW8jv47H6D0zPNeGlGc=         1   \n",
            "4424  uDT8cz06dz2Hwv0DspKzjDPcP4izsPH6HZgd9EvEgGg=         1   \n",
            "4425  2tfPyhPXlIGjqGMb+r/ZTmxeG/v0i28xY3xSn97gdOo=         1   \n",
            "4426  TQvFyIQAcPI4qpzYoT9+b9dM9Odjnyw4ev3kOu1I5sI=         1   \n",
            "4427  TQvFyIQAcPI4qpzYoT9+b9dM9Odjnyw4ev3kOu1I5sI=         1   \n",
            "\n",
            "      playtime_per_day  city  bd  gender  registered_via  \\\n",
            "0         1.481261e+04    22  35    male               9   \n",
            "1         1.446139e+03     1   0      -1               7   \n",
            "2         3.540335e+03     8  32  female               7   \n",
            "3         2.101799e+03    12  21    male               4   \n",
            "4         2.693799e+04     1   0      -1               7   \n",
            "...                ...   ...  ..     ...             ...   \n",
            "4423     -4.303284e+13     4  38  female               7   \n",
            "4424      6.345836e+03    17  17  female               7   \n",
            "4425      6.386885e+03    13  35  female               9   \n",
            "4426      6.546864e+03     1   0      -1               4   \n",
            "4427      6.546864e+03     1   0      -1               4   \n",
            "\n",
            "     registration_init_time  payment_method_id  payment_plan_days  \\\n",
            "0                      2011                 31                 30   \n",
            "1                      2011                 41                 30   \n",
            "2                      2011                 41                 30   \n",
            "3                      2016                 36                 30   \n",
            "4                      2013                 38                 30   \n",
            "...                     ...                ...                ...   \n",
            "4423                   2014                 32                180   \n",
            "4424                   2016                 41                 30   \n",
            "4425                   2005                 32                180   \n",
            "4426                   2016                 38                 90   \n",
            "4427                   2016                 35                  7   \n",
            "\n",
            "      plan_list_price  actual_amount_paid  is_auto_renew transaction_date  \\\n",
            "0                 149                 149              1             2017   \n",
            "1                  99                  99              1             2017   \n",
            "2                 149                 149              1             2017   \n",
            "3                 180                 180              0             2017   \n",
            "4                 149                 149              0             2017   \n",
            "...               ...                 ...            ...              ...   \n",
            "4423              536                 536              0             2016   \n",
            "4424               99                  99              1             2017   \n",
            "4425              536                 536              0             2016   \n",
            "4426              477                 477              0             2016   \n",
            "4427                0                   0              0             2016   \n",
            "\n",
            "     membership_expire_date  is_cancel  \n",
            "0                      2017          0  \n",
            "1                      2017          0  \n",
            "2                      2017          0  \n",
            "3                      2017          0  \n",
            "4                      2017          0  \n",
            "...                     ...        ...  \n",
            "4423                   2017          0  \n",
            "4424                   2017          1  \n",
            "4425                   2017          0  \n",
            "4426                   2017          0  \n",
            "4427                   2016          0  \n",
            "\n",
            "[4428 rows x 16 columns]\n"
          ]
        }
      ],
      "source": [
        "# Convert registration_init_time, transaction_date, membership_expire_date to years\n",
        "\n",
        "merged_data['registration_init_time'] = merged_data['registration_init_time'].astype(str).str[:4]\n",
        "merged_data['transaction_date'] = merged_data['transaction_date'].astype(str).str[:4]\n",
        "merged_data['membership_expire_date'] = merged_data['membership_expire_date'].astype(str).str[:4]\n",
        "\n",
        "print(merged_data)"
      ]
    },
    {
      "cell_type": "code",
      "execution_count": null,
      "metadata": {
        "id": "W6HPPFjhX4lW"
      },
      "outputs": [],
      "source": [
        "# replacing values in column gender\n",
        "merged_data['gender'].replace(['female', 'male'],\n",
        "                        [0, 1], inplace=True)"
      ]
    },
    {
      "cell_type": "code",
      "execution_count": null,
      "metadata": {
        "colab": {
          "base_uri": "https://localhost:8080/"
        },
        "id": "X0eg5WHJWCAY",
        "outputId": "caea65d6-f91d-4483-c5cb-027ce315c099"
      },
      "outputs": [
        {
          "output_type": "execute_result",
          "data": {
            "text/plain": [
              "msno                       object\n",
              "is_churn                    int64\n",
              "playtime_per_day          float64\n",
              "city                        int64\n",
              "bd                          int64\n",
              "gender                     object\n",
              "registered_via              int64\n",
              "registration_init_time     object\n",
              "payment_method_id           int64\n",
              "payment_plan_days           int64\n",
              "plan_list_price             int64\n",
              "actual_amount_paid          int64\n",
              "is_auto_renew               int64\n",
              "transaction_date           object\n",
              "membership_expire_date     object\n",
              "is_cancel                   int64\n",
              "dtype: object"
            ]
          },
          "metadata": {},
          "execution_count": 15
        }
      ],
      "source": [
        "merged_data.dtypes"
      ]
    },
    {
      "cell_type": "code",
      "execution_count": null,
      "metadata": {
        "colab": {
          "base_uri": "https://localhost:8080/"
        },
        "id": "mPcr7jN4VizZ",
        "outputId": "173c472e-fdc2-459e-b3c2-eb13ee3397d0"
      },
      "outputs": [
        {
          "output_type": "stream",
          "name": "stdout",
          "text": [
            "                                              is_churn  playtime_per_day  \\\n",
            "msno                                                                       \n",
            "dEPT6Ki6RIimMvKFy2B/iLhNalAIQVvVEznJwqcI5xg=         0      1.481261e+04   \n",
            "NZh6JkdKxv5+yzfxoJjDpqQqlxaWoLte6GoAUcD2RKs=         0      1.446139e+03   \n",
            "MQJh0JzTYfSzdsOH/ice1rsxouzE/dRDFeI4MhA3mqA=         0      3.540335e+03   \n",
            "TMBsL0a7IjM8dEC4Yg8lwbnZP52MJpiSLcvHNjesmSs=         0      2.101799e+03   \n",
            "QH6WsEFO0cDNqAgBzuFoKdPbpaq27+StO4I/6ATGfXc=         0      2.693799e+04   \n",
            "...                                                ...               ...   \n",
            "R+puA1IoFN9ZIBZINnLZivZEAW8jv47H6D0zPNeGlGc=         1     -4.303284e+13   \n",
            "uDT8cz06dz2Hwv0DspKzjDPcP4izsPH6HZgd9EvEgGg=         1      6.345836e+03   \n",
            "2tfPyhPXlIGjqGMb+r/ZTmxeG/v0i28xY3xSn97gdOo=         1      6.386885e+03   \n",
            "TQvFyIQAcPI4qpzYoT9+b9dM9Odjnyw4ev3kOu1I5sI=         1      6.546864e+03   \n",
            "TQvFyIQAcPI4qpzYoT9+b9dM9Odjnyw4ev3kOu1I5sI=         1      6.546864e+03   \n",
            "\n",
            "                                              city  bd gender  registered_via  \\\n",
            "msno                                                                            \n",
            "dEPT6Ki6RIimMvKFy2B/iLhNalAIQVvVEznJwqcI5xg=    22  35      1               9   \n",
            "NZh6JkdKxv5+yzfxoJjDpqQqlxaWoLte6GoAUcD2RKs=     1   0     -1               7   \n",
            "MQJh0JzTYfSzdsOH/ice1rsxouzE/dRDFeI4MhA3mqA=     8  32      0               7   \n",
            "TMBsL0a7IjM8dEC4Yg8lwbnZP52MJpiSLcvHNjesmSs=    12  21      1               4   \n",
            "QH6WsEFO0cDNqAgBzuFoKdPbpaq27+StO4I/6ATGfXc=     1   0     -1               7   \n",
            "...                                            ...  ..    ...             ...   \n",
            "R+puA1IoFN9ZIBZINnLZivZEAW8jv47H6D0zPNeGlGc=     4  38      0               7   \n",
            "uDT8cz06dz2Hwv0DspKzjDPcP4izsPH6HZgd9EvEgGg=    17  17      0               7   \n",
            "2tfPyhPXlIGjqGMb+r/ZTmxeG/v0i28xY3xSn97gdOo=    13  35      0               9   \n",
            "TQvFyIQAcPI4qpzYoT9+b9dM9Odjnyw4ev3kOu1I5sI=     1   0     -1               4   \n",
            "TQvFyIQAcPI4qpzYoT9+b9dM9Odjnyw4ev3kOu1I5sI=     1   0     -1               4   \n",
            "\n",
            "                                             registration_init_time  \\\n",
            "msno                                                                  \n",
            "dEPT6Ki6RIimMvKFy2B/iLhNalAIQVvVEznJwqcI5xg=                   2011   \n",
            "NZh6JkdKxv5+yzfxoJjDpqQqlxaWoLte6GoAUcD2RKs=                   2011   \n",
            "MQJh0JzTYfSzdsOH/ice1rsxouzE/dRDFeI4MhA3mqA=                   2011   \n",
            "TMBsL0a7IjM8dEC4Yg8lwbnZP52MJpiSLcvHNjesmSs=                   2016   \n",
            "QH6WsEFO0cDNqAgBzuFoKdPbpaq27+StO4I/6ATGfXc=                   2013   \n",
            "...                                                             ...   \n",
            "R+puA1IoFN9ZIBZINnLZivZEAW8jv47H6D0zPNeGlGc=                   2014   \n",
            "uDT8cz06dz2Hwv0DspKzjDPcP4izsPH6HZgd9EvEgGg=                   2016   \n",
            "2tfPyhPXlIGjqGMb+r/ZTmxeG/v0i28xY3xSn97gdOo=                   2005   \n",
            "TQvFyIQAcPI4qpzYoT9+b9dM9Odjnyw4ev3kOu1I5sI=                   2016   \n",
            "TQvFyIQAcPI4qpzYoT9+b9dM9Odjnyw4ev3kOu1I5sI=                   2016   \n",
            "\n",
            "                                              payment_method_id  \\\n",
            "msno                                                              \n",
            "dEPT6Ki6RIimMvKFy2B/iLhNalAIQVvVEznJwqcI5xg=                 31   \n",
            "NZh6JkdKxv5+yzfxoJjDpqQqlxaWoLte6GoAUcD2RKs=                 41   \n",
            "MQJh0JzTYfSzdsOH/ice1rsxouzE/dRDFeI4MhA3mqA=                 41   \n",
            "TMBsL0a7IjM8dEC4Yg8lwbnZP52MJpiSLcvHNjesmSs=                 36   \n",
            "QH6WsEFO0cDNqAgBzuFoKdPbpaq27+StO4I/6ATGfXc=                 38   \n",
            "...                                                         ...   \n",
            "R+puA1IoFN9ZIBZINnLZivZEAW8jv47H6D0zPNeGlGc=                 32   \n",
            "uDT8cz06dz2Hwv0DspKzjDPcP4izsPH6HZgd9EvEgGg=                 41   \n",
            "2tfPyhPXlIGjqGMb+r/ZTmxeG/v0i28xY3xSn97gdOo=                 32   \n",
            "TQvFyIQAcPI4qpzYoT9+b9dM9Odjnyw4ev3kOu1I5sI=                 38   \n",
            "TQvFyIQAcPI4qpzYoT9+b9dM9Odjnyw4ev3kOu1I5sI=                 35   \n",
            "\n",
            "                                              payment_plan_days  \\\n",
            "msno                                                              \n",
            "dEPT6Ki6RIimMvKFy2B/iLhNalAIQVvVEznJwqcI5xg=                 30   \n",
            "NZh6JkdKxv5+yzfxoJjDpqQqlxaWoLte6GoAUcD2RKs=                 30   \n",
            "MQJh0JzTYfSzdsOH/ice1rsxouzE/dRDFeI4MhA3mqA=                 30   \n",
            "TMBsL0a7IjM8dEC4Yg8lwbnZP52MJpiSLcvHNjesmSs=                 30   \n",
            "QH6WsEFO0cDNqAgBzuFoKdPbpaq27+StO4I/6ATGfXc=                 30   \n",
            "...                                                         ...   \n",
            "R+puA1IoFN9ZIBZINnLZivZEAW8jv47H6D0zPNeGlGc=                180   \n",
            "uDT8cz06dz2Hwv0DspKzjDPcP4izsPH6HZgd9EvEgGg=                 30   \n",
            "2tfPyhPXlIGjqGMb+r/ZTmxeG/v0i28xY3xSn97gdOo=                180   \n",
            "TQvFyIQAcPI4qpzYoT9+b9dM9Odjnyw4ev3kOu1I5sI=                 90   \n",
            "TQvFyIQAcPI4qpzYoT9+b9dM9Odjnyw4ev3kOu1I5sI=                  7   \n",
            "\n",
            "                                              plan_list_price  \\\n",
            "msno                                                            \n",
            "dEPT6Ki6RIimMvKFy2B/iLhNalAIQVvVEznJwqcI5xg=              149   \n",
            "NZh6JkdKxv5+yzfxoJjDpqQqlxaWoLte6GoAUcD2RKs=               99   \n",
            "MQJh0JzTYfSzdsOH/ice1rsxouzE/dRDFeI4MhA3mqA=              149   \n",
            "TMBsL0a7IjM8dEC4Yg8lwbnZP52MJpiSLcvHNjesmSs=              180   \n",
            "QH6WsEFO0cDNqAgBzuFoKdPbpaq27+StO4I/6ATGfXc=              149   \n",
            "...                                                       ...   \n",
            "R+puA1IoFN9ZIBZINnLZivZEAW8jv47H6D0zPNeGlGc=              536   \n",
            "uDT8cz06dz2Hwv0DspKzjDPcP4izsPH6HZgd9EvEgGg=               99   \n",
            "2tfPyhPXlIGjqGMb+r/ZTmxeG/v0i28xY3xSn97gdOo=              536   \n",
            "TQvFyIQAcPI4qpzYoT9+b9dM9Odjnyw4ev3kOu1I5sI=              477   \n",
            "TQvFyIQAcPI4qpzYoT9+b9dM9Odjnyw4ev3kOu1I5sI=                0   \n",
            "\n",
            "                                              actual_amount_paid  \\\n",
            "msno                                                               \n",
            "dEPT6Ki6RIimMvKFy2B/iLhNalAIQVvVEznJwqcI5xg=                 149   \n",
            "NZh6JkdKxv5+yzfxoJjDpqQqlxaWoLte6GoAUcD2RKs=                  99   \n",
            "MQJh0JzTYfSzdsOH/ice1rsxouzE/dRDFeI4MhA3mqA=                 149   \n",
            "TMBsL0a7IjM8dEC4Yg8lwbnZP52MJpiSLcvHNjesmSs=                 180   \n",
            "QH6WsEFO0cDNqAgBzuFoKdPbpaq27+StO4I/6ATGfXc=                 149   \n",
            "...                                                          ...   \n",
            "R+puA1IoFN9ZIBZINnLZivZEAW8jv47H6D0zPNeGlGc=                 536   \n",
            "uDT8cz06dz2Hwv0DspKzjDPcP4izsPH6HZgd9EvEgGg=                  99   \n",
            "2tfPyhPXlIGjqGMb+r/ZTmxeG/v0i28xY3xSn97gdOo=                 536   \n",
            "TQvFyIQAcPI4qpzYoT9+b9dM9Odjnyw4ev3kOu1I5sI=                 477   \n",
            "TQvFyIQAcPI4qpzYoT9+b9dM9Odjnyw4ev3kOu1I5sI=                   0   \n",
            "\n",
            "                                              is_auto_renew transaction_date  \\\n",
            "msno                                                                           \n",
            "dEPT6Ki6RIimMvKFy2B/iLhNalAIQVvVEznJwqcI5xg=              1             2017   \n",
            "NZh6JkdKxv5+yzfxoJjDpqQqlxaWoLte6GoAUcD2RKs=              1             2017   \n",
            "MQJh0JzTYfSzdsOH/ice1rsxouzE/dRDFeI4MhA3mqA=              1             2017   \n",
            "TMBsL0a7IjM8dEC4Yg8lwbnZP52MJpiSLcvHNjesmSs=              0             2017   \n",
            "QH6WsEFO0cDNqAgBzuFoKdPbpaq27+StO4I/6ATGfXc=              0             2017   \n",
            "...                                                     ...              ...   \n",
            "R+puA1IoFN9ZIBZINnLZivZEAW8jv47H6D0zPNeGlGc=              0             2016   \n",
            "uDT8cz06dz2Hwv0DspKzjDPcP4izsPH6HZgd9EvEgGg=              1             2017   \n",
            "2tfPyhPXlIGjqGMb+r/ZTmxeG/v0i28xY3xSn97gdOo=              0             2016   \n",
            "TQvFyIQAcPI4qpzYoT9+b9dM9Odjnyw4ev3kOu1I5sI=              0             2016   \n",
            "TQvFyIQAcPI4qpzYoT9+b9dM9Odjnyw4ev3kOu1I5sI=              0             2016   \n",
            "\n",
            "                                             membership_expire_date  is_cancel  \n",
            "msno                                                                            \n",
            "dEPT6Ki6RIimMvKFy2B/iLhNalAIQVvVEznJwqcI5xg=                   2017          0  \n",
            "NZh6JkdKxv5+yzfxoJjDpqQqlxaWoLte6GoAUcD2RKs=                   2017          0  \n",
            "MQJh0JzTYfSzdsOH/ice1rsxouzE/dRDFeI4MhA3mqA=                   2017          0  \n",
            "TMBsL0a7IjM8dEC4Yg8lwbnZP52MJpiSLcvHNjesmSs=                   2017          0  \n",
            "QH6WsEFO0cDNqAgBzuFoKdPbpaq27+StO4I/6ATGfXc=                   2017          0  \n",
            "...                                                             ...        ...  \n",
            "R+puA1IoFN9ZIBZINnLZivZEAW8jv47H6D0zPNeGlGc=                   2017          0  \n",
            "uDT8cz06dz2Hwv0DspKzjDPcP4izsPH6HZgd9EvEgGg=                   2017          1  \n",
            "2tfPyhPXlIGjqGMb+r/ZTmxeG/v0i28xY3xSn97gdOo=                   2017          0  \n",
            "TQvFyIQAcPI4qpzYoT9+b9dM9Odjnyw4ev3kOu1I5sI=                   2017          0  \n",
            "TQvFyIQAcPI4qpzYoT9+b9dM9Odjnyw4ev3kOu1I5sI=                   2016          0  \n",
            "\n",
            "[4428 rows x 15 columns]\n"
          ]
        }
      ],
      "source": [
        "# set row names (index) to the msno column\n",
        "\n",
        "merged_data = merged_data.set_index('msno')\n",
        "\n",
        "print(merged_data)"
      ]
    },
    {
      "cell_type": "markdown",
      "metadata": {
        "id": "0UW2jO1iPzvO"
      },
      "source": [
        "Split training and test data"
      ]
    },
    {
      "cell_type": "code",
      "execution_count": null,
      "metadata": {
        "colab": {
          "base_uri": "https://localhost:8080/"
        },
        "id": "7MJbHQ6RQ2Gz",
        "outputId": "6d829628-7ccb-49d2-f663-8c3d8fc984c6"
      },
      "outputs": [
        {
          "output_type": "stream",
          "name": "stdout",
          "text": [
            "306\n",
            "4122\n"
          ]
        }
      ],
      "source": [
        "# Identify features and target variable\n",
        "X = merged_data.drop(['is_churn'], axis=1)\n",
        "y = merged_data['is_churn']\n",
        "\n",
        "yes_count = merged_data['is_churn'].value_counts().get(1, 0)\n",
        "no_count = merged_data['is_churn'].value_counts().get(0, 0)\n",
        "print(yes_count)\n",
        "print(no_count)"
      ]
    },
    {
      "cell_type": "code",
      "execution_count": null,
      "metadata": {
        "colab": {
          "base_uri": "https://localhost:8080/"
        },
        "id": "HVBREKYcPy2N",
        "outputId": "a50593b5-28d8-49fe-c93d-668d609a7776"
      },
      "outputs": [
        {
          "output_type": "stream",
          "name": "stdout",
          "text": [
            "     playtime_per_day  city  bd gender  registered_via registration_init_time  \\\n",
            "0         3054.982949     1   0     -1               7                   2016   \n",
            "1        21048.954481     8   0     -1               9                   2015   \n",
            "2         4645.567653     4  32      1               9                   2010   \n",
            "3         3618.238833     1   0     -1               7                   2014   \n",
            "4         3619.656167     4  25      0               3                   2012   \n",
            "..                ...   ...  ..    ...             ...                    ...   \n",
            "485       6345.836411    17  17      0               7                   2016   \n",
            "486       4254.758122     1   0     -1               7                   2011   \n",
            "487       7506.612632    22  33      1               9                   2011   \n",
            "488       4441.723980     5  41      1               9                   2009   \n",
            "489       4729.417708     1   0     -1               3                   2013   \n",
            "\n",
            "     payment_method_id  payment_plan_days  plan_list_price  \\\n",
            "0                   41                 30               99   \n",
            "1                   37                 30              149   \n",
            "2                   34                 30              149   \n",
            "3                   41                 30               99   \n",
            "4                   40                 30              149   \n",
            "..                 ...                ...              ...   \n",
            "485                 41                 30               99   \n",
            "486                 41                 30               99   \n",
            "487                 29                 30              180   \n",
            "488                 33                 30              149   \n",
            "489                 38                 30              149   \n",
            "\n",
            "     actual_amount_paid  is_auto_renew transaction_date  \\\n",
            "0                    99              1             2017   \n",
            "1                   149              1             2017   \n",
            "2                   149              1             2017   \n",
            "3                    99              1             2017   \n",
            "4                   149              1             2017   \n",
            "..                  ...            ...              ...   \n",
            "485                  99              1             2017   \n",
            "486                  99              1             2017   \n",
            "487                 180              1             2017   \n",
            "488                 149              1             2017   \n",
            "489                 149              0             2017   \n",
            "\n",
            "    membership_expire_date  is_cancel  \n",
            "0                     2017          0  \n",
            "1                     2017          0  \n",
            "2                     2017          0  \n",
            "3                     2017          0  \n",
            "4                     2017          0  \n",
            "..                     ...        ...  \n",
            "485                   2017          1  \n",
            "486                   2017          1  \n",
            "487                   2017          1  \n",
            "488                   2017          1  \n",
            "489                   2017          0  \n",
            "\n",
            "[490 rows x 14 columns]\n"
          ]
        }
      ],
      "source": [
        "from sklearn.model_selection import train_test_split\n",
        "from imblearn.under_sampling import RandomUnderSampler\n",
        "\n",
        "# Split the data into training and testing sets\n",
        "X_train, X_test, y_train, y_test = train_test_split(X, y, test_size=0.2, random_state=42, stratify=y)\n",
        "# Combine X_train and y_train into a single DataFrame for undersampling\n",
        "train_data = pd.concat([X_train, y_train], axis=1)\n",
        "\n",
        "# Identify the minority class label\n",
        "minority_class_label = train_data['is_churn'].value_counts().idxmin()\n",
        "\n",
        "# Apply random undersampling on imbalanced target data\n",
        "undersampler = RandomUnderSampler(sampling_strategy='auto', random_state=42)\n",
        "X_resampled, y_resampled = undersampler.fit_resample(train_data.drop('is_churn', axis=1), train_data['is_churn'])\n",
        "print(X_resampled)"
      ]
    },
    {
      "cell_type": "markdown",
      "metadata": {
        "id": "5tOChm64cwjo"
      },
      "source": [
        "Train and evaluate classification models (RANDOM FOREST AS AN EXAMPLE)"
      ]
    },
    {
      "cell_type": "code",
      "execution_count": null,
      "metadata": {
        "colab": {
          "base_uri": "https://localhost:8080/"
        },
        "id": "lP7K6AsNPy4Q",
        "outputId": "91a46102-06d7-436c-959e-59bf5399a652"
      },
      "outputs": [
        {
          "output_type": "stream",
          "name": "stdout",
          "text": [
            "Accuracy for Random Forest Classifier with 10 Estimators: 0.8916\n"
          ]
        }
      ],
      "source": [
        "from sklearn.ensemble import RandomForestClassifier\n",
        "from sklearn.metrics import accuracy_score\n",
        "\n",
        "RF = RandomForestClassifier(n_estimators=10, random_state=0)\n",
        "RF.fit(X_resampled, y_resampled)\n",
        "\n",
        "y_pred_RF = RF.predict(X_test)\n",
        "\n",
        "accuracy_RF = accuracy_score(y_test, y_pred_RF)\n",
        "print(f'Accuracy for Random Forest Classifier with 10 Estimators: {accuracy_RF:.4f}')"
      ]
    },
    {
      "cell_type": "markdown",
      "metadata": {
        "id": "7TqWV8ZNs4LE"
      },
      "source": [
        "EDA"
      ]
    },
    {
      "cell_type": "code",
      "execution_count": null,
      "metadata": {
        "colab": {
          "base_uri": "https://localhost:8080/",
          "height": 472
        },
        "id": "s_yadVbYvZvd",
        "outputId": "59ca5de7-bd37-4c67-8c11-38e817b015d3"
      },
      "outputs": [
        {
          "output_type": "display_data",
          "data": {
            "text/plain": [
              "<Figure size 640x480 with 1 Axes>"
            ],
            "image/png": "[encoded data removed]"
          },
          "metadata": {}
        }
      ],
      "source": [
        "# bar plot for number of churn\n",
        "\n",
        "count_churn = len(is_churn_df[(is_churn_df['is_churn'] == 1)])\n",
        "count_renewal = len(is_churn_df[(is_churn_df['is_churn'] == 0)])\n",
        "\n",
        "x = ['churn', 'renewal']\n",
        "y = [count_churn, count_renewal]\n",
        "\n",
        "plt.bar(x, y)\n",
        "\n",
        "plt.xlabel(\"Churn or not\")\n",
        "plt.ylabel(\"Count of members\")\n",
        "plt.title(\"Number of Churn vs. renewal members\")\n",
        "plt.show()"
      ]
    },
    {
      "cell_type": "code",
      "source": [
        "import matplotlib.pyplot as plt\n",
        "import seaborn as sns\n",
        "from sklearn.metrics import confusion_matrix, accuracy_score\n"
      ],
      "metadata": {
        "id": "KiaSON4L8FXL"
      },
      "execution_count": null,
      "outputs": []
    },
    {
      "cell_type": "code",
      "source": [
        "def plot_model_results(model, X_test, y_test, model_name):\n",
        "    y_pred = model.predict(X_test)\n",
        "    acc = accuracy_score(y_test, y_pred)\n",
        "    cm = confusion_matrix(y_test, y_pred)\n",
        "\n",
        "    plt.figure(figsize=(12, 5))\n",
        "\n",
        "    # Plotting Confusion Matrix\n",
        "    plt.subplot(1, 2, 1)\n",
        "    sns.heatmap(cm, annot=True, fmt=\"d\")\n",
        "    plt.title(f'Confusion Matrix for {model_name}')\n",
        "    plt.xlabel('Predicted')\n",
        "    plt.ylabel('True')\n",
        "\n",
        "    # Plotting Accuracy Score\n",
        "    plt.subplot(1, 2, 2)\n",
        "    plt.bar(model_name, acc)\n",
        "    plt.title(f'Accuracy Score for {model_name}')\n",
        "    plt.ylabel('Accuracy')\n",
        "\n",
        "    plt.tight_layout()\n",
        "    plt.show()\n"
      ],
      "metadata": {
        "id": "oagnKxcF8FZy"
      },
      "execution_count": null,
      "outputs": []
    },
    {
      "cell_type": "code",
      "source": [],
      "metadata": {
        "id": "mSd0fWqR8FcC"
      },
      "execution_count": null,
      "outputs": []
    },
    {
      "cell_type": "code",
      "source": [
        "from sklearn.tree import DecisionTreeClassifier\n",
        "\n",
        "# Creating the Decision Tree classifier\n",
        "dt = DecisionTreeClassifier(random_state=42)\n",
        "\n",
        "# Fitting the classifier to the resampled training data\n",
        "dt.fit(X_resampled, y_resampled)\n",
        "\n",
        "# Making predictions\n",
        "y_pred_dt = dt.predict(X_test)\n",
        "\n",
        "# Calculating accuracy\n",
        "accuracy_dt = accuracy_score(y_test, y_pred_dt)\n",
        "print(f'Accuracy for Decision Tree Classifier: {accuracy_dt:.4f}')\n"
      ],
      "metadata": {
        "colab": {
          "base_uri": "https://localhost:8080/"
        },
        "id": "F622LcZF7KIU",
        "outputId": "6c476ce0-b1c9-4f76-f0e2-7f2eb7d8e285"
      },
      "execution_count": null,
      "outputs": [
        {
          "output_type": "stream",
          "name": "stdout",
          "text": [
            "Accuracy for Decision Tree Classifier: 0.8781\n"
          ]
        }
      ]
    },
    {
      "cell_type": "code",
      "source": [
        "# For Decision Tree\n",
        "plot_model_results(dt, X_test, y_test, 'Decision Tree')"
      ],
      "metadata": {
        "colab": {
          "base_uri": "https://localhost:8080/",
          "height": 419
        },
        "id": "a_Gn01Ax8B76",
        "outputId": "c85ea364-7f89-4e98-8579-102400dcf285"
      },
      "execution_count": null,
      "outputs": [
        {
          "output_type": "display_data",
          "data": {
            "text/plain": [
              "<Figure size 1200x500 with 3 Axes>"
            ],
            "image/png": "[encoded data removed]"
          },
          "metadata": {}
        }
      ]
    },
    {
      "cell_type": "code",
      "source": [
        "from sklearn.ensemble import AdaBoostClassifier\n",
        "\n",
        "# Creating the AdaBoost classifier\n",
        "ab = AdaBoostClassifier(random_state=42)\n",
        "\n",
        "# Fitting the classifier to the resampled training data\n",
        "ab.fit(X_resampled, y_resampled)\n",
        "\n",
        "# Making predictions\n",
        "y_pred_ab = ab.predict(X_test)\n",
        "\n",
        "# Calculating accuracy\n",
        "accuracy_ab = accuracy_score(y_test, y_pred_ab)\n",
        "print(f'Accuracy for AdaBoost Classifier: {accuracy_ab:.4f}')\n"
      ],
      "metadata": {
        "colab": {
          "base_uri": "https://localhost:8080/"
        },
        "id": "U5Qv3Pq07KKi",
        "outputId": "ea931701-fcbd-4808-8acb-1cd7f16d0682"
      },
      "execution_count": null,
      "outputs": [
        {
          "output_type": "stream",
          "name": "stdout",
          "text": [
            "Accuracy for AdaBoost Classifier: 0.9018\n"
          ]
        }
      ]
    },
    {
      "cell_type": "code",
      "source": [
        "\n",
        "# For AdaBoost\n",
        "plot_model_results(ab, X_test, y_test, 'AdaBoost')"
      ],
      "metadata": {
        "colab": {
          "base_uri": "https://localhost:8080/",
          "height": 419
        },
        "id": "lTA7wMOf8N4A",
        "outputId": "029500a9-7729-4fc9-9982-e2c2e670d7cf"
      },
      "execution_count": null,
      "outputs": [
        {
          "output_type": "display_data",
          "data": {
            "text/plain": [
              "<Figure size 1200x500 with 3 Axes>"
            ],
            "image/png": "[encoded data removed]"
          },
          "metadata": {}
        }
      ]
    },
    {
      "cell_type": "code",
      "source": [
        "from sklearn.neighbors import KNeighborsClassifier\n",
        "\n",
        "# Creating the KNN classifier\n",
        "knn = KNeighborsClassifier()\n",
        "\n",
        "# Fitting the classifier to the resampled training data\n",
        "knn.fit(X_resampled, y_resampled)\n",
        "\n",
        "# Making predictions\n",
        "y_pred_knn = knn.predict(X_test)\n",
        "\n",
        "# Calculating accuracy\n",
        "accuracy_knn = accuracy_score(y_test, y_pred_knn)\n",
        "print(f'Accuracy for KNN Classifier: {accuracy_knn:.4f}')\n"
      ],
      "metadata": {
        "colab": {
          "base_uri": "https://localhost:8080/"
        },
        "id": "SDe-C5B17X9C",
        "outputId": "9884c9f6-f19e-459b-ffdd-6c3e88299989"
      },
      "execution_count": null,
      "outputs": [
        {
          "output_type": "stream",
          "name": "stdout",
          "text": [
            "Accuracy for KNN Classifier: 0.6038\n"
          ]
        }
      ]
    },
    {
      "cell_type": "code",
      "source": [
        "# For KNN\n",
        "plot_model_results(knn, X_test, y_test, 'KNN')"
      ],
      "metadata": {
        "colab": {
          "base_uri": "https://localhost:8080/",
          "height": 419
        },
        "id": "FIc_3LBS78WY",
        "outputId": "c5347ce9-cebf-4e9e-baba-265f40ad914d"
      },
      "execution_count": null,
      "outputs": [
        {
          "output_type": "display_data",
          "data": {
            "text/plain": [
              "<Figure size 1200x500 with 3 Axes>"
            ],
            "image/png": "[encoded data removed]"
          },
          "metadata": {}
        }
      ]
    },
    {
      "cell_type": "code",
      "source": [
        "import xgboost as xgb\n",
        "\n",
        "# Creating the XGBoost classifier\n",
        "xgb_clf = xgb.XGBClassifier(random_state=42)\n",
        "\n",
        "# Fitting the classifier to the resampled training data\n",
        "xgb_clf.fit(X_resampled, y_resampled)\n",
        "\n",
        "# Making predictions\n",
        "y_pred_xgb = xgb_clf.predict(X_test)\n",
        "\n",
        "# Calculating accuracy\n",
        "accuracy_xgb = accuracy_score(y_test, y_pred_xgb)\n",
        "print(f'Accuracy for XGBoost Classifier: {accuracy_xgb:.4f}')\n"
      ],
      "metadata": {
        "colab": {
          "base_uri": "https://localhost:8080/",
          "height": 425
        },
        "id": "ZfqhgHJF7KMk",
        "outputId": "c3ec2617-7539-4397-dfbf-d72e6cf094fd"
      },
      "execution_count": null,
      "outputs": [
        {
          "output_type": "error",
          "ename": "ValueError",
          "evalue": "ignored",
          "traceback": [
            "\u001b[0;31m---------------------------------------------------------------------------\u001b[0m",
            "\u001b[0;31mValueError\u001b[0m                                Traceback (most recent call last)",
            "\u001b[0;32m<ipython-input-39-a7224f4f36a1>\u001b[0m in \u001b[0;36m<cell line: 7>\u001b[0;34m()\u001b[0m\n\u001b[1;32m      5\u001b[0m \u001b[0;34m\u001b[0m\u001b[0m\n\u001b[1;32m      6\u001b[0m \u001b[0;31m# Fitting the classifier to the resampled training data\u001b[0m\u001b[0;34m\u001b[0m\u001b[0;34m\u001b[0m\u001b[0m\n\u001b[0;32m----> 7\u001b[0;31m \u001b[0mxgb_clf\u001b[0m\u001b[0;34m.\u001b[0m\u001b[0mfit\u001b[0m\u001b[0;34m(\u001b[0m\u001b[0mX_resampled\u001b[0m\u001b[0;34m,\u001b[0m \u001b[0my_resampled\u001b[0m\u001b[0;34m)\u001b[0m\u001b[0;34m\u001b[0m\u001b[0;34m\u001b[0m\u001b[0m\n\u001b[0m\u001b[1;32m      8\u001b[0m \u001b[0;34m\u001b[0m\u001b[0m\n\u001b[1;32m      9\u001b[0m \u001b[0;31m# Making predictions\u001b[0m\u001b[0;34m\u001b[0m\u001b[0;34m\u001b[0m\u001b[0m\n",
            "\u001b[0;32m/usr/local/lib/python3.10/dist-packages/xgboost/core.py\u001b[0m in \u001b[0;36minner_f\u001b[0;34m(*args, **kwargs)\u001b[0m\n\u001b[1;32m    727\u001b[0m             \u001b[0;32mfor\u001b[0m \u001b[0mk\u001b[0m\u001b[0;34m,\u001b[0m \u001b[0marg\u001b[0m \u001b[0;32min\u001b[0m \u001b[0mzip\u001b[0m\u001b[0;34m(\u001b[0m\u001b[0msig\u001b[0m\u001b[0;34m.\u001b[0m\u001b[0mparameters\u001b[0m\u001b[0;34m,\u001b[0m \u001b[0margs\u001b[0m\u001b[0;34m)\u001b[0m\u001b[0;34m:\u001b[0m\u001b[0;34m\u001b[0m\u001b[0;34m\u001b[0m\u001b[0m\n\u001b[1;32m    728\u001b[0m                 \u001b[0mkwargs\u001b[0m\u001b[0;34m[\u001b[0m\u001b[0mk\u001b[0m\u001b[0;34m]\u001b[0m \u001b[0;34m=\u001b[0m \u001b[0marg\u001b[0m\u001b[0;34m\u001b[0m\u001b[0;34m\u001b[0m\u001b[0m\n\u001b[0;32m--> 729\u001b[0;31m             \u001b[0;32mreturn\u001b[0m \u001b[0mfunc\u001b[0m\u001b[0;34m(\u001b[0m\u001b[0;34m**\u001b[0m\u001b[0mkwargs\u001b[0m\u001b[0;34m)\u001b[0m\u001b[0;34m\u001b[0m\u001b[0;34m\u001b[0m\u001b[0m\n\u001b[0m\u001b[1;32m    730\u001b[0m \u001b[0;34m\u001b[0m\u001b[0m\n\u001b[1;32m    731\u001b[0m         \u001b[0;32mreturn\u001b[0m \u001b[0minner_f\u001b[0m\u001b[0;34m\u001b[0m\u001b[0;34m\u001b[0m\u001b[0m\n",
            "\u001b[0;32m/usr/local/lib/python3.10/dist-packages/xgboost/sklearn.py\u001b[0m in \u001b[0;36mfit\u001b[0;34m(self, X, y, sample_weight, base_margin, eval_set, eval_metric, early_stopping_rounds, verbose, xgb_model, sample_weight_eval_set, base_margin_eval_set, feature_weights, callbacks)\u001b[0m\n\u001b[1;32m   1494\u001b[0m                 \u001b[0mxgb_model\u001b[0m\u001b[0;34m,\u001b[0m \u001b[0meval_metric\u001b[0m\u001b[0;34m,\u001b[0m \u001b[0mparams\u001b[0m\u001b[0;34m,\u001b[0m \u001b[0mearly_stopping_rounds\u001b[0m\u001b[0;34m,\u001b[0m \u001b[0mcallbacks\u001b[0m\u001b[0;34m\u001b[0m\u001b[0;34m\u001b[0m\u001b[0m\n\u001b[1;32m   1495\u001b[0m             )\n\u001b[0;32m-> 1496\u001b[0;31m             train_dmatrix, evals = _wrap_evaluation_matrices(\n\u001b[0m\u001b[1;32m   1497\u001b[0m                 \u001b[0mmissing\u001b[0m\u001b[0;34m=\u001b[0m\u001b[0mself\u001b[0m\u001b[0;34m.\u001b[0m\u001b[0mmissing\u001b[0m\u001b[0;34m,\u001b[0m\u001b[0;34m\u001b[0m\u001b[0;34m\u001b[0m\u001b[0m\n\u001b[1;32m   1498\u001b[0m                 \u001b[0mX\u001b[0m\u001b[0;34m=\u001b[0m\u001b[0mX\u001b[0m\u001b[0;34m,\u001b[0m\u001b[0;34m\u001b[0m\u001b[0;34m\u001b[0m\u001b[0m\n",
            "\u001b[0;32m/usr/local/lib/python3.10/dist-packages/xgboost/sklearn.py\u001b[0m in \u001b[0;36m_wrap_evaluation_matrices\u001b[0;34m(missing, X, y, group, qid, sample_weight, base_margin, feature_weights, eval_set, sample_weight_eval_set, base_margin_eval_set, eval_group, eval_qid, create_dmatrix, enable_categorical, feature_types)\u001b[0m\n\u001b[1;32m    532\u001b[0m     \"\"\"Convert array_like evaluation matrices into DMatrix.  Perform validation on the\n\u001b[1;32m    533\u001b[0m     way.\"\"\"\n\u001b[0;32m--> 534\u001b[0;31m     train_dmatrix = create_dmatrix(\n\u001b[0m\u001b[1;32m    535\u001b[0m         \u001b[0mdata\u001b[0m\u001b[0;34m=\u001b[0m\u001b[0mX\u001b[0m\u001b[0;34m,\u001b[0m\u001b[0;34m\u001b[0m\u001b[0;34m\u001b[0m\u001b[0m\n\u001b[1;32m    536\u001b[0m         \u001b[0mlabel\u001b[0m\u001b[0;34m=\u001b[0m\u001b[0my\u001b[0m\u001b[0;34m,\u001b[0m\u001b[0;34m\u001b[0m\u001b[0;34m\u001b[0m\u001b[0m\n",
            "\u001b[0;32m/usr/local/lib/python3.10/dist-packages/xgboost/sklearn.py\u001b[0m in \u001b[0;36m_create_dmatrix\u001b[0;34m(self, ref, **kwargs)\u001b[0m\n\u001b[1;32m    952\u001b[0m         \u001b[0;32mif\u001b[0m \u001b[0m_can_use_qdm\u001b[0m\u001b[0;34m(\u001b[0m\u001b[0mself\u001b[0m\u001b[0;34m.\u001b[0m\u001b[0mtree_method\u001b[0m\u001b[0;34m)\u001b[0m \u001b[0;32mand\u001b[0m \u001b[0mself\u001b[0m\u001b[0;34m.\u001b[0m\u001b[0mbooster\u001b[0m \u001b[0;34m!=\u001b[0m \u001b[0;34m\"gblinear\"\u001b[0m\u001b[0;34m:\u001b[0m\u001b[0;34m\u001b[0m\u001b[0;34m\u001b[0m\u001b[0m\n\u001b[1;32m    953\u001b[0m             \u001b[0;32mtry\u001b[0m\u001b[0;34m:\u001b[0m\u001b[0;34m\u001b[0m\u001b[0;34m\u001b[0m\u001b[0m\n\u001b[0;32m--> 954\u001b[0;31m                 return QuantileDMatrix(\n\u001b[0m\u001b[1;32m    955\u001b[0m                     \u001b[0;34m**\u001b[0m\u001b[0mkwargs\u001b[0m\u001b[0;34m,\u001b[0m \u001b[0mref\u001b[0m\u001b[0;34m=\u001b[0m\u001b[0mref\u001b[0m\u001b[0;34m,\u001b[0m \u001b[0mnthread\u001b[0m\u001b[0;34m=\u001b[0m\u001b[0mself\u001b[0m\u001b[0;34m.\u001b[0m\u001b[0mn_jobs\u001b[0m\u001b[0;34m,\u001b[0m \u001b[0mmax_bin\u001b[0m\u001b[0;34m=\u001b[0m\u001b[0mself\u001b[0m\u001b[0;34m.\u001b[0m\u001b[0mmax_bin\u001b[0m\u001b[0;34m\u001b[0m\u001b[0;34m\u001b[0m\u001b[0m\n\u001b[1;32m    956\u001b[0m                 )\n",
            "\u001b[0;32m/usr/local/lib/python3.10/dist-packages/xgboost/core.py\u001b[0m in \u001b[0;36minner_f\u001b[0;34m(*args, **kwargs)\u001b[0m\n\u001b[1;32m    727\u001b[0m             \u001b[0;32mfor\u001b[0m \u001b[0mk\u001b[0m\u001b[0;34m,\u001b[0m \u001b[0marg\u001b[0m \u001b[0;32min\u001b[0m \u001b[0mzip\u001b[0m\u001b[0;34m(\u001b[0m\u001b[0msig\u001b[0m\u001b[0;34m.\u001b[0m\u001b[0mparameters\u001b[0m\u001b[0;34m,\u001b[0m \u001b[0margs\u001b[0m\u001b[0;34m)\u001b[0m\u001b[0;34m:\u001b[0m\u001b[0;34m\u001b[0m\u001b[0;34m\u001b[0m\u001b[0m\n\u001b[1;32m    728\u001b[0m                 \u001b[0mkwargs\u001b[0m\u001b[0;34m[\u001b[0m\u001b[0mk\u001b[0m\u001b[0;34m]\u001b[0m \u001b[0;34m=\u001b[0m \u001b[0marg\u001b[0m\u001b[0;34m\u001b[0m\u001b[0;34m\u001b[0m\u001b[0m\n\u001b[0;32m--> 729\u001b[0;31m             \u001b[0;32mreturn\u001b[0m \u001b[0mfunc\u001b[0m\u001b[0;34m(\u001b[0m\u001b[0;34m**\u001b[0m\u001b[0mkwargs\u001b[0m\u001b[0;34m)\u001b[0m\u001b[0;34m\u001b[0m\u001b[0;34m\u001b[0m\u001b[0m\n\u001b[0m\u001b[1;32m    730\u001b[0m \u001b[0;34m\u001b[0m\u001b[0m\n\u001b[1;32m    731\u001b[0m         \u001b[0;32mreturn\u001b[0m \u001b[0minner_f\u001b[0m\u001b[0;34m\u001b[0m\u001b[0;34m\u001b[0m\u001b[0m\n",
            "\u001b[0;32m/usr/local/lib/python3.10/dist-packages/xgboost/core.py\u001b[0m in \u001b[0;36m__init__\u001b[0;34m(self, data, label, weight, base_margin, missing, silent, feature_names, feature_types, nthread, max_bin, ref, group, qid, label_lower_bound, label_upper_bound, feature_weights, enable_categorical, data_split_mode)\u001b[0m\n\u001b[1;32m   1526\u001b[0m                 )\n\u001b[1;32m   1527\u001b[0m \u001b[0;34m\u001b[0m\u001b[0m\n\u001b[0;32m-> 1528\u001b[0;31m         self._init(\n\u001b[0m\u001b[1;32m   1529\u001b[0m             \u001b[0mdata\u001b[0m\u001b[0;34m,\u001b[0m\u001b[0;34m\u001b[0m\u001b[0;34m\u001b[0m\u001b[0m\n\u001b[1;32m   1530\u001b[0m             \u001b[0mref\u001b[0m\u001b[0;34m=\u001b[0m\u001b[0mref\u001b[0m\u001b[0;34m,\u001b[0m\u001b[0;34m\u001b[0m\u001b[0;34m\u001b[0m\u001b[0m\n",
            "\u001b[0;32m/usr/local/lib/python3.10/dist-packages/xgboost/core.py\u001b[0m in \u001b[0;36m_init\u001b[0;34m(self, data, ref, enable_categorical, **meta)\u001b[0m\n\u001b[1;32m   1585\u001b[0m             \u001b[0mctypes\u001b[0m\u001b[0;34m.\u001b[0m\u001b[0mbyref\u001b[0m\u001b[0;34m(\u001b[0m\u001b[0mhandle\u001b[0m\u001b[0;34m)\u001b[0m\u001b[0;34m,\u001b[0m\u001b[0;34m\u001b[0m\u001b[0;34m\u001b[0m\u001b[0m\n\u001b[1;32m   1586\u001b[0m         )\n\u001b[0;32m-> 1587\u001b[0;31m         \u001b[0mit\u001b[0m\u001b[0;34m.\u001b[0m\u001b[0mreraise\u001b[0m\u001b[0;34m(\u001b[0m\u001b[0;34m)\u001b[0m\u001b[0;34m\u001b[0m\u001b[0;34m\u001b[0m\u001b[0m\n\u001b[0m\u001b[1;32m   1588\u001b[0m         \u001b[0;31m# delay check_call to throw intermediate exception first\u001b[0m\u001b[0;34m\u001b[0m\u001b[0;34m\u001b[0m\u001b[0m\n\u001b[1;32m   1589\u001b[0m         \u001b[0m_check_call\u001b[0m\u001b[0;34m(\u001b[0m\u001b[0mret\u001b[0m\u001b[0;34m)\u001b[0m\u001b[0;34m\u001b[0m\u001b[0;34m\u001b[0m\u001b[0m\n",
            "\u001b[0;32m/usr/local/lib/python3.10/dist-packages/xgboost/core.py\u001b[0m in \u001b[0;36mreraise\u001b[0;34m(self)\u001b[0m\n\u001b[1;32m    573\u001b[0m             \u001b[0mexc\u001b[0m \u001b[0;34m=\u001b[0m \u001b[0mself\u001b[0m\u001b[0;34m.\u001b[0m\u001b[0m_exception\u001b[0m\u001b[0;34m\u001b[0m\u001b[0;34m\u001b[0m\u001b[0m\n\u001b[1;32m    574\u001b[0m             \u001b[0mself\u001b[0m\u001b[0;34m.\u001b[0m\u001b[0m_exception\u001b[0m \u001b[0;34m=\u001b[0m \u001b[0;32mNone\u001b[0m\u001b[0;34m\u001b[0m\u001b[0;34m\u001b[0m\u001b[0m\n\u001b[0;32m--> 575\u001b[0;31m             \u001b[0;32mraise\u001b[0m \u001b[0mexc\u001b[0m  \u001b[0;31m# pylint: disable=raising-bad-type\u001b[0m\u001b[0;34m\u001b[0m\u001b[0;34m\u001b[0m\u001b[0m\n\u001b[0m\u001b[1;32m    576\u001b[0m \u001b[0;34m\u001b[0m\u001b[0m\n\u001b[1;32m    577\u001b[0m     \u001b[0;32mdef\u001b[0m \u001b[0m__del__\u001b[0m\u001b[0;34m(\u001b[0m\u001b[0mself\u001b[0m\u001b[0;34m)\u001b[0m \u001b[0;34m->\u001b[0m \u001b[0;32mNone\u001b[0m\u001b[0;34m:\u001b[0m\u001b[0;34m\u001b[0m\u001b[0;34m\u001b[0m\u001b[0m\n",
            "\u001b[0;32m/usr/local/lib/python3.10/dist-packages/xgboost/core.py\u001b[0m in \u001b[0;36m_handle_exception\u001b[0;34m(self, fn, dft_ret)\u001b[0m\n\u001b[1;32m    554\u001b[0m \u001b[0;34m\u001b[0m\u001b[0m\n\u001b[1;32m    555\u001b[0m         \u001b[0;32mtry\u001b[0m\u001b[0;34m:\u001b[0m\u001b[0;34m\u001b[0m\u001b[0;34m\u001b[0m\u001b[0m\n\u001b[0;32m--> 556\u001b[0;31m             \u001b[0;32mreturn\u001b[0m \u001b[0mfn\u001b[0m\u001b[0;34m(\u001b[0m\u001b[0;34m)\u001b[0m\u001b[0;34m\u001b[0m\u001b[0;34m\u001b[0m\u001b[0m\n\u001b[0m\u001b[1;32m    557\u001b[0m         \u001b[0;32mexcept\u001b[0m \u001b[0mException\u001b[0m \u001b[0;32mas\u001b[0m \u001b[0me\u001b[0m\u001b[0;34m:\u001b[0m  \u001b[0;31m# pylint: disable=broad-except\u001b[0m\u001b[0;34m\u001b[0m\u001b[0;34m\u001b[0m\u001b[0m\n\u001b[1;32m    558\u001b[0m             \u001b[0;31m# Defer the exception in order to return 0 and stop the iteration.\u001b[0m\u001b[0;34m\u001b[0m\u001b[0;34m\u001b[0m\u001b[0m\n",
            "\u001b[0;32m/usr/local/lib/python3.10/dist-packages/xgboost/core.py\u001b[0m in \u001b[0;36m<lambda>\u001b[0;34m()\u001b[0m\n\u001b[1;32m    638\u001b[0m \u001b[0;34m\u001b[0m\u001b[0m\n\u001b[1;32m    639\u001b[0m         \u001b[0;31m# pylint: disable=not-callable\u001b[0m\u001b[0;34m\u001b[0m\u001b[0;34m\u001b[0m\u001b[0m\n\u001b[0;32m--> 640\u001b[0;31m         \u001b[0;32mreturn\u001b[0m \u001b[0mself\u001b[0m\u001b[0;34m.\u001b[0m\u001b[0m_handle_exception\u001b[0m\u001b[0;34m(\u001b[0m\u001b[0;32mlambda\u001b[0m\u001b[0;34m:\u001b[0m \u001b[0mself\u001b[0m\u001b[0;34m.\u001b[0m\u001b[0mnext\u001b[0m\u001b[0;34m(\u001b[0m\u001b[0minput_data\u001b[0m\u001b[0;34m)\u001b[0m\u001b[0;34m,\u001b[0m \u001b[0;36m0\u001b[0m\u001b[0;34m)\u001b[0m\u001b[0;34m\u001b[0m\u001b[0;34m\u001b[0m\u001b[0m\n\u001b[0m\u001b[1;32m    641\u001b[0m \u001b[0;34m\u001b[0m\u001b[0m\n\u001b[1;32m    642\u001b[0m     \u001b[0;34m@\u001b[0m\u001b[0mabstractmethod\u001b[0m\u001b[0;34m\u001b[0m\u001b[0;34m\u001b[0m\u001b[0m\n",
            "\u001b[0;32m/usr/local/lib/python3.10/dist-packages/xgboost/data.py\u001b[0m in \u001b[0;36mnext\u001b[0;34m(self, input_data)\u001b[0m\n\u001b[1;32m   1278\u001b[0m             \u001b[0;32mreturn\u001b[0m \u001b[0;36m0\u001b[0m\u001b[0;34m\u001b[0m\u001b[0;34m\u001b[0m\u001b[0m\n\u001b[1;32m   1279\u001b[0m         \u001b[0mself\u001b[0m\u001b[0;34m.\u001b[0m\u001b[0mit\u001b[0m \u001b[0;34m+=\u001b[0m \u001b[0;36m1\u001b[0m\u001b[0;34m\u001b[0m\u001b[0;34m\u001b[0m\u001b[0m\n\u001b[0;32m-> 1280\u001b[0;31m         \u001b[0minput_data\u001b[0m\u001b[0;34m(\u001b[0m\u001b[0;34m**\u001b[0m\u001b[0mself\u001b[0m\u001b[0;34m.\u001b[0m\u001b[0mkwargs\u001b[0m\u001b[0;34m)\u001b[0m\u001b[0;34m\u001b[0m\u001b[0;34m\u001b[0m\u001b[0m\n\u001b[0m\u001b[1;32m   1281\u001b[0m         \u001b[0;32mreturn\u001b[0m \u001b[0;36m1\u001b[0m\u001b[0;34m\u001b[0m\u001b[0;34m\u001b[0m\u001b[0m\n\u001b[1;32m   1282\u001b[0m \u001b[0;34m\u001b[0m\u001b[0m\n",
            "\u001b[0;32m/usr/local/lib/python3.10/dist-packages/xgboost/core.py\u001b[0m in \u001b[0;36minner_f\u001b[0;34m(*args, **kwargs)\u001b[0m\n\u001b[1;32m    727\u001b[0m             \u001b[0;32mfor\u001b[0m \u001b[0mk\u001b[0m\u001b[0;34m,\u001b[0m \u001b[0marg\u001b[0m \u001b[0;32min\u001b[0m \u001b[0mzip\u001b[0m\u001b[0;34m(\u001b[0m\u001b[0msig\u001b[0m\u001b[0;34m.\u001b[0m\u001b[0mparameters\u001b[0m\u001b[0;34m,\u001b[0m \u001b[0margs\u001b[0m\u001b[0;34m)\u001b[0m\u001b[0;34m:\u001b[0m\u001b[0;34m\u001b[0m\u001b[0;34m\u001b[0m\u001b[0m\n\u001b[1;32m    728\u001b[0m                 \u001b[0mkwargs\u001b[0m\u001b[0;34m[\u001b[0m\u001b[0mk\u001b[0m\u001b[0;34m]\u001b[0m \u001b[0;34m=\u001b[0m \u001b[0marg\u001b[0m\u001b[0;34m\u001b[0m\u001b[0;34m\u001b[0m\u001b[0m\n\u001b[0;32m--> 729\u001b[0;31m             \u001b[0;32mreturn\u001b[0m \u001b[0mfunc\u001b[0m\u001b[0;34m(\u001b[0m\u001b[0;34m**\u001b[0m\u001b[0mkwargs\u001b[0m\u001b[0;34m)\u001b[0m\u001b[0;34m\u001b[0m\u001b[0;34m\u001b[0m\u001b[0m\n\u001b[0m\u001b[1;32m    730\u001b[0m \u001b[0;34m\u001b[0m\u001b[0m\n\u001b[1;32m    731\u001b[0m         \u001b[0;32mreturn\u001b[0m \u001b[0minner_f\u001b[0m\u001b[0;34m\u001b[0m\u001b[0;34m\u001b[0m\u001b[0m\n",
            "\u001b[0;32m/usr/local/lib/python3.10/dist-packages/xgboost/core.py\u001b[0m in \u001b[0;36minput_data\u001b[0;34m(data, feature_names, feature_types, **kwargs)\u001b[0m\n\u001b[1;32m    621\u001b[0m                 \u001b[0mnew\u001b[0m\u001b[0;34m,\u001b[0m \u001b[0mcat_codes\u001b[0m\u001b[0;34m,\u001b[0m \u001b[0mfeature_names\u001b[0m\u001b[0;34m,\u001b[0m \u001b[0mfeature_types\u001b[0m \u001b[0;34m=\u001b[0m \u001b[0mself\u001b[0m\u001b[0;34m.\u001b[0m\u001b[0m_temporary_data\u001b[0m\u001b[0;34m\u001b[0m\u001b[0;34m\u001b[0m\u001b[0m\n\u001b[1;32m    622\u001b[0m             \u001b[0;32melse\u001b[0m\u001b[0;34m:\u001b[0m\u001b[0;34m\u001b[0m\u001b[0;34m\u001b[0m\u001b[0m\n\u001b[0;32m--> 623\u001b[0;31m                 new, cat_codes, feature_names, feature_types = _proxy_transform(\n\u001b[0m\u001b[1;32m    624\u001b[0m                     \u001b[0mdata\u001b[0m\u001b[0;34m,\u001b[0m\u001b[0;34m\u001b[0m\u001b[0;34m\u001b[0m\u001b[0m\n\u001b[1;32m    625\u001b[0m                     \u001b[0mfeature_names\u001b[0m\u001b[0;34m,\u001b[0m\u001b[0;34m\u001b[0m\u001b[0;34m\u001b[0m\u001b[0m\n",
            "\u001b[0;32m/usr/local/lib/python3.10/dist-packages/xgboost/data.py\u001b[0m in \u001b[0;36m_proxy_transform\u001b[0;34m(data, feature_names, feature_types, enable_categorical)\u001b[0m\n\u001b[1;32m   1313\u001b[0m         \u001b[0mdata\u001b[0m \u001b[0;34m=\u001b[0m \u001b[0mpd\u001b[0m\u001b[0;34m.\u001b[0m\u001b[0mDataFrame\u001b[0m\u001b[0;34m(\u001b[0m\u001b[0mdata\u001b[0m\u001b[0;34m)\u001b[0m\u001b[0;34m\u001b[0m\u001b[0;34m\u001b[0m\u001b[0m\n\u001b[1;32m   1314\u001b[0m     \u001b[0;32mif\u001b[0m \u001b[0m_is_pandas_df\u001b[0m\u001b[0;34m(\u001b[0m\u001b[0mdata\u001b[0m\u001b[0;34m)\u001b[0m\u001b[0;34m:\u001b[0m\u001b[0;34m\u001b[0m\u001b[0;34m\u001b[0m\u001b[0m\n\u001b[0;32m-> 1315\u001b[0;31m         arr, feature_names, feature_types = _transform_pandas_df(\n\u001b[0m\u001b[1;32m   1316\u001b[0m             \u001b[0mdata\u001b[0m\u001b[0;34m,\u001b[0m \u001b[0menable_categorical\u001b[0m\u001b[0;34m,\u001b[0m \u001b[0mfeature_names\u001b[0m\u001b[0;34m,\u001b[0m \u001b[0mfeature_types\u001b[0m\u001b[0;34m\u001b[0m\u001b[0;34m\u001b[0m\u001b[0m\n\u001b[1;32m   1317\u001b[0m         )\n",
            "\u001b[0;32m/usr/local/lib/python3.10/dist-packages/xgboost/data.py\u001b[0m in \u001b[0;36m_transform_pandas_df\u001b[0;34m(data, enable_categorical, feature_names, feature_types, meta, meta_type)\u001b[0m\n\u001b[1;32m    488\u001b[0m             \u001b[0;32mor\u001b[0m \u001b[0mis_pa_ext_dtype\u001b[0m\u001b[0;34m(\u001b[0m\u001b[0mdtype\u001b[0m\u001b[0;34m)\u001b[0m\u001b[0;34m\u001b[0m\u001b[0;34m\u001b[0m\u001b[0m\n\u001b[1;32m    489\u001b[0m         ):\n\u001b[0;32m--> 490\u001b[0;31m             \u001b[0m_invalid_dataframe_dtype\u001b[0m\u001b[0;34m(\u001b[0m\u001b[0mdata\u001b[0m\u001b[0;34m)\u001b[0m\u001b[0;34m\u001b[0m\u001b[0;34m\u001b[0m\u001b[0m\n\u001b[0m\u001b[1;32m    491\u001b[0m         \u001b[0;32mif\u001b[0m \u001b[0mis_pa_ext_dtype\u001b[0m\u001b[0;34m(\u001b[0m\u001b[0mdtype\u001b[0m\u001b[0;34m)\u001b[0m\u001b[0;34m:\u001b[0m\u001b[0;34m\u001b[0m\u001b[0;34m\u001b[0m\u001b[0m\n\u001b[1;32m    492\u001b[0m             \u001b[0mpyarrow_extension\u001b[0m \u001b[0;34m=\u001b[0m \u001b[0;32mTrue\u001b[0m\u001b[0;34m\u001b[0m\u001b[0;34m\u001b[0m\u001b[0m\n",
            "\u001b[0;32m/usr/local/lib/python3.10/dist-packages/xgboost/data.py\u001b[0m in \u001b[0;36m_invalid_dataframe_dtype\u001b[0;34m(data)\u001b[0m\n\u001b[1;32m    306\u001b[0m     \u001b[0mtype_err\u001b[0m \u001b[0;34m=\u001b[0m \u001b[0;34m\"DataFrame.dtypes for data must be int, float, bool or category.\"\u001b[0m\u001b[0;34m\u001b[0m\u001b[0;34m\u001b[0m\u001b[0m\n\u001b[1;32m    307\u001b[0m     \u001b[0mmsg\u001b[0m \u001b[0;34m=\u001b[0m \u001b[0;34mf\"\"\"{type_err} {_ENABLE_CAT_ERR} {err}\"\"\"\u001b[0m\u001b[0;34m\u001b[0m\u001b[0;34m\u001b[0m\u001b[0m\n\u001b[0;32m--> 308\u001b[0;31m     \u001b[0;32mraise\u001b[0m \u001b[0mValueError\u001b[0m\u001b[0;34m(\u001b[0m\u001b[0mmsg\u001b[0m\u001b[0;34m)\u001b[0m\u001b[0;34m\u001b[0m\u001b[0;34m\u001b[0m\u001b[0m\n\u001b[0m\u001b[1;32m    309\u001b[0m \u001b[0;34m\u001b[0m\u001b[0m\n\u001b[1;32m    310\u001b[0m \u001b[0;34m\u001b[0m\u001b[0m\n",
            "\u001b[0;31mValueError\u001b[0m: DataFrame.dtypes for data must be int, float, bool or category. When categorical type is supplied, The experimental DMatrix parameter`enable_categorical` must be set to `True`.  Invalid columns:gender: object, registration_init_time: object, transaction_date: object, membership_expire_date: object"
          ]
        }
      ]
    },
    {
      "cell_type": "code",
      "source": [],
      "metadata": {
        "id": "OvsE3i_J7KQH"
      },
      "execution_count": null,
      "outputs": []
    },
    {
      "cell_type": "code",
      "source": [],
      "metadata": {
        "id": "TsRJc6jH7vpW"
      },
      "execution_count": null,
      "outputs": []
    },
    {
      "cell_type": "code",
      "source": [],
      "metadata": {
        "id": "nljXUPOO75ys"
      },
      "execution_count": null,
      "outputs": []
    },
    {
      "cell_type": "code",
      "source": [],
      "metadata": {
        "id": "0OuazlFX751R"
      },
      "execution_count": null,
      "outputs": []
    },
    {
      "cell_type": "code",
      "source": [],
      "metadata": {
        "id": "FVz-fCbS7534"
      },
      "execution_count": null,
      "outputs": []
    },
    {
      "cell_type": "code",
      "source": [],
      "metadata": {
        "id": "ZBKJ9SvR7vul"
      },
      "execution_count": null,
      "outputs": []
    },
    {
      "cell_type": "code",
      "source": [],
      "metadata": {
        "id": "vZ4GT_mc7vxK"
      },
      "execution_count": null,
      "outputs": []
    }
  ],
  "metadata": {
    "colab": {
      "provenance": [],
      "include_colab_link": true
    },
    "kernelspec": {
      "display_name": "Python 3 (ipykernel)",
      "language": "python",
      "name": "python3"
    },
    "language_info": {
      "codemirror_mode": {
        "name": "ipython",
        "version": 3
      },
      "file_extension": ".py",
      "mimetype": "text/x-python",
      "name": "python",
      "nbconvert_exporter": "python",
      "pygments_lexer": "ipython3",
      "version": "3.9.13"
    }
  },
  "nbformat": 4,
  "nbformat_minor": 0
}