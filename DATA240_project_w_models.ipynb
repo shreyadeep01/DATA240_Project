{
  "cells": [
    {
      "cell_type": "markdown",
      "metadata": {
        "colab_type": "text",
        "id": "view-in-github"
      },
      "source": [
        "<a href=\"https://colab.research.google.com/github/shreyadeep01/DATA240_Project/blob/initial-colab-change-files-_sh/DATA240_project_w_models.ipynb\" target=\"_parent\"><img src=\"https://colab.research.google.com/assets/colab-badge.svg\" alt=\"Open In Colab\"/></a>"
      ]
    },
    {
      "cell_type": "code",
      "execution_count": 1,
      "metadata": {
        "colab": {
          "base_uri": "https://localhost:8080/"
        },
        "id": "2mptajWMg7LU",
        "outputId": "7f145d07-164f-47c0-8624-c554a38b11ea"
      },
      "outputs": [],
      "source": [
        "#from google.colab import drive\n",
        "#drive.mount('/content/drive')"
      ]
    },
    {
      "cell_type": "code",
      "execution_count": 2,
      "metadata": {},
      "outputs": [],
      "source": [
        "import pandas as pd\n",
        "import numpy as np\n",
        "\n",
        "import matplotlib.pyplot as plt"
      ]
    },
    {
      "cell_type": "markdown",
      "metadata": {
        "id": "RJ5sEjD8PMhG"
      },
      "source": [
        "Load datasets from Google drives"
      ]
    },
    {
      "cell_type": "code",
      "execution_count": 3,
      "metadata": {
        "id": "_jRdUXFmAUzQ"
      },
      "outputs": [],
      "source": [
        "is_churn_url = 'https://drive.google.com/file/d/1P43072y7KI4RUOKgWzZc3ov8kMaFQMVA/view?usp=sharing'\n",
        "is_churn_url = 'https://drive.google.com/uc?id=' + is_churn_url.split('/')[-2]\n",
        "\n",
        "# is_churn_url = 'is_churn.csv'\n",
        "is_churn_df = pd.read_csv(is_churn_url)\n",
        "\n",
        "# print(is_churn_df)"
      ]
    },
    {
      "cell_type": "code",
      "execution_count": 4,
      "metadata": {
        "id": "fOcDvqSBMc1p"
      },
      "outputs": [],
      "source": [
        "transactions_url = 'https://drive.google.com/file/d/1oPbL4uWPtFvq41IqNfMNW7QUaGA3INXV/view?usp=sharing'\n",
        "transactions_url = 'https://drive.google.com/uc?id=' + transactions_url.split('/')[-2]\n",
        "# transactions_url = 'transactions.csv'\n",
        "transactions_df = pd.read_csv(transactions_url)\n",
        "\n",
        "# print(transactions_df)"
      ]
    },
    {
      "cell_type": "code",
      "execution_count": 5,
      "metadata": {
        "id": "Itf_1tg2Mc86"
      },
      "outputs": [],
      "source": [
        "user_logs_url = 'https://drive.google.com/file/d/1FNMohIsfIcBFs2V-0m43qYoIGP1gCLQe/view?usp=sharing'\n",
        "user_logs_url = 'https://drive.google.com/uc?id=' + user_logs_url.split('/')[-2]\n",
        "\n",
        "user_logs_df = pd.read_csv(user_logs_url)\n",
        "\n",
        "# print(user_logs_df)"
      ]
    },
    {
      "cell_type": "code",
      "execution_count": 6,
      "metadata": {
        "id": "qQCGk852MdGr"
      },
      "outputs": [],
      "source": [
        "members_url = 'https://drive.google.com/file/d/1yWY0mrpyEU3Ug98H8JsbQ-esROu5L5X6/view?usp=sharing'\n",
        "members_url = 'https://drive.google.com/uc?id=' + members_url.split('/')[-2]\n",
        "\n",
        "# members_path = 'members.csv'\n",
        "members_df = pd.read_csv(members_url)\n",
        "\n",
        "# print(members_df)"
      ]
    },
    {
      "cell_type": "markdown",
      "metadata": {
        "id": "DhLdBGx0PZS4"
      },
      "source": [
        "Merge four datasets into a large dataset"
      ]
    },
    {
      "cell_type": "code",
      "execution_count": 7,
      "metadata": {
        "colab": {
          "base_uri": "https://localhost:8080/"
        },
        "id": "kRoYZeOaRm6i",
        "outputId": "1eb1dffb-f415-47dd-c2da-1ca501920b3c"
      },
      "outputs": [
        {
          "name": "stdout",
          "output_type": "stream",
          "text": [
            "msno                ++LEgyw4z5zuPu61SoBhMicDimkV+A9kPbcMaQgC/7c=\n",
            "playtime_per_day                            -320255973495365.125\n",
            "dtype: object\n"
          ]
        }
      ],
      "source": [
        "# count the average playtime per day for every member\n",
        "\n",
        "avg_playtime = user_logs_df.groupby('msno', as_index=False)['total_secs'].mean()\n",
        "avg_playtime = avg_playtime.rename(columns={\"total_secs\": \"playtime_per_day\"})\n",
        "print(avg_playtime.min())"
      ]
    },
    {
      "cell_type": "code",
      "execution_count": 8,
      "metadata": {
        "id": "dj66GyDWRm8X"
      },
      "outputs": [],
      "source": [
        "# calculate the total length of membership plan in days\n",
        "\n",
        "membership_days = transactions_df.groupby('msno', as_index=False)['payment_plan_days'].sum()\n",
        "latest_transaction_date = transactions_df.groupby('msno', as_index=False)['transaction_date'].max()\n",
        "latest_transactions = transactions_df.merge(latest_transaction_date, on=[\"msno\", \"transaction_date\"])\n",
        "# print(latest_transactions)"
      ]
    },
    {
      "cell_type": "code",
      "execution_count": 9,
      "metadata": {
        "colab": {
          "base_uri": "https://localhost:8080/"
        },
        "id": "WvEcfPJ53imG",
        "outputId": "9a169dd6-182c-4ec4-8928-92fa7519f495"
      },
      "outputs": [
        {
          "name": "stdout",
          "output_type": "stream",
          "text": [
            "                                              msno  is_churn  \\\n",
            "0     dEPT6Ki6RIimMvKFy2B/iLhNalAIQVvVEznJwqcI5xg=         0   \n",
            "1     NZh6JkdKxv5+yzfxoJjDpqQqlxaWoLte6GoAUcD2RKs=         0   \n",
            "2     MQJh0JzTYfSzdsOH/ice1rsxouzE/dRDFeI4MhA3mqA=         0   \n",
            "3     TMBsL0a7IjM8dEC4Yg8lwbnZP52MJpiSLcvHNjesmSs=         0   \n",
            "4     QH6WsEFO0cDNqAgBzuFoKdPbpaq27+StO4I/6ATGfXc=         0   \n",
            "...                                            ...       ...   \n",
            "4423  R+puA1IoFN9ZIBZINnLZivZEAW8jv47H6D0zPNeGlGc=         1   \n",
            "4424  uDT8cz06dz2Hwv0DspKzjDPcP4izsPH6HZgd9EvEgGg=         1   \n",
            "4425  2tfPyhPXlIGjqGMb+r/ZTmxeG/v0i28xY3xSn97gdOo=         1   \n",
            "4426  TQvFyIQAcPI4qpzYoT9+b9dM9Odjnyw4ev3kOu1I5sI=         1   \n",
            "4427  TQvFyIQAcPI4qpzYoT9+b9dM9Odjnyw4ev3kOu1I5sI=         1   \n",
            "\n",
            "      playtime_per_day  city  bd  gender  registered_via  \\\n",
            "0         1.481261e+04    22  35    male               9   \n",
            "1         1.446139e+03     1   0     NaN               7   \n",
            "2         3.540335e+03     8  32  female               7   \n",
            "3         2.101799e+03    12  21    male               4   \n",
            "4         2.693799e+04     1   0     NaN               7   \n",
            "...                ...   ...  ..     ...             ...   \n",
            "4423     -4.303284e+13     4  38  female               7   \n",
            "4424      6.345836e+03    17  17  female               7   \n",
            "4425      6.386885e+03    13  35  female               9   \n",
            "4426      6.546864e+03     1   0     NaN               4   \n",
            "4427      6.546864e+03     1   0     NaN               4   \n",
            "\n",
            "      registration_init_time  payment_method_id  payment_plan_days  \\\n",
            "0                   20110613                 31                 30   \n",
            "1                   20110111                 41                 30   \n",
            "2                   20110205                 41                 30   \n",
            "3                   20161005                 36                 30   \n",
            "4                   20130901                 38                 30   \n",
            "...                      ...                ...                ...   \n",
            "4423                20140116                 32                180   \n",
            "4424                20160204                 41                 30   \n",
            "4425                20050817                 32                180   \n",
            "4426                20161104                 38                 90   \n",
            "4427                20161104                 35                  7   \n",
            "\n",
            "      plan_list_price  actual_amount_paid  is_auto_renew  transaction_date  \\\n",
            "0                 149                 149              1          20170228   \n",
            "1                  99                  99              1          20170210   \n",
            "2                 149                 149              1          20170215   \n",
            "3                 180                 180              0          20170217   \n",
            "4                 149                 149              0          20170220   \n",
            "...               ...                 ...            ...               ...   \n",
            "4423              536                 536              0          20160823   \n",
            "4424               99                  99              1          20170204   \n",
            "4425              536                 536              0          20160811   \n",
            "4426              477                 477              0          20161104   \n",
            "4427                0                   0              0          20161104   \n",
            "\n",
            "      membership_expire_date  is_cancel  \n",
            "0                   20170331          0  \n",
            "1                   20170310          0  \n",
            "2                   20170316          0  \n",
            "3                   20170319          0  \n",
            "4                   20170322          0  \n",
            "...                      ...        ...  \n",
            "4423                20170222          0  \n",
            "4424                20170204          1  \n",
            "4425                20170210          0  \n",
            "4426                20170209          0  \n",
            "4427                20161111          0  \n",
            "\n",
            "[4428 rows x 16 columns]\n"
          ]
        }
      ],
      "source": [
        "# merge all dataset\n",
        "\n",
        "merged_data = is_churn_df.merge(avg_playtime, how='inner', on=[\"msno\"]).merge(members_df, how='inner', on=\"msno\").merge(latest_transactions, how='inner', on=[\"msno\"])\n",
        "\n",
        "print(merged_data)"
      ]
    },
    {
      "cell_type": "code",
      "execution_count": 10,
      "metadata": {
        "colab": {
          "base_uri": "https://localhost:8080/"
        },
        "id": "haFH06HE48_D",
        "outputId": "df7243f6-2597-4e40-c139-31570672b506"
      },
      "outputs": [
        {
          "data": {
            "text/plain": [
              "msno                         0\n",
              "is_churn                     0\n",
              "playtime_per_day             0\n",
              "city                         0\n",
              "bd                           0\n",
              "gender                    2471\n",
              "registered_via               0\n",
              "registration_init_time       0\n",
              "payment_method_id            0\n",
              "payment_plan_days            0\n",
              "plan_list_price              0\n",
              "actual_amount_paid           0\n",
              "is_auto_renew                0\n",
              "transaction_date             0\n",
              "membership_expire_date       0\n",
              "is_cancel                    0\n",
              "dtype: int64"
            ]
          },
          "execution_count": 10,
          "metadata": {},
          "output_type": "execute_result"
        }
      ],
      "source": [
        "# check missing values\n",
        "\n",
        "merged_data.isna().sum(axis = 0)"
      ]
    },
    {
      "cell_type": "code",
      "execution_count": 11,
      "metadata": {
        "id": "Ym6e7kEhO4qY"
      },
      "outputs": [],
      "source": [
        "# Replace missing values in column 'gender' with integer -1\n",
        "\n",
        "merged_data[['gender']] = merged_data[['gender']].fillna('-1')"
      ]
    },
    {
      "cell_type": "code",
      "execution_count": 12,
      "metadata": {
        "colab": {
          "base_uri": "https://localhost:8080/"
        },
        "id": "YzGc4Jr9VixT",
        "outputId": "b7bb52a5-df40-4f2a-d3e7-4dcbc1689f8f"
      },
      "outputs": [
        {
          "name": "stdout",
          "output_type": "stream",
          "text": [
            "                                              msno  is_churn  \\\n",
            "0     dEPT6Ki6RIimMvKFy2B/iLhNalAIQVvVEznJwqcI5xg=         0   \n",
            "1     NZh6JkdKxv5+yzfxoJjDpqQqlxaWoLte6GoAUcD2RKs=         0   \n",
            "2     MQJh0JzTYfSzdsOH/ice1rsxouzE/dRDFeI4MhA3mqA=         0   \n",
            "3     TMBsL0a7IjM8dEC4Yg8lwbnZP52MJpiSLcvHNjesmSs=         0   \n",
            "4     QH6WsEFO0cDNqAgBzuFoKdPbpaq27+StO4I/6ATGfXc=         0   \n",
            "...                                            ...       ...   \n",
            "4423  R+puA1IoFN9ZIBZINnLZivZEAW8jv47H6D0zPNeGlGc=         1   \n",
            "4424  uDT8cz06dz2Hwv0DspKzjDPcP4izsPH6HZgd9EvEgGg=         1   \n",
            "4425  2tfPyhPXlIGjqGMb+r/ZTmxeG/v0i28xY3xSn97gdOo=         1   \n",
            "4426  TQvFyIQAcPI4qpzYoT9+b9dM9Odjnyw4ev3kOu1I5sI=         1   \n",
            "4427  TQvFyIQAcPI4qpzYoT9+b9dM9Odjnyw4ev3kOu1I5sI=         1   \n",
            "\n",
            "      playtime_per_day  city  bd  gender  registered_via  \\\n",
            "0         1.481261e+04    22  35    male               9   \n",
            "1         1.446139e+03     1   0      -1               7   \n",
            "2         3.540335e+03     8  32  female               7   \n",
            "3         2.101799e+03    12  21    male               4   \n",
            "4         2.693799e+04     1   0      -1               7   \n",
            "...                ...   ...  ..     ...             ...   \n",
            "4423     -4.303284e+13     4  38  female               7   \n",
            "4424      6.345836e+03    17  17  female               7   \n",
            "4425      6.386885e+03    13  35  female               9   \n",
            "4426      6.546864e+03     1   0      -1               4   \n",
            "4427      6.546864e+03     1   0      -1               4   \n",
            "\n",
            "     registration_init_time  payment_method_id  payment_plan_days  \\\n",
            "0                      2011                 31                 30   \n",
            "1                      2011                 41                 30   \n",
            "2                      2011                 41                 30   \n",
            "3                      2016                 36                 30   \n",
            "4                      2013                 38                 30   \n",
            "...                     ...                ...                ...   \n",
            "4423                   2014                 32                180   \n",
            "4424                   2016                 41                 30   \n",
            "4425                   2005                 32                180   \n",
            "4426                   2016                 38                 90   \n",
            "4427                   2016                 35                  7   \n",
            "\n",
            "      plan_list_price  actual_amount_paid  is_auto_renew transaction_date  \\\n",
            "0                 149                 149              1             2017   \n",
            "1                  99                  99              1             2017   \n",
            "2                 149                 149              1             2017   \n",
            "3                 180                 180              0             2017   \n",
            "4                 149                 149              0             2017   \n",
            "...               ...                 ...            ...              ...   \n",
            "4423              536                 536              0             2016   \n",
            "4424               99                  99              1             2017   \n",
            "4425              536                 536              0             2016   \n",
            "4426              477                 477              0             2016   \n",
            "4427                0                   0              0             2016   \n",
            "\n",
            "     membership_expire_date  is_cancel  \n",
            "0                      2017          0  \n",
            "1                      2017          0  \n",
            "2                      2017          0  \n",
            "3                      2017          0  \n",
            "4                      2017          0  \n",
            "...                     ...        ...  \n",
            "4423                   2017          0  \n",
            "4424                   2017          1  \n",
            "4425                   2017          0  \n",
            "4426                   2017          0  \n",
            "4427                   2016          0  \n",
            "\n",
            "[4428 rows x 16 columns]\n"
          ]
        }
      ],
      "source": [
        "# Convert registration_init_time, transaction_date, membership_expire_date to years\n",
        "\n",
        "merged_data['registration_init_time'] = merged_data['registration_init_time'].astype(str).str[:4]\n",
        "merged_data['transaction_date'] = merged_data['transaction_date'].astype(str).str[:4]\n",
        "merged_data['membership_expire_date'] = merged_data['membership_expire_date'].astype(str).str[:4]\n",
        "\n",
        "print(merged_data)"
      ]
    },
    {
      "cell_type": "code",
      "execution_count": 13,
      "metadata": {
        "id": "W6HPPFjhX4lW"
      },
      "outputs": [],
      "source": [
        "# replacing values in column gender\n",
        "merged_data['gender'].replace(['female', 'male'],\n",
        "                        [0, 1], inplace=True)"
      ]
    },
    {
      "cell_type": "code",
      "execution_count": 14,
      "metadata": {},
      "outputs": [],
      "source": [
        "# convert all columns datatype to numeric\n",
        "\n",
        "merged_data['gender'] = merged_data['gender'].astype(int)\n",
        "merged_data['registration_init_time'] = merged_data['registration_init_time'].astype(int)\n",
        "merged_data['transaction_date'] = merged_data['transaction_date'].astype(int)\n",
        "merged_data['membership_expire_date'] = merged_data['membership_expire_date'].astype(int)"
      ]
    },
    {
      "cell_type": "code",
      "execution_count": 15,
      "metadata": {
        "colab": {
          "base_uri": "https://localhost:8080/"
        },
        "id": "X0eg5WHJWCAY",
        "outputId": "caea65d6-f91d-4483-c5cb-027ce315c099"
      },
      "outputs": [
        {
          "data": {
            "text/plain": [
              "msno                       object\n",
              "is_churn                    int64\n",
              "playtime_per_day          float64\n",
              "city                        int64\n",
              "bd                          int64\n",
              "gender                      int64\n",
              "registered_via              int64\n",
              "registration_init_time      int64\n",
              "payment_method_id           int64\n",
              "payment_plan_days           int64\n",
              "plan_list_price             int64\n",
              "actual_amount_paid          int64\n",
              "is_auto_renew               int64\n",
              "transaction_date            int64\n",
              "membership_expire_date      int64\n",
              "is_cancel                   int64\n",
              "dtype: object"
            ]
          },
          "execution_count": 15,
          "metadata": {},
          "output_type": "execute_result"
        }
      ],
      "source": [
        "merged_data.dtypes"
      ]
    },
    {
      "cell_type": "code",
      "execution_count": 16,
      "metadata": {
        "colab": {
          "base_uri": "https://localhost:8080/"
        },
        "id": "mPcr7jN4VizZ",
        "outputId": "173c472e-fdc2-459e-b3c2-eb13ee3397d0"
      },
      "outputs": [
        {
          "name": "stdout",
          "output_type": "stream",
          "text": [
            "                                              is_churn  playtime_per_day  \\\n",
            "msno                                                                       \n",
            "dEPT6Ki6RIimMvKFy2B/iLhNalAIQVvVEznJwqcI5xg=         0      1.481261e+04   \n",
            "NZh6JkdKxv5+yzfxoJjDpqQqlxaWoLte6GoAUcD2RKs=         0      1.446139e+03   \n",
            "MQJh0JzTYfSzdsOH/ice1rsxouzE/dRDFeI4MhA3mqA=         0      3.540335e+03   \n",
            "TMBsL0a7IjM8dEC4Yg8lwbnZP52MJpiSLcvHNjesmSs=         0      2.101799e+03   \n",
            "QH6WsEFO0cDNqAgBzuFoKdPbpaq27+StO4I/6ATGfXc=         0      2.693799e+04   \n",
            "...                                                ...               ...   \n",
            "R+puA1IoFN9ZIBZINnLZivZEAW8jv47H6D0zPNeGlGc=         1     -4.303284e+13   \n",
            "uDT8cz06dz2Hwv0DspKzjDPcP4izsPH6HZgd9EvEgGg=         1      6.345836e+03   \n",
            "2tfPyhPXlIGjqGMb+r/ZTmxeG/v0i28xY3xSn97gdOo=         1      6.386885e+03   \n",
            "TQvFyIQAcPI4qpzYoT9+b9dM9Odjnyw4ev3kOu1I5sI=         1      6.546864e+03   \n",
            "TQvFyIQAcPI4qpzYoT9+b9dM9Odjnyw4ev3kOu1I5sI=         1      6.546864e+03   \n",
            "\n",
            "                                              city  bd  gender  \\\n",
            "msno                                                             \n",
            "dEPT6Ki6RIimMvKFy2B/iLhNalAIQVvVEznJwqcI5xg=    22  35       1   \n",
            "NZh6JkdKxv5+yzfxoJjDpqQqlxaWoLte6GoAUcD2RKs=     1   0      -1   \n",
            "MQJh0JzTYfSzdsOH/ice1rsxouzE/dRDFeI4MhA3mqA=     8  32       0   \n",
            "TMBsL0a7IjM8dEC4Yg8lwbnZP52MJpiSLcvHNjesmSs=    12  21       1   \n",
            "QH6WsEFO0cDNqAgBzuFoKdPbpaq27+StO4I/6ATGfXc=     1   0      -1   \n",
            "...                                            ...  ..     ...   \n",
            "R+puA1IoFN9ZIBZINnLZivZEAW8jv47H6D0zPNeGlGc=     4  38       0   \n",
            "uDT8cz06dz2Hwv0DspKzjDPcP4izsPH6HZgd9EvEgGg=    17  17       0   \n",
            "2tfPyhPXlIGjqGMb+r/ZTmxeG/v0i28xY3xSn97gdOo=    13  35       0   \n",
            "TQvFyIQAcPI4qpzYoT9+b9dM9Odjnyw4ev3kOu1I5sI=     1   0      -1   \n",
            "TQvFyIQAcPI4qpzYoT9+b9dM9Odjnyw4ev3kOu1I5sI=     1   0      -1   \n",
            "\n",
            "                                              registered_via  \\\n",
            "msno                                                           \n",
            "dEPT6Ki6RIimMvKFy2B/iLhNalAIQVvVEznJwqcI5xg=               9   \n",
            "NZh6JkdKxv5+yzfxoJjDpqQqlxaWoLte6GoAUcD2RKs=               7   \n",
            "MQJh0JzTYfSzdsOH/ice1rsxouzE/dRDFeI4MhA3mqA=               7   \n",
            "TMBsL0a7IjM8dEC4Yg8lwbnZP52MJpiSLcvHNjesmSs=               4   \n",
            "QH6WsEFO0cDNqAgBzuFoKdPbpaq27+StO4I/6ATGfXc=               7   \n",
            "...                                                      ...   \n",
            "R+puA1IoFN9ZIBZINnLZivZEAW8jv47H6D0zPNeGlGc=               7   \n",
            "uDT8cz06dz2Hwv0DspKzjDPcP4izsPH6HZgd9EvEgGg=               7   \n",
            "2tfPyhPXlIGjqGMb+r/ZTmxeG/v0i28xY3xSn97gdOo=               9   \n",
            "TQvFyIQAcPI4qpzYoT9+b9dM9Odjnyw4ev3kOu1I5sI=               4   \n",
            "TQvFyIQAcPI4qpzYoT9+b9dM9Odjnyw4ev3kOu1I5sI=               4   \n",
            "\n",
            "                                              registration_init_time  \\\n",
            "msno                                                                   \n",
            "dEPT6Ki6RIimMvKFy2B/iLhNalAIQVvVEznJwqcI5xg=                    2011   \n",
            "NZh6JkdKxv5+yzfxoJjDpqQqlxaWoLte6GoAUcD2RKs=                    2011   \n",
            "MQJh0JzTYfSzdsOH/ice1rsxouzE/dRDFeI4MhA3mqA=                    2011   \n",
            "TMBsL0a7IjM8dEC4Yg8lwbnZP52MJpiSLcvHNjesmSs=                    2016   \n",
            "QH6WsEFO0cDNqAgBzuFoKdPbpaq27+StO4I/6ATGfXc=                    2013   \n",
            "...                                                              ...   \n",
            "R+puA1IoFN9ZIBZINnLZivZEAW8jv47H6D0zPNeGlGc=                    2014   \n",
            "uDT8cz06dz2Hwv0DspKzjDPcP4izsPH6HZgd9EvEgGg=                    2016   \n",
            "2tfPyhPXlIGjqGMb+r/ZTmxeG/v0i28xY3xSn97gdOo=                    2005   \n",
            "TQvFyIQAcPI4qpzYoT9+b9dM9Odjnyw4ev3kOu1I5sI=                    2016   \n",
            "TQvFyIQAcPI4qpzYoT9+b9dM9Odjnyw4ev3kOu1I5sI=                    2016   \n",
            "\n",
            "                                              payment_method_id  \\\n",
            "msno                                                              \n",
            "dEPT6Ki6RIimMvKFy2B/iLhNalAIQVvVEznJwqcI5xg=                 31   \n",
            "NZh6JkdKxv5+yzfxoJjDpqQqlxaWoLte6GoAUcD2RKs=                 41   \n",
            "MQJh0JzTYfSzdsOH/ice1rsxouzE/dRDFeI4MhA3mqA=                 41   \n",
            "TMBsL0a7IjM8dEC4Yg8lwbnZP52MJpiSLcvHNjesmSs=                 36   \n",
            "QH6WsEFO0cDNqAgBzuFoKdPbpaq27+StO4I/6ATGfXc=                 38   \n",
            "...                                                         ...   \n",
            "R+puA1IoFN9ZIBZINnLZivZEAW8jv47H6D0zPNeGlGc=                 32   \n",
            "uDT8cz06dz2Hwv0DspKzjDPcP4izsPH6HZgd9EvEgGg=                 41   \n",
            "2tfPyhPXlIGjqGMb+r/ZTmxeG/v0i28xY3xSn97gdOo=                 32   \n",
            "TQvFyIQAcPI4qpzYoT9+b9dM9Odjnyw4ev3kOu1I5sI=                 38   \n",
            "TQvFyIQAcPI4qpzYoT9+b9dM9Odjnyw4ev3kOu1I5sI=                 35   \n",
            "\n",
            "                                              payment_plan_days  \\\n",
            "msno                                                              \n",
            "dEPT6Ki6RIimMvKFy2B/iLhNalAIQVvVEznJwqcI5xg=                 30   \n",
            "NZh6JkdKxv5+yzfxoJjDpqQqlxaWoLte6GoAUcD2RKs=                 30   \n",
            "MQJh0JzTYfSzdsOH/ice1rsxouzE/dRDFeI4MhA3mqA=                 30   \n",
            "TMBsL0a7IjM8dEC4Yg8lwbnZP52MJpiSLcvHNjesmSs=                 30   \n",
            "QH6WsEFO0cDNqAgBzuFoKdPbpaq27+StO4I/6ATGfXc=                 30   \n",
            "...                                                         ...   \n",
            "R+puA1IoFN9ZIBZINnLZivZEAW8jv47H6D0zPNeGlGc=                180   \n",
            "uDT8cz06dz2Hwv0DspKzjDPcP4izsPH6HZgd9EvEgGg=                 30   \n",
            "2tfPyhPXlIGjqGMb+r/ZTmxeG/v0i28xY3xSn97gdOo=                180   \n",
            "TQvFyIQAcPI4qpzYoT9+b9dM9Odjnyw4ev3kOu1I5sI=                 90   \n",
            "TQvFyIQAcPI4qpzYoT9+b9dM9Odjnyw4ev3kOu1I5sI=                  7   \n",
            "\n",
            "                                              plan_list_price  \\\n",
            "msno                                                            \n",
            "dEPT6Ki6RIimMvKFy2B/iLhNalAIQVvVEznJwqcI5xg=              149   \n",
            "NZh6JkdKxv5+yzfxoJjDpqQqlxaWoLte6GoAUcD2RKs=               99   \n",
            "MQJh0JzTYfSzdsOH/ice1rsxouzE/dRDFeI4MhA3mqA=              149   \n",
            "TMBsL0a7IjM8dEC4Yg8lwbnZP52MJpiSLcvHNjesmSs=              180   \n",
            "QH6WsEFO0cDNqAgBzuFoKdPbpaq27+StO4I/6ATGfXc=              149   \n",
            "...                                                       ...   \n",
            "R+puA1IoFN9ZIBZINnLZivZEAW8jv47H6D0zPNeGlGc=              536   \n",
            "uDT8cz06dz2Hwv0DspKzjDPcP4izsPH6HZgd9EvEgGg=               99   \n",
            "2tfPyhPXlIGjqGMb+r/ZTmxeG/v0i28xY3xSn97gdOo=              536   \n",
            "TQvFyIQAcPI4qpzYoT9+b9dM9Odjnyw4ev3kOu1I5sI=              477   \n",
            "TQvFyIQAcPI4qpzYoT9+b9dM9Odjnyw4ev3kOu1I5sI=                0   \n",
            "\n",
            "                                              actual_amount_paid  \\\n",
            "msno                                                               \n",
            "dEPT6Ki6RIimMvKFy2B/iLhNalAIQVvVEznJwqcI5xg=                 149   \n",
            "NZh6JkdKxv5+yzfxoJjDpqQqlxaWoLte6GoAUcD2RKs=                  99   \n",
            "MQJh0JzTYfSzdsOH/ice1rsxouzE/dRDFeI4MhA3mqA=                 149   \n",
            "TMBsL0a7IjM8dEC4Yg8lwbnZP52MJpiSLcvHNjesmSs=                 180   \n",
            "QH6WsEFO0cDNqAgBzuFoKdPbpaq27+StO4I/6ATGfXc=                 149   \n",
            "...                                                          ...   \n",
            "R+puA1IoFN9ZIBZINnLZivZEAW8jv47H6D0zPNeGlGc=                 536   \n",
            "uDT8cz06dz2Hwv0DspKzjDPcP4izsPH6HZgd9EvEgGg=                  99   \n",
            "2tfPyhPXlIGjqGMb+r/ZTmxeG/v0i28xY3xSn97gdOo=                 536   \n",
            "TQvFyIQAcPI4qpzYoT9+b9dM9Odjnyw4ev3kOu1I5sI=                 477   \n",
            "TQvFyIQAcPI4qpzYoT9+b9dM9Odjnyw4ev3kOu1I5sI=                   0   \n",
            "\n",
            "                                              is_auto_renew  transaction_date  \\\n",
            "msno                                                                            \n",
            "dEPT6Ki6RIimMvKFy2B/iLhNalAIQVvVEznJwqcI5xg=              1              2017   \n",
            "NZh6JkdKxv5+yzfxoJjDpqQqlxaWoLte6GoAUcD2RKs=              1              2017   \n",
            "MQJh0JzTYfSzdsOH/ice1rsxouzE/dRDFeI4MhA3mqA=              1              2017   \n",
            "TMBsL0a7IjM8dEC4Yg8lwbnZP52MJpiSLcvHNjesmSs=              0              2017   \n",
            "QH6WsEFO0cDNqAgBzuFoKdPbpaq27+StO4I/6ATGfXc=              0              2017   \n",
            "...                                                     ...               ...   \n",
            "R+puA1IoFN9ZIBZINnLZivZEAW8jv47H6D0zPNeGlGc=              0              2016   \n",
            "uDT8cz06dz2Hwv0DspKzjDPcP4izsPH6HZgd9EvEgGg=              1              2017   \n",
            "2tfPyhPXlIGjqGMb+r/ZTmxeG/v0i28xY3xSn97gdOo=              0              2016   \n",
            "TQvFyIQAcPI4qpzYoT9+b9dM9Odjnyw4ev3kOu1I5sI=              0              2016   \n",
            "TQvFyIQAcPI4qpzYoT9+b9dM9Odjnyw4ev3kOu1I5sI=              0              2016   \n",
            "\n",
            "                                              membership_expire_date  \\\n",
            "msno                                                                   \n",
            "dEPT6Ki6RIimMvKFy2B/iLhNalAIQVvVEznJwqcI5xg=                    2017   \n",
            "NZh6JkdKxv5+yzfxoJjDpqQqlxaWoLte6GoAUcD2RKs=                    2017   \n",
            "MQJh0JzTYfSzdsOH/ice1rsxouzE/dRDFeI4MhA3mqA=                    2017   \n",
            "TMBsL0a7IjM8dEC4Yg8lwbnZP52MJpiSLcvHNjesmSs=                    2017   \n",
            "QH6WsEFO0cDNqAgBzuFoKdPbpaq27+StO4I/6ATGfXc=                    2017   \n",
            "...                                                              ...   \n",
            "R+puA1IoFN9ZIBZINnLZivZEAW8jv47H6D0zPNeGlGc=                    2017   \n",
            "uDT8cz06dz2Hwv0DspKzjDPcP4izsPH6HZgd9EvEgGg=                    2017   \n",
            "2tfPyhPXlIGjqGMb+r/ZTmxeG/v0i28xY3xSn97gdOo=                    2017   \n",
            "TQvFyIQAcPI4qpzYoT9+b9dM9Odjnyw4ev3kOu1I5sI=                    2017   \n",
            "TQvFyIQAcPI4qpzYoT9+b9dM9Odjnyw4ev3kOu1I5sI=                    2016   \n",
            "\n",
            "                                              is_cancel  \n",
            "msno                                                     \n",
            "dEPT6Ki6RIimMvKFy2B/iLhNalAIQVvVEznJwqcI5xg=          0  \n",
            "NZh6JkdKxv5+yzfxoJjDpqQqlxaWoLte6GoAUcD2RKs=          0  \n",
            "MQJh0JzTYfSzdsOH/ice1rsxouzE/dRDFeI4MhA3mqA=          0  \n",
            "TMBsL0a7IjM8dEC4Yg8lwbnZP52MJpiSLcvHNjesmSs=          0  \n",
            "QH6WsEFO0cDNqAgBzuFoKdPbpaq27+StO4I/6ATGfXc=          0  \n",
            "...                                                 ...  \n",
            "R+puA1IoFN9ZIBZINnLZivZEAW8jv47H6D0zPNeGlGc=          0  \n",
            "uDT8cz06dz2Hwv0DspKzjDPcP4izsPH6HZgd9EvEgGg=          1  \n",
            "2tfPyhPXlIGjqGMb+r/ZTmxeG/v0i28xY3xSn97gdOo=          0  \n",
            "TQvFyIQAcPI4qpzYoT9+b9dM9Odjnyw4ev3kOu1I5sI=          0  \n",
            "TQvFyIQAcPI4qpzYoT9+b9dM9Odjnyw4ev3kOu1I5sI=          0  \n",
            "\n",
            "[4428 rows x 15 columns]\n"
          ]
        }
      ],
      "source": [
        "# set row names (index) to the msno column\n",
        "\n",
        "merged_data = merged_data.set_index('msno')\n",
        "\n",
        "print(merged_data)"
      ]
    },
    {
      "cell_type": "markdown",
      "metadata": {
        "id": "0UW2jO1iPzvO"
      },
      "source": [
        "Split training and test data"
      ]
    },
    {
      "cell_type": "code",
      "execution_count": 17,
      "metadata": {
        "colab": {
          "base_uri": "https://localhost:8080/"
        },
        "id": "7MJbHQ6RQ2Gz",
        "outputId": "6d829628-7ccb-49d2-f663-8c3d8fc984c6"
      },
      "outputs": [
        {
          "name": "stdout",
          "output_type": "stream",
          "text": [
            "306\n",
            "4122\n"
          ]
        }
      ],
      "source": [
        "# Identify features and target variable\n",
        "X = merged_data.drop(['is_churn'], axis=1)\n",
        "y = merged_data['is_churn']\n",
        "\n",
        "yes_count = merged_data['is_churn'].value_counts().get(1, 0)\n",
        "no_count = merged_data['is_churn'].value_counts().get(0, 0)\n",
        "print(yes_count)\n",
        "print(no_count)"
      ]
    },
    {
      "cell_type": "code",
      "execution_count": 18,
      "metadata": {
        "colab": {
          "base_uri": "https://localhost:8080/"
        },
        "id": "HVBREKYcPy2N",
        "outputId": "a50593b5-28d8-49fe-c93d-668d609a7776"
      },
      "outputs": [
        {
          "name": "stdout",
          "output_type": "stream",
          "text": [
            "     playtime_per_day  city  bd  gender  registered_via  \\\n",
            "0         3054.982949     1   0      -1               7   \n",
            "1        21048.954481     8   0      -1               9   \n",
            "2         4645.567653     4  32       1               9   \n",
            "3         3618.238833     1   0      -1               7   \n",
            "4         3619.656167     4  25       0               3   \n",
            "..                ...   ...  ..     ...             ...   \n",
            "485       6345.836411    17  17       0               7   \n",
            "486       4254.758122     1   0      -1               7   \n",
            "487       7506.612632    22  33       1               9   \n",
            "488       4441.723980     5  41       1               9   \n",
            "489       4729.417708     1   0      -1               3   \n",
            "\n",
            "     registration_init_time  payment_method_id  payment_plan_days  \\\n",
            "0                      2016                 41                 30   \n",
            "1                      2015                 37                 30   \n",
            "2                      2010                 34                 30   \n",
            "3                      2014                 41                 30   \n",
            "4                      2012                 40                 30   \n",
            "..                      ...                ...                ...   \n",
            "485                    2016                 41                 30   \n",
            "486                    2011                 41                 30   \n",
            "487                    2011                 29                 30   \n",
            "488                    2009                 33                 30   \n",
            "489                    2013                 38                 30   \n",
            "\n",
            "     plan_list_price  actual_amount_paid  is_auto_renew  transaction_date  \\\n",
            "0                 99                  99              1              2017   \n",
            "1                149                 149              1              2017   \n",
            "2                149                 149              1              2017   \n",
            "3                 99                  99              1              2017   \n",
            "4                149                 149              1              2017   \n",
            "..               ...                 ...            ...               ...   \n",
            "485               99                  99              1              2017   \n",
            "486               99                  99              1              2017   \n",
            "487              180                 180              1              2017   \n",
            "488              149                 149              1              2017   \n",
            "489              149                 149              0              2017   \n",
            "\n",
            "     membership_expire_date  is_cancel  \n",
            "0                      2017          0  \n",
            "1                      2017          0  \n",
            "2                      2017          0  \n",
            "3                      2017          0  \n",
            "4                      2017          0  \n",
            "..                      ...        ...  \n",
            "485                    2017          1  \n",
            "486                    2017          1  \n",
            "487                    2017          1  \n",
            "488                    2017          1  \n",
            "489                    2017          0  \n",
            "\n",
            "[490 rows x 14 columns]\n"
          ]
        }
      ],
      "source": [
        "from sklearn.model_selection import train_test_split\n",
        "from imblearn.under_sampling import RandomUnderSampler\n",
        "\n",
        "# Split the data into training and testing sets\n",
        "X_train, X_test, y_train, y_test = train_test_split(X, y, test_size=0.2, random_state=42, stratify=y)\n",
        "# Combine X_train and y_train into a single DataFrame for undersampling\n",
        "train_data = pd.concat([X_train, y_train], axis=1)\n",
        "\n",
        "# Identify the minority class label\n",
        "minority_class_label = train_data['is_churn'].value_counts().idxmin()\n",
        "\n",
        "# Apply random undersampling on imbalanced target data\n",
        "undersampler = RandomUnderSampler(sampling_strategy='auto', random_state=42)\n",
        "X_resampled, y_resampled = undersampler.fit_resample(train_data.drop('is_churn', axis=1), train_data['is_churn'])\n",
        "print(X_resampled)"
      ]
    },
    {
      "cell_type": "markdown",
      "metadata": {
        "id": "5tOChm64cwjo"
      },
      "source": [
        "Train and evaluate classification models"
      ]
    },
    {
      "cell_type": "code",
      "execution_count": 19,
      "metadata": {
        "id": "KiaSON4L8FXL"
      },
      "outputs": [],
      "source": [
        "import matplotlib.pyplot as plt\n",
        "import seaborn as sns\n",
        "from sklearn.metrics import confusion_matrix, accuracy_score, precision_score, recall_score, f1_score, roc_auc_score, roc_curve\n"
      ]
    },
    {
      "cell_type": "code",
      "execution_count": 20,
      "metadata": {
        "id": "oagnKxcF8FZy"
      },
      "outputs": [],
      "source": [
        "def plot_model_results(model, X_test, y_test, model_name):\n",
        "    y_pred = model.predict(X_test)\n",
        "    acc = accuracy_score(y_test, y_pred)\n",
        "    cm = confusion_matrix(y_test, y_pred)\n",
        "\n",
        "    plt.figure(figsize=(12, 5))\n",
        "\n",
        "    # Plotting Confusion Matrix\n",
        "    plt.subplot(1, 2, 1)\n",
        "    sns.heatmap(cm, annot=True, fmt=\"d\")\n",
        "    plt.title(f'Confusion Matrix for {model_name}')\n",
        "    plt.xlabel('Predicted')\n",
        "    plt.ylabel('True')\n",
        "\n",
        "    # Plotting Accuracy Score\n",
        "    plt.subplot(1, 2, 2)\n",
        "    plt.bar(model_name, acc)\n",
        "    plt.title(f'Accuracy Score for {model_name}')\n",
        "    plt.ylabel('Accuracy')\n",
        "\n",
        "    plt.tight_layout()\n",
        "    plt.show()\n"
      ]
    },
    {
      "cell_type": "markdown",
      "metadata": {},
      "source": [
        "Decision Tree Classifier"
      ]
    },
    {
      "cell_type": "code",
      "execution_count": 21,
      "metadata": {
        "colab": {
          "base_uri": "https://localhost:8080/"
        },
        "id": "F622LcZF7KIU",
        "outputId": "6c476ce0-b1c9-4f76-f0e2-7f2eb7d8e285"
      },
      "outputs": [
        {
          "name": "stdout",
          "output_type": "stream",
          "text": [
            "Accuracy for Decision Tree Classifier: 0.8781\n",
            "Precision for Decision Tree Classifier: 0.3401\n",
            "Recall for Decision Tree Classifier: 0.8197\n",
            "F1 Score for Decision Tree Classifier: 0.4808\n",
            "ROC-AUC Score for Decision Tree Classifier: 0.8510\n"
          ]
        }
      ],
      "source": [
        "from sklearn.tree import DecisionTreeClassifier\n",
        "\n",
        "# Creating the Decision Tree classifier\n",
        "dt = DecisionTreeClassifier(random_state=42)\n",
        "\n",
        "# Fitting the classifier to the resampled training data\n",
        "dt.fit(X_resampled, y_resampled)\n",
        "\n",
        "# Making predictions\n",
        "y_pred_dt = dt.predict(X_test)\n",
        "\n",
        "# Calculating accuracy\n",
        "accuracy_dt = accuracy_score(y_test, y_pred_dt)\n",
        "print(f'Accuracy for Decision Tree Classifier: {accuracy_dt:.4f}')\n",
        "\n",
        "# Calculating precision\n",
        "precision_dt = precision_score(y_test, y_pred_dt)\n",
        "print(f'Precision for Decision Tree Classifier: {precision_dt:.4f}')\n",
        "\n",
        "# Calculating recall\n",
        "recall_dt = recall_score(y_test, y_pred_dt)\n",
        "print(f'Recall for Decision Tree Classifier: {recall_dt:.4f}')\n",
        "\n",
        "# Calculating F1 score\n",
        "f1_dt = f1_score(y_test, y_pred_dt)\n",
        "print(f'F1 Score for Decision Tree Classifier: {f1_dt:.4f}')\n",
        "\n",
        "# Calculating ROC-AUC score\n",
        "roc_dt = roc_auc_score(y_test, y_pred_dt)\n",
        "print(f'ROC-AUC Score for Decision Tree Classifier: {roc_dt:.4f}')\n"
      ]
    },
    {
      "cell_type": "code",
      "execution_count": 22,
      "metadata": {
        "colab": {
          "base_uri": "https://localhost:8080/",
          "height": 419
        },
        "id": "a_Gn01Ax8B76",
        "outputId": "c85ea364-7f89-4e98-8579-102400dcf285"
      },
      "outputs": [
        {
          "data": {
            "image/png": "[encoded data removed]",
            "text/plain": [
              "<Figure size 1200x500 with 3 Axes>"
            ]
          },
          "metadata": {},
          "output_type": "display_data"
        }
      ],
      "source": [
        "# For Decision Tree\n",
        "plot_model_results(dt, X_test, y_test, 'Decision Tree')"
      ]
    },
    {
      "cell_type": "markdown",
      "metadata": {},
      "source": [
        "AdaBoost Classifier"
      ]
    },
    {
      "cell_type": "code",
      "execution_count": 23,
      "metadata": {
        "colab": {
          "base_uri": "https://localhost:8080/"
        },
        "id": "U5Qv3Pq07KKi",
        "outputId": "ea931701-fcbd-4808-8acb-1cd7f16d0682"
      },
      "outputs": [
        {
          "name": "stdout",
          "output_type": "stream",
          "text": [
            "Accuracy for AdaBoost Classifier: 0.9018\n",
            "Precision for AdaBoost Classifier: 0.4044\n",
            "Recall for AdaBoost Classifier: 0.9016\n",
            "F1 Score for AdaBoost Classifier: 0.5584\n",
            "ROC-AUC Score for AdaBoost Classifier: 0.9017\n"
          ]
        }
      ],
      "source": [
        "from sklearn.ensemble import AdaBoostClassifier\n",
        "\n",
        "# Creating the AdaBoost classifier\n",
        "ab = AdaBoostClassifier(random_state=42)\n",
        "\n",
        "# Fitting the classifier to the resampled training data\n",
        "ab.fit(X_resampled, y_resampled)\n",
        "\n",
        "# Making predictions\n",
        "y_pred_ab = ab.predict(X_test)\n",
        "\n",
        "# Calculating accuracy\n",
        "accuracy_ab = accuracy_score(y_test, y_pred_ab)\n",
        "print(f'Accuracy for AdaBoost Classifier: {accuracy_ab:.4f}')\n",
        "\n",
        "# Calculating precision\n",
        "precision_ab = precision_score(y_test, y_pred_ab)\n",
        "print(f'Precision for AdaBoost Classifier: {precision_ab:.4f}')\n",
        "\n",
        "# Calculating recall\n",
        "recall_ab = recall_score(y_test, y_pred_ab)\n",
        "print(f'Recall for AdaBoost Classifier: {recall_ab:.4f}')\n",
        "\n",
        "# Calculating F1 score\n",
        "f1_ab = f1_score(y_test, y_pred_ab)\n",
        "print(f'F1 Score for AdaBoost Classifier: {f1_ab:.4f}')\n",
        "\n",
        "# Calculating ROC-AUC score\n",
        "roc_ab = roc_auc_score(y_test, y_pred_ab)\n",
        "print(f'ROC-AUC Score for AdaBoost Classifier: {roc_ab:.4f}')\n"
      ]
    },
    {
      "cell_type": "code",
      "execution_count": 24,
      "metadata": {
        "colab": {
          "base_uri": "https://localhost:8080/",
          "height": 419
        },
        "id": "lTA7wMOf8N4A",
        "outputId": "029500a9-7729-4fc9-9982-e2c2e670d7cf"
      },
      "outputs": [
        {
          "data": {
            "image/png": "[encoded data removed]",
            "text/plain": [
              "<Figure size 1200x500 with 3 Axes>"
            ]
          },
          "metadata": {},
          "output_type": "display_data"
        }
      ],
      "source": [
        "\n",
        "# For AdaBoost\n",
        "plot_model_results(ab, X_test, y_test, 'AdaBoost')"
      ]
    },
    {
      "cell_type": "markdown",
      "metadata": {},
      "source": [
        "K-Nearest Neighbors Classifier"
      ]
    },
    {
      "cell_type": "code",
      "execution_count": 25,
      "metadata": {
        "colab": {
          "base_uri": "https://localhost:8080/"
        },
        "id": "SDe-C5B17X9C",
        "outputId": "9884c9f6-f19e-459b-ffdd-6c3e88299989"
      },
      "outputs": [
        {
          "name": "stdout",
          "output_type": "stream",
          "text": [
            "Accuracy for KNN Classifier: 0.6038\n",
            "Precision for KNN Classifier: 0.0833\n",
            "Recall for KNN Classifier: 0.4754\n",
            "F1 Score for KNN Classifier: 0.1418\n",
            "ROC-AUC Score for KNN Classifier: 0.5444\n"
          ]
        }
      ],
      "source": [
        "from sklearn.neighbors import KNeighborsClassifier\n",
        "\n",
        "# Creating the KNN classifier\n",
        "knn = KNeighborsClassifier()\n",
        "\n",
        "# Fitting the classifier to the resampled training data\n",
        "knn.fit(X_resampled, y_resampled)\n",
        "\n",
        "# Making predictions\n",
        "y_pred_knn = knn.predict(X_test)\n",
        "\n",
        "# Calculating accuracy\n",
        "accuracy_knn = accuracy_score(y_test, y_pred_knn)\n",
        "print(f'Accuracy for KNN Classifier: {accuracy_knn:.4f}')\n",
        "\n",
        "# Calculating precision\n",
        "precision_knn = precision_score(y_test, y_pred_knn)\n",
        "print(f'Precision for KNN Classifier: {precision_knn:.4f}')\n",
        "\n",
        "# Calculating recall\n",
        "recall_knn = recall_score(y_test, y_pred_knn)\n",
        "print(f'Recall for KNN Classifier: {recall_knn:.4f}')\n",
        "\n",
        "# Calculating F1 score\n",
        "f1_knn = f1_score(y_test, y_pred_knn)\n",
        "print(f'F1 Score for KNN Classifier: {f1_knn:.4f}')\n",
        "\n",
        "# Calculating ROC-AUC score\n",
        "roc_knn = roc_auc_score(y_test, y_pred_knn)\n",
        "print(f'ROC-AUC Score for KNN Classifier: {roc_knn:.4f}')\n"
      ]
    },
    {
      "cell_type": "code",
      "execution_count": 26,
      "metadata": {
        "colab": {
          "base_uri": "https://localhost:8080/",
          "height": 419
        },
        "id": "FIc_3LBS78WY",
        "outputId": "c5347ce9-cebf-4e9e-baba-265f40ad914d"
      },
      "outputs": [
        {
          "data": {
            "image/png": "[encoded data removed]",
            "text/plain": [
              "<Figure size 1200x500 with 3 Axes>"
            ]
          },
          "metadata": {},
          "output_type": "display_data"
        }
      ],
      "source": [
        "# For KNN\n",
        "plot_model_results(knn, X_test, y_test, 'KNN')"
      ]
    },
    {
      "cell_type": "markdown",
      "metadata": {},
      "source": [
        "XGBoost Classifier"
      ]
    },
    {
      "cell_type": "code",
      "execution_count": 27,
      "metadata": {
        "colab": {
          "base_uri": "https://localhost:8080/",
          "height": 425
        },
        "id": "ZfqhgHJF7KMk",
        "outputId": "c3ec2617-7539-4397-dfbf-d72e6cf094fd"
      },
      "outputs": [
        {
          "name": "stdout",
          "output_type": "stream",
          "text": [
            "Accuracy for XGBoost Classifier: 0.8995\n",
            "Precision for XGBoost Classifier: 0.3939\n",
            "Recall for XGBoost Classifier: 0.8525\n",
            "F1 Score for XGBoost Classifier: 0.5389\n",
            "ROC-AUC Score for XGBoost Classifier: 0.8777\n"
          ]
        }
      ],
      "source": [
        "import xgboost as xgb\n",
        "\n",
        "# Creating the XGBoost classifier\n",
        "xgb_clf = xgb.XGBClassifier(random_state=42)\n",
        "\n",
        "# Fitting the classifier to the resampled training data\n",
        "xgb_clf.fit(X_resampled, y_resampled)\n",
        "\n",
        "# Making predictions\n",
        "y_pred_xgb = xgb_clf.predict(X_test)\n",
        "\n",
        "# Calculating accuracy\n",
        "accuracy_xgb = accuracy_score(y_test, y_pred_xgb)\n",
        "print(f'Accuracy for XGBoost Classifier: {accuracy_xgb:.4f}')\n",
        "\n",
        "# Calculating precision\n",
        "precision_xgb = precision_score(y_test, y_pred_xgb)\n",
        "print(f'Precision for XGBoost Classifier: {precision_xgb:.4f}')\n",
        "\n",
        "# Calculating recall\n",
        "recall_xgb = recall_score(y_test, y_pred_xgb)\n",
        "print(f'Recall for XGBoost Classifier: {recall_xgb:.4f}')\n",
        "\n",
        "# Calculating F1 score\n",
        "f1_xgb = f1_score(y_test, y_pred_xgb)\n",
        "print(f'F1 Score for XGBoost Classifier: {f1_xgb:.4f}')\n",
        "\n",
        "# Calculating ROC-AUC score\n",
        "roc_xgb = roc_auc_score(y_test, y_pred_xgb)\n",
        "print(f'ROC-AUC Score for XGBoost Classifier: {roc_xgb:.4f}')"
      ]
    },
    {
      "cell_type": "code",
      "execution_count": 28,
      "metadata": {
        "id": "TsRJc6jH7vpW"
      },
      "outputs": [
        {
          "data": {
            "image/png": "[encoded data removed]",
            "text/plain": [
              "<Figure size 1200x500 with 3 Axes>"
            ]
          },
          "metadata": {},
          "output_type": "display_data"
        }
      ],
      "source": [
        "# For xgboost\n",
        "plot_model_results(xgb_clf, X_test, y_test, 'xgboost')"
      ]
    },
    {
      "cell_type": "markdown",
      "metadata": {},
      "source": [
        "Random Forest Classifier"
      ]
    },
    {
      "cell_type": "code",
      "execution_count": 29,
      "metadata": {
        "id": "nljXUPOO75ys"
      },
      "outputs": [
        {
          "name": "stdout",
          "output_type": "stream",
          "text": [
            "Accuracy for Random Forest Classifier with 10 Estimators: 0.8939\n",
            "Precision for Random Forest Classifier: 0.3778\n",
            "Recall for Random Forest Classifier: 0.8361\n",
            "F1 Score for Random Forest Classifier: 0.5204\n",
            "ROC-AUC Score for Random Forest Classifier: 0.8671\n"
          ]
        }
      ],
      "source": [
        "from sklearn.ensemble import RandomForestClassifier\n",
        "\n",
        "RF = RandomForestClassifier(n_estimators=10, random_state=0)\n",
        "RF.fit(X_resampled, y_resampled)\n",
        "\n",
        "y_pred_RF = RF.predict(X_test)\n",
        "\n",
        "# Calculating accuracy\n",
        "accuracy_RF = accuracy_score(y_test, y_pred_RF)\n",
        "print(f'Accuracy for Random Forest Classifier with 10 Estimators: {accuracy_RF:.4f}')\n",
        "\n",
        "# Calculating precision\n",
        "precision_RF = precision_score(y_test, y_pred_RF)\n",
        "print(f'Precision for Random Forest Classifier: {precision_RF:.4f}')\n",
        "\n",
        "# Calculating recall\n",
        "recall_RF = recall_score(y_test, y_pred_RF)\n",
        "print(f'Recall for Random Forest Classifier: {recall_RF:.4f}')\n",
        "\n",
        "# Calculating F1 score\n",
        "f1_RF = f1_score(y_test, y_pred_RF)\n",
        "print(f'F1 Score for Random Forest Classifier: {f1_RF:.4f}')\n",
        "\n",
        "# Calculating ROC-AUC score\n",
        "roc_RF = roc_auc_score(y_test, y_pred_RF)\n",
        "print(f'ROC-AUC Score for Random Forest Classifier: {roc_RF:.4f}')"
      ]
    },
    {
      "cell_type": "code",
      "execution_count": 30,
      "metadata": {
        "id": "0OuazlFX751R"
      },
      "outputs": [
        {
          "data": {
            "image/png": "[encoded data removed]",
            "text/plain": [
              "<Figure size 1200x500 with 3 Axes>"
            ]
          },
          "metadata": {},
          "output_type": "display_data"
        }
      ],
      "source": [
        "# For Decision Tree\n",
        "plot_model_results(RF, X_test, y_test, 'Random Forest Classifier')"
      ]
    },
    {
      "cell_type": "code",
      "execution_count": null,
      "metadata": {
        "id": "FVz-fCbS7534"
      },
      "outputs": [],
      "source": []
    },
    {
      "cell_type": "code",
      "execution_count": null,
      "metadata": {
        "id": "ZBKJ9SvR7vul"
      },
      "outputs": [],
      "source": []
    },
    {
      "cell_type": "code",
      "execution_count": null,
      "metadata": {
        "id": "vZ4GT_mc7vxK"
      },
      "outputs": [],
      "source": []
    }
  ],
  "metadata": {
    "colab": {
      "include_colab_link": true,
      "provenance": []
    },
    "kernelspec": {
      "display_name": "Python 3 (ipykernel)",
      "language": "python",
      "name": "python3"
    },
    "language_info": {
      "codemirror_mode": {
        "name": "ipython",
        "version": 3
      },
      "file_extension": ".py",
      "mimetype": "text/x-python",
      "name": "python",
      "nbconvert_exporter": "python",
      "pygments_lexer": "ipython3",
      "version": "3.10.9"
    }
  },
  "nbformat": 4,
  "nbformat_minor": 0
}
