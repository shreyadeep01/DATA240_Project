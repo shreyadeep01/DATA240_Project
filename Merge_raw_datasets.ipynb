{
  "nbformat": 4,
  "nbformat_minor": 0,
  "metadata": {
    "colab": {
      "provenance": []
    },
    "kernelspec": {
      "name": "python3",
      "display_name": "Python 3"
    },
    "language_info": {
      "name": "python"
    }
  },
  "cells": [
    {
      "cell_type": "code",
      "execution_count": 1,
      "metadata": {
        "id": "I4Ad8uaqjD9v"
      },
      "outputs": [],
      "source": [
        "import pandas as pd\n",
        "import numpy as np\n",
        "\n",
        "import matplotlib.pyplot as plt"
      ]
    },
    {
      "cell_type": "markdown",
      "source": [
        "Load datasets from Google drives"
      ],
      "metadata": {
        "id": "RJ5sEjD8PMhG"
      }
    },
    {
      "cell_type": "code",
      "source": [
        "train_url = 'https://drive.google.com/file/d/1NTnEDxlG9KBnr9rUXp5MdXSvrMpWY4fW/view?usp=sharing'\n",
        "train_url = 'https://drive.google.com/uc?id=' + train_url.split('/')[-2]\n",
        "\n",
        "train_df = pd.read_csv(train_url)\n",
        "\n",
        "print(train_url)"
      ],
      "metadata": {
        "id": "_jRdUXFmAUzQ",
        "colab": {
          "base_uri": "https://localhost:8080/"
        },
        "outputId": "31417558-f8d4-49d8-cca8-f324376c21c4"
      },
      "execution_count": 2,
      "outputs": [
        {
          "output_type": "stream",
          "name": "stdout",
          "text": [
            "https://drive.google.com/uc?id=1NTnEDxlG9KBnr9rUXp5MdXSvrMpWY4fW\n"
          ]
        }
      ]
    },
    {
      "cell_type": "code",
      "source": [
        "transactions_df = pd.read_csv('transactions.csv')\n",
        "\n",
        "# print(transactions_df)"
      ],
      "metadata": {
        "id": "fOcDvqSBMc1p"
      },
      "execution_count": 3,
      "outputs": []
    },
    {
      "cell_type": "code",
      "source": [
        "# logs = pd.read_csv('/content/drive/MyDrive/DATA MINING /user_logs.csv',nrows=700000)\n",
        "\n",
        "user_logs_df = pd.read_csv('user_logs.csv',nrows=700000)\n",
        "\n",
        "print(user_logs_df)"
      ],
      "metadata": {
        "id": "Itf_1tg2Mc86",
        "colab": {
          "base_uri": "https://localhost:8080/"
        },
        "outputId": "23972008-2475-4c21-b23a-5fedef55c134"
      },
      "execution_count": 4,
      "outputs": [
        {
          "output_type": "stream",
          "name": "stdout",
          "text": [
            "                                                msno      date  num_25  \\\n",
            "0       u9E91QDTvHLq6NXjEaWv8u4QIqhrHk72kE+w31Gnhdg=  20170331       8   \n",
            "1       nTeWW/eOZA/UHKdD5L7DEqKKFTjaAj3ALLPoAWsU8n0=  20170330       2   \n",
            "2       2UqkWXwZbIjs03dHLU9KHJNNEvEkZVzm69f3jCS+uLI=  20170331      52   \n",
            "3       ycwLc+m2O0a85jSLALtr941AaZt9ai8Qwlg9n0Nql5U=  20170331     176   \n",
            "4       EGcbTofOSOkMmQyN1NMLxHEXJ1yV3t/JdhGwQ9wXjnI=  20170331       2   \n",
            "...                                              ...       ...     ...   \n",
            "699995  uvhMEjYPNvi7wTUglEulqS1u/FzzM8JIMJIsdEKOgCo=  20170317      12   \n",
            "699996  vIBAdZ1fS9n2DHcUwx09uBQ6Z4AIjm4PkWSEhVbV8lE=  20170311      25   \n",
            "699997  BfNRJVdqzIMeqLGU1BMD8/vFi5WuQFywlOLHEJIQCiY=  20170317       4   \n",
            "699998  7vQQzswllhkzzA4V5AFTMgHXJQK5TsmpH/KobLCcm6s=  20170317      19   \n",
            "699999  M/oMmqy75iuuYIKSun3wRLGtoJKXQh0JhDElCVuOsfg=  20170311       1   \n",
            "\n",
            "        num_50  num_75  num_985  num_100  num_unq  total_secs  \n",
            "0            4       0        1       21       18    6309.273  \n",
            "1            2       1        0        9       11    2390.699  \n",
            "2            3       5        3       84      110   23203.337  \n",
            "3            4       2        2       19      191    7100.454  \n",
            "4            1       0        1      112       93   28401.558  \n",
            "...        ...     ...      ...      ...      ...         ...  \n",
            "699995       5       2        4       28       35    8922.820  \n",
            "699996       1       5        1        8       40    3399.135  \n",
            "699997       0       4        4       16       21    5505.447  \n",
            "699998       1       2        3      107      125   24221.148  \n",
            "699999       1       0        1      167      167   43233.773  \n",
            "\n",
            "[700000 rows x 9 columns]\n"
          ]
        }
      ]
    },
    {
      "cell_type": "code",
      "source": [
        "members_df = pd.read_csv('members_v3.csv')\n",
        "\n",
        "print(members_df)"
      ],
      "metadata": {
        "id": "qQCGk852MdGr",
        "colab": {
          "base_uri": "https://localhost:8080/"
        },
        "outputId": "146500d1-ef2a-4f41-9347-a005dd824c43"
      },
      "execution_count": 7,
      "outputs": [
        {
          "output_type": "stream",
          "name": "stdout",
          "text": [
            "                                                 msno  city  bd  gender  \\\n",
            "0        Rb9UwLQTrxzBVwCB6+bCcSQWZ9JiNLC9dXtM1oEsZA8=     1   0     NaN   \n",
            "1        +tJonkh+O1CA796Fm5X60UMOtB6POHAwPjbTRVl/EuU=     1   0     NaN   \n",
            "2        cV358ssn7a0f7jZOwGNWS07wCKVqxyiImJUX6xcIwKw=     1   0     NaN   \n",
            "3        9bzDeJP6sQodK73K5CBlJ6fgIQzPeLnRl0p5B77XP+g=     1   0     NaN   \n",
            "4        WFLY3s7z4EZsieHCt63XrsdtfTEmJ+2PnnKLH5GY4Tk=     6  32  female   \n",
            "...                                               ...   ...  ..     ...   \n",
            "6769468  VSGkb3hyBRUtb/b1MQUZbvOkktS3vKLnhMHW0CF8eyU=     1   0     NaN   \n",
            "6769469  nWjH7glPkZ7jOVaCRwwjlpmp0T1hSWdv8hMJxiWCwKc=     1   0     NaN   \n",
            "6769470  GH+b5+1tlv7ZZXsA8upBzVXMTLyffKcsF7WoU8b5rOI=    15  26  female   \n",
            "6769471  XVlwT3fdCFGKqerEKBzUIjK+jzI6jzSke4cDMVhYyjE=     1   0     NaN   \n",
            "6769472  isBt+JlgvZRNy6lxVr5vvuJ4lD00ofTaKyJ+uRnGcPg=     1   0     NaN   \n",
            "\n",
            "         registered_via  registration_init_time  \n",
            "0                    11                20110911  \n",
            "1                     7                20110914  \n",
            "2                    11                20110915  \n",
            "3                    11                20110915  \n",
            "4                     9                20110915  \n",
            "...                 ...                     ...  \n",
            "6769468               7                20151020  \n",
            "6769469               7                20151020  \n",
            "6769470               4                20151020  \n",
            "6769471               4                20151020  \n",
            "6769472               4                20151021  \n",
            "\n",
            "[6769473 rows x 6 columns]\n"
          ]
        }
      ]
    },
    {
      "cell_type": "markdown",
      "source": [
        "Merge four datasets into a large dataset"
      ],
      "metadata": {
        "id": "DhLdBGx0PZS4"
      }
    },
    {
      "cell_type": "code",
      "source": [
        "# count the average playtime per day for every member\n",
        "\n",
        "avg_playtime = user_logs_df.groupby('msno', as_index=False)['total_secs'].mean()\n",
        "avg_playtime = avg_playtime.rename(columns={\"total_secs\": \"playtime_per_day\"})\n",
        "print(avg_playtime.min())"
      ],
      "metadata": {
        "colab": {
          "base_uri": "https://localhost:8080/"
        },
        "id": "kRoYZeOaRm6i",
        "outputId": "29a45662-7448-4019-bee0-5c4e5c9a3614"
      },
      "execution_count": 8,
      "outputs": [
        {
          "output_type": "stream",
          "name": "stdout",
          "text": [
            "msno                +++IZseRRiQS9aaSkH6cMYU6bGDcxUieAi/tH67sC5s=\n",
            "playtime_per_day                                           0.026\n",
            "dtype: object\n"
          ]
        }
      ]
    },
    {
      "cell_type": "code",
      "source": [
        "# get the information about the latest transaction\n",
        "\n",
        "latest_transaction_date = transactions_df.groupby('msno', as_index=False)['transaction_date'].max()\n",
        "latest_transactions = transactions_df.merge(latest_transaction_date, on=[\"msno\", \"transaction_date\"])\n",
        "# print(latest_transactions)"
      ],
      "metadata": {
        "id": "dj66GyDWRm8X"
      },
      "execution_count": 9,
      "outputs": []
    },
    {
      "cell_type": "code",
      "source": [
        "# merge all dataset\n",
        "\n",
        "merged_data = train_df.merge(avg_playtime, how='inner', on=[\"msno\"]).merge(members_df, how='inner', on=\"msno\").merge(latest_transactions, how='inner', on=[\"msno\"])\n",
        "\n",
        "print(merged_data)"
      ],
      "metadata": {
        "colab": {
          "base_uri": "https://localhost:8080/"
        },
        "id": "WvEcfPJ53imG",
        "outputId": "5988f728-568a-4a0b-81ff-ae34086b97e9"
      },
      "execution_count": 11,
      "outputs": [
        {
          "output_type": "stream",
          "name": "stdout",
          "text": [
            "                                                msno  is_churn  \\\n",
            "0       K6fja4+jmoZ5xG6BypqX80Uw/XKpMgrEMdG2edFOxnA=         1   \n",
            "1       moRTKhKIDvb+C8ZHOgmaF4dXMLk0jOn65d7a8tQ2Eds=         1   \n",
            "2       dW/tPZMDh2Oz/ksduEctJbsz0MXw3kay/1AlZCq3EbI=         1   \n",
            "3       otEcMhAX3mU4gumUSogqgteN3oaNmhdmTkoof2iRYEE=         1   \n",
            "4       t5rqTxCnG7s5VBgEfdkQCezv5KBK7+DMujNibYgylrs=         1   \n",
            "...                                              ...       ...   \n",
            "346049  i21C/gnxqgu1EIO6eBzGDhqcvuzEfV1u78eYJjLPh5I=         0   \n",
            "346050  5dXGSlRH5LQVFbTUGQwfyyaFb8w/FVqfTS8N4aNEots=         0   \n",
            "346051  SjVZDYaiKgEHpFX1PcFDS94b9CFdaHjg78rfumtm/F4=         0   \n",
            "346052  /QlhSIWEZelYnwttYJSQL50EJJ2yRV+ThQIVQLvctp8=         0   \n",
            "346053  iZE41tbAQ65rJq60olkJT4BJzuUAYgQdfbEemXe/TTk=         0   \n",
            "\n",
            "        playtime_per_day  city  bd  gender  registered_via  \\\n",
            "0             14106.6695    13  35  female               7   \n",
            "1             11303.9945     9  28  female               3   \n",
            "2             23121.0130    13  21  female               9   \n",
            "3              3098.3520    13   0     NaN               7   \n",
            "4              1794.9300    13   0     NaN               9   \n",
            "...                  ...   ...  ..     ...             ...   \n",
            "346049         2580.4430     4   0  female               7   \n",
            "346050        10595.9480     5  21    male               9   \n",
            "346051         6164.1825    15  19    male               9   \n",
            "346052        12926.0640     8  25  female               7   \n",
            "346053         4931.6120     5  25  female               9   \n",
            "\n",
            "        registration_init_time  payment_method_id  payment_plan_days  \\\n",
            "0                     20140125                 41                 30   \n",
            "1                     20140202                 38                410   \n",
            "2                     20140212                 38                 90   \n",
            "3                     20140228                 40                 30   \n",
            "4                     20140307                 38                 30   \n",
            "...                        ...                ...                ...   \n",
            "346049                20110815                 41                 30   \n",
            "346050                20110819                 38                 30   \n",
            "346051                20110823                 39                 30   \n",
            "346052                20110830                 41                 30   \n",
            "346053                20110905                 39                 30   \n",
            "\n",
            "        plan_list_price  actual_amount_paid  is_auto_renew  transaction_date  \\\n",
            "0                    99                  99              1          20170316   \n",
            "1                  1788                1788              0          20170324   \n",
            "2                   477                 477              0          20170328   \n",
            "3                   149                 149              1          20170326   \n",
            "4                   149                 149              0          20170216   \n",
            "...                 ...                 ...            ...               ...   \n",
            "346049              149                 149              1          20170322   \n",
            "346050              149                 149              0          20170309   \n",
            "346051              149                 149              1          20170331   \n",
            "346052              149                 149              1          20170317   \n",
            "346053              149                 149              1          20170331   \n",
            "\n",
            "        membership_expire_date  is_cancel  \n",
            "0                     20170918          0  \n",
            "1                     20180513          0  \n",
            "2                     20170707          0  \n",
            "3                     20170525          0  \n",
            "4                     20170417          0  \n",
            "...                        ...        ...  \n",
            "346049                20170422          0  \n",
            "346050                20170408          0  \n",
            "346051                20170520          0  \n",
            "346052                20170417          0  \n",
            "346053                20170513          0  \n",
            "\n",
            "[346054 rows x 16 columns]\n"
          ]
        }
      ]
    },
    {
      "cell_type": "code",
      "source": [
        "# check missing values\n",
        "\n",
        "merged_data.isna().sum(axis = 0)"
      ],
      "metadata": {
        "colab": {
          "base_uri": "https://localhost:8080/"
        },
        "id": "haFH06HE48_D",
        "outputId": "089607cb-7fba-4c86-f82e-fdefedde5161"
      },
      "execution_count": 12,
      "outputs": [
        {
          "output_type": "execute_result",
          "data": {
            "text/plain": [
              "msno                           0\n",
              "is_churn                       0\n",
              "playtime_per_day               0\n",
              "city                           0\n",
              "bd                             0\n",
              "gender                    170754\n",
              "registered_via                 0\n",
              "registration_init_time         0\n",
              "payment_method_id              0\n",
              "payment_plan_days              0\n",
              "plan_list_price                0\n",
              "actual_amount_paid             0\n",
              "is_auto_renew                  0\n",
              "transaction_date               0\n",
              "membership_expire_date         0\n",
              "is_cancel                      0\n",
              "dtype: int64"
            ]
          },
          "metadata": {},
          "execution_count": 12
        }
      ]
    },
    {
      "cell_type": "code",
      "source": [
        "# Replace missing values in column 'gender' with integer -1\n",
        "\n",
        "merged_data[['gender']] = merged_data[['gender']].fillna('-1')"
      ],
      "metadata": {
        "id": "Ym6e7kEhO4qY"
      },
      "execution_count": 13,
      "outputs": []
    },
    {
      "cell_type": "code",
      "source": [
        "# Convert registration_init_time, transaction_date, membership_expire_date to years\n",
        "\n",
        "merged_data['registration_init_time'] = merged_data['registration_init_time'].astype(str).str[:4]\n",
        "merged_data['transaction_date'] = merged_data['transaction_date'].astype(str).str[:4]\n",
        "merged_data['membership_expire_date'] = merged_data['membership_expire_date'].astype(str).str[:4]\n",
        "\n",
        "print(merged_data)"
      ],
      "metadata": {
        "colab": {
          "base_uri": "https://localhost:8080/"
        },
        "id": "YzGc4Jr9VixT",
        "outputId": "e2d994cf-56b5-42f2-d5d4-c32babdee66f"
      },
      "execution_count": 14,
      "outputs": [
        {
          "output_type": "stream",
          "name": "stdout",
          "text": [
            "                                                msno  is_churn  \\\n",
            "0       K6fja4+jmoZ5xG6BypqX80Uw/XKpMgrEMdG2edFOxnA=         1   \n",
            "1       moRTKhKIDvb+C8ZHOgmaF4dXMLk0jOn65d7a8tQ2Eds=         1   \n",
            "2       dW/tPZMDh2Oz/ksduEctJbsz0MXw3kay/1AlZCq3EbI=         1   \n",
            "3       otEcMhAX3mU4gumUSogqgteN3oaNmhdmTkoof2iRYEE=         1   \n",
            "4       t5rqTxCnG7s5VBgEfdkQCezv5KBK7+DMujNibYgylrs=         1   \n",
            "...                                              ...       ...   \n",
            "346049  i21C/gnxqgu1EIO6eBzGDhqcvuzEfV1u78eYJjLPh5I=         0   \n",
            "346050  5dXGSlRH5LQVFbTUGQwfyyaFb8w/FVqfTS8N4aNEots=         0   \n",
            "346051  SjVZDYaiKgEHpFX1PcFDS94b9CFdaHjg78rfumtm/F4=         0   \n",
            "346052  /QlhSIWEZelYnwttYJSQL50EJJ2yRV+ThQIVQLvctp8=         0   \n",
            "346053  iZE41tbAQ65rJq60olkJT4BJzuUAYgQdfbEemXe/TTk=         0   \n",
            "\n",
            "        playtime_per_day  city  bd  gender  registered_via  \\\n",
            "0             14106.6695    13  35  female               7   \n",
            "1             11303.9945     9  28  female               3   \n",
            "2             23121.0130    13  21  female               9   \n",
            "3              3098.3520    13   0      -1               7   \n",
            "4              1794.9300    13   0      -1               9   \n",
            "...                  ...   ...  ..     ...             ...   \n",
            "346049         2580.4430     4   0  female               7   \n",
            "346050        10595.9480     5  21    male               9   \n",
            "346051         6164.1825    15  19    male               9   \n",
            "346052        12926.0640     8  25  female               7   \n",
            "346053         4931.6120     5  25  female               9   \n",
            "\n",
            "       registration_init_time  payment_method_id  payment_plan_days  \\\n",
            "0                        2014                 41                 30   \n",
            "1                        2014                 38                410   \n",
            "2                        2014                 38                 90   \n",
            "3                        2014                 40                 30   \n",
            "4                        2014                 38                 30   \n",
            "...                       ...                ...                ...   \n",
            "346049                   2011                 41                 30   \n",
            "346050                   2011                 38                 30   \n",
            "346051                   2011                 39                 30   \n",
            "346052                   2011                 41                 30   \n",
            "346053                   2011                 39                 30   \n",
            "\n",
            "        plan_list_price  actual_amount_paid  is_auto_renew transaction_date  \\\n",
            "0                    99                  99              1             2017   \n",
            "1                  1788                1788              0             2017   \n",
            "2                   477                 477              0             2017   \n",
            "3                   149                 149              1             2017   \n",
            "4                   149                 149              0             2017   \n",
            "...                 ...                 ...            ...              ...   \n",
            "346049              149                 149              1             2017   \n",
            "346050              149                 149              0             2017   \n",
            "346051              149                 149              1             2017   \n",
            "346052              149                 149              1             2017   \n",
            "346053              149                 149              1             2017   \n",
            "\n",
            "       membership_expire_date  is_cancel  \n",
            "0                        2017          0  \n",
            "1                        2018          0  \n",
            "2                        2017          0  \n",
            "3                        2017          0  \n",
            "4                        2017          0  \n",
            "...                       ...        ...  \n",
            "346049                   2017          0  \n",
            "346050                   2017          0  \n",
            "346051                   2017          0  \n",
            "346052                   2017          0  \n",
            "346053                   2017          0  \n",
            "\n",
            "[346054 rows x 16 columns]\n"
          ]
        }
      ]
    },
    {
      "cell_type": "code",
      "source": [
        "# replacing values in column gender\n",
        "merged_data['gender'].replace(['female', 'male'],\n",
        "                        [0, 1], inplace=True)"
      ],
      "metadata": {
        "id": "W6HPPFjhX4lW"
      },
      "execution_count": 15,
      "outputs": []
    },
    {
      "cell_type": "code",
      "source": [
        "# convert all columns datatype to numeric\n",
        "\n",
        "merged_data['gender'] = merged_data['gender'].astype(int)\n",
        "merged_data['registration_init_time'] = merged_data['registration_init_time'].astype(int)\n",
        "merged_data['transaction_date'] = merged_data['transaction_date'].astype(int)\n",
        "merged_data['membership_expire_date'] = merged_data['membership_expire_date'].astype(int)"
      ],
      "metadata": {
        "id": "NV9xnLf_nISW"
      },
      "execution_count": 16,
      "outputs": []
    },
    {
      "cell_type": "code",
      "source": [
        "merged_data.dtypes"
      ],
      "metadata": {
        "colab": {
          "base_uri": "https://localhost:8080/"
        },
        "id": "X0eg5WHJWCAY",
        "outputId": "4b68c238-a1d9-4cf6-f6b8-d8978a182de9"
      },
      "execution_count": 17,
      "outputs": [
        {
          "output_type": "execute_result",
          "data": {
            "text/plain": [
              "msno                       object\n",
              "is_churn                    int64\n",
              "playtime_per_day          float64\n",
              "city                        int64\n",
              "bd                          int64\n",
              "gender                      int64\n",
              "registered_via              int64\n",
              "registration_init_time      int64\n",
              "payment_method_id           int64\n",
              "payment_plan_days           int64\n",
              "plan_list_price             int64\n",
              "actual_amount_paid          int64\n",
              "is_auto_renew               int64\n",
              "transaction_date            int64\n",
              "membership_expire_date      int64\n",
              "is_cancel                   int64\n",
              "dtype: object"
            ]
          },
          "metadata": {},
          "execution_count": 17
        }
      ]
    },
    {
      "cell_type": "code",
      "source": [
        "# set row names (index) to the msno column\n",
        "\n",
        "merged_data = merged_data.set_index('msno')\n",
        "\n",
        "print(merged_data)"
      ],
      "metadata": {
        "colab": {
          "base_uri": "https://localhost:8080/"
        },
        "id": "mPcr7jN4VizZ",
        "outputId": "1e1be87f-e4fe-4352-c374-f339f642a5e8"
      },
      "execution_count": 18,
      "outputs": [
        {
          "output_type": "stream",
          "name": "stdout",
          "text": [
            "                                              is_churn  playtime_per_day  \\\n",
            "msno                                                                       \n",
            "K6fja4+jmoZ5xG6BypqX80Uw/XKpMgrEMdG2edFOxnA=         1        14106.6695   \n",
            "moRTKhKIDvb+C8ZHOgmaF4dXMLk0jOn65d7a8tQ2Eds=         1        11303.9945   \n",
            "dW/tPZMDh2Oz/ksduEctJbsz0MXw3kay/1AlZCq3EbI=         1        23121.0130   \n",
            "otEcMhAX3mU4gumUSogqgteN3oaNmhdmTkoof2iRYEE=         1         3098.3520   \n",
            "t5rqTxCnG7s5VBgEfdkQCezv5KBK7+DMujNibYgylrs=         1         1794.9300   \n",
            "...                                                ...               ...   \n",
            "i21C/gnxqgu1EIO6eBzGDhqcvuzEfV1u78eYJjLPh5I=         0         2580.4430   \n",
            "5dXGSlRH5LQVFbTUGQwfyyaFb8w/FVqfTS8N4aNEots=         0        10595.9480   \n",
            "SjVZDYaiKgEHpFX1PcFDS94b9CFdaHjg78rfumtm/F4=         0         6164.1825   \n",
            "/QlhSIWEZelYnwttYJSQL50EJJ2yRV+ThQIVQLvctp8=         0        12926.0640   \n",
            "iZE41tbAQ65rJq60olkJT4BJzuUAYgQdfbEemXe/TTk=         0         4931.6120   \n",
            "\n",
            "                                              city  bd  gender  \\\n",
            "msno                                                             \n",
            "K6fja4+jmoZ5xG6BypqX80Uw/XKpMgrEMdG2edFOxnA=    13  35       0   \n",
            "moRTKhKIDvb+C8ZHOgmaF4dXMLk0jOn65d7a8tQ2Eds=     9  28       0   \n",
            "dW/tPZMDh2Oz/ksduEctJbsz0MXw3kay/1AlZCq3EbI=    13  21       0   \n",
            "otEcMhAX3mU4gumUSogqgteN3oaNmhdmTkoof2iRYEE=    13   0      -1   \n",
            "t5rqTxCnG7s5VBgEfdkQCezv5KBK7+DMujNibYgylrs=    13   0      -1   \n",
            "...                                            ...  ..     ...   \n",
            "i21C/gnxqgu1EIO6eBzGDhqcvuzEfV1u78eYJjLPh5I=     4   0       0   \n",
            "5dXGSlRH5LQVFbTUGQwfyyaFb8w/FVqfTS8N4aNEots=     5  21       1   \n",
            "SjVZDYaiKgEHpFX1PcFDS94b9CFdaHjg78rfumtm/F4=    15  19       1   \n",
            "/QlhSIWEZelYnwttYJSQL50EJJ2yRV+ThQIVQLvctp8=     8  25       0   \n",
            "iZE41tbAQ65rJq60olkJT4BJzuUAYgQdfbEemXe/TTk=     5  25       0   \n",
            "\n",
            "                                              registered_via  \\\n",
            "msno                                                           \n",
            "K6fja4+jmoZ5xG6BypqX80Uw/XKpMgrEMdG2edFOxnA=               7   \n",
            "moRTKhKIDvb+C8ZHOgmaF4dXMLk0jOn65d7a8tQ2Eds=               3   \n",
            "dW/tPZMDh2Oz/ksduEctJbsz0MXw3kay/1AlZCq3EbI=               9   \n",
            "otEcMhAX3mU4gumUSogqgteN3oaNmhdmTkoof2iRYEE=               7   \n",
            "t5rqTxCnG7s5VBgEfdkQCezv5KBK7+DMujNibYgylrs=               9   \n",
            "...                                                      ...   \n",
            "i21C/gnxqgu1EIO6eBzGDhqcvuzEfV1u78eYJjLPh5I=               7   \n",
            "5dXGSlRH5LQVFbTUGQwfyyaFb8w/FVqfTS8N4aNEots=               9   \n",
            "SjVZDYaiKgEHpFX1PcFDS94b9CFdaHjg78rfumtm/F4=               9   \n",
            "/QlhSIWEZelYnwttYJSQL50EJJ2yRV+ThQIVQLvctp8=               7   \n",
            "iZE41tbAQ65rJq60olkJT4BJzuUAYgQdfbEemXe/TTk=               9   \n",
            "\n",
            "                                              registration_init_time  \\\n",
            "msno                                                                   \n",
            "K6fja4+jmoZ5xG6BypqX80Uw/XKpMgrEMdG2edFOxnA=                    2014   \n",
            "moRTKhKIDvb+C8ZHOgmaF4dXMLk0jOn65d7a8tQ2Eds=                    2014   \n",
            "dW/tPZMDh2Oz/ksduEctJbsz0MXw3kay/1AlZCq3EbI=                    2014   \n",
            "otEcMhAX3mU4gumUSogqgteN3oaNmhdmTkoof2iRYEE=                    2014   \n",
            "t5rqTxCnG7s5VBgEfdkQCezv5KBK7+DMujNibYgylrs=                    2014   \n",
            "...                                                              ...   \n",
            "i21C/gnxqgu1EIO6eBzGDhqcvuzEfV1u78eYJjLPh5I=                    2011   \n",
            "5dXGSlRH5LQVFbTUGQwfyyaFb8w/FVqfTS8N4aNEots=                    2011   \n",
            "SjVZDYaiKgEHpFX1PcFDS94b9CFdaHjg78rfumtm/F4=                    2011   \n",
            "/QlhSIWEZelYnwttYJSQL50EJJ2yRV+ThQIVQLvctp8=                    2011   \n",
            "iZE41tbAQ65rJq60olkJT4BJzuUAYgQdfbEemXe/TTk=                    2011   \n",
            "\n",
            "                                              payment_method_id  \\\n",
            "msno                                                              \n",
            "K6fja4+jmoZ5xG6BypqX80Uw/XKpMgrEMdG2edFOxnA=                 41   \n",
            "moRTKhKIDvb+C8ZHOgmaF4dXMLk0jOn65d7a8tQ2Eds=                 38   \n",
            "dW/tPZMDh2Oz/ksduEctJbsz0MXw3kay/1AlZCq3EbI=                 38   \n",
            "otEcMhAX3mU4gumUSogqgteN3oaNmhdmTkoof2iRYEE=                 40   \n",
            "t5rqTxCnG7s5VBgEfdkQCezv5KBK7+DMujNibYgylrs=                 38   \n",
            "...                                                         ...   \n",
            "i21C/gnxqgu1EIO6eBzGDhqcvuzEfV1u78eYJjLPh5I=                 41   \n",
            "5dXGSlRH5LQVFbTUGQwfyyaFb8w/FVqfTS8N4aNEots=                 38   \n",
            "SjVZDYaiKgEHpFX1PcFDS94b9CFdaHjg78rfumtm/F4=                 39   \n",
            "/QlhSIWEZelYnwttYJSQL50EJJ2yRV+ThQIVQLvctp8=                 41   \n",
            "iZE41tbAQ65rJq60olkJT4BJzuUAYgQdfbEemXe/TTk=                 39   \n",
            "\n",
            "                                              payment_plan_days  \\\n",
            "msno                                                              \n",
            "K6fja4+jmoZ5xG6BypqX80Uw/XKpMgrEMdG2edFOxnA=                 30   \n",
            "moRTKhKIDvb+C8ZHOgmaF4dXMLk0jOn65d7a8tQ2Eds=                410   \n",
            "dW/tPZMDh2Oz/ksduEctJbsz0MXw3kay/1AlZCq3EbI=                 90   \n",
            "otEcMhAX3mU4gumUSogqgteN3oaNmhdmTkoof2iRYEE=                 30   \n",
            "t5rqTxCnG7s5VBgEfdkQCezv5KBK7+DMujNibYgylrs=                 30   \n",
            "...                                                         ...   \n",
            "i21C/gnxqgu1EIO6eBzGDhqcvuzEfV1u78eYJjLPh5I=                 30   \n",
            "5dXGSlRH5LQVFbTUGQwfyyaFb8w/FVqfTS8N4aNEots=                 30   \n",
            "SjVZDYaiKgEHpFX1PcFDS94b9CFdaHjg78rfumtm/F4=                 30   \n",
            "/QlhSIWEZelYnwttYJSQL50EJJ2yRV+ThQIVQLvctp8=                 30   \n",
            "iZE41tbAQ65rJq60olkJT4BJzuUAYgQdfbEemXe/TTk=                 30   \n",
            "\n",
            "                                              plan_list_price  \\\n",
            "msno                                                            \n",
            "K6fja4+jmoZ5xG6BypqX80Uw/XKpMgrEMdG2edFOxnA=               99   \n",
            "moRTKhKIDvb+C8ZHOgmaF4dXMLk0jOn65d7a8tQ2Eds=             1788   \n",
            "dW/tPZMDh2Oz/ksduEctJbsz0MXw3kay/1AlZCq3EbI=              477   \n",
            "otEcMhAX3mU4gumUSogqgteN3oaNmhdmTkoof2iRYEE=              149   \n",
            "t5rqTxCnG7s5VBgEfdkQCezv5KBK7+DMujNibYgylrs=              149   \n",
            "...                                                       ...   \n",
            "i21C/gnxqgu1EIO6eBzGDhqcvuzEfV1u78eYJjLPh5I=              149   \n",
            "5dXGSlRH5LQVFbTUGQwfyyaFb8w/FVqfTS8N4aNEots=              149   \n",
            "SjVZDYaiKgEHpFX1PcFDS94b9CFdaHjg78rfumtm/F4=              149   \n",
            "/QlhSIWEZelYnwttYJSQL50EJJ2yRV+ThQIVQLvctp8=              149   \n",
            "iZE41tbAQ65rJq60olkJT4BJzuUAYgQdfbEemXe/TTk=              149   \n",
            "\n",
            "                                              actual_amount_paid  \\\n",
            "msno                                                               \n",
            "K6fja4+jmoZ5xG6BypqX80Uw/XKpMgrEMdG2edFOxnA=                  99   \n",
            "moRTKhKIDvb+C8ZHOgmaF4dXMLk0jOn65d7a8tQ2Eds=                1788   \n",
            "dW/tPZMDh2Oz/ksduEctJbsz0MXw3kay/1AlZCq3EbI=                 477   \n",
            "otEcMhAX3mU4gumUSogqgteN3oaNmhdmTkoof2iRYEE=                 149   \n",
            "t5rqTxCnG7s5VBgEfdkQCezv5KBK7+DMujNibYgylrs=                 149   \n",
            "...                                                          ...   \n",
            "i21C/gnxqgu1EIO6eBzGDhqcvuzEfV1u78eYJjLPh5I=                 149   \n",
            "5dXGSlRH5LQVFbTUGQwfyyaFb8w/FVqfTS8N4aNEots=                 149   \n",
            "SjVZDYaiKgEHpFX1PcFDS94b9CFdaHjg78rfumtm/F4=                 149   \n",
            "/QlhSIWEZelYnwttYJSQL50EJJ2yRV+ThQIVQLvctp8=                 149   \n",
            "iZE41tbAQ65rJq60olkJT4BJzuUAYgQdfbEemXe/TTk=                 149   \n",
            "\n",
            "                                              is_auto_renew  transaction_date  \\\n",
            "msno                                                                            \n",
            "K6fja4+jmoZ5xG6BypqX80Uw/XKpMgrEMdG2edFOxnA=              1              2017   \n",
            "moRTKhKIDvb+C8ZHOgmaF4dXMLk0jOn65d7a8tQ2Eds=              0              2017   \n",
            "dW/tPZMDh2Oz/ksduEctJbsz0MXw3kay/1AlZCq3EbI=              0              2017   \n",
            "otEcMhAX3mU4gumUSogqgteN3oaNmhdmTkoof2iRYEE=              1              2017   \n",
            "t5rqTxCnG7s5VBgEfdkQCezv5KBK7+DMujNibYgylrs=              0              2017   \n",
            "...                                                     ...               ...   \n",
            "i21C/gnxqgu1EIO6eBzGDhqcvuzEfV1u78eYJjLPh5I=              1              2017   \n",
            "5dXGSlRH5LQVFbTUGQwfyyaFb8w/FVqfTS8N4aNEots=              0              2017   \n",
            "SjVZDYaiKgEHpFX1PcFDS94b9CFdaHjg78rfumtm/F4=              1              2017   \n",
            "/QlhSIWEZelYnwttYJSQL50EJJ2yRV+ThQIVQLvctp8=              1              2017   \n",
            "iZE41tbAQ65rJq60olkJT4BJzuUAYgQdfbEemXe/TTk=              1              2017   \n",
            "\n",
            "                                              membership_expire_date  \\\n",
            "msno                                                                   \n",
            "K6fja4+jmoZ5xG6BypqX80Uw/XKpMgrEMdG2edFOxnA=                    2017   \n",
            "moRTKhKIDvb+C8ZHOgmaF4dXMLk0jOn65d7a8tQ2Eds=                    2018   \n",
            "dW/tPZMDh2Oz/ksduEctJbsz0MXw3kay/1AlZCq3EbI=                    2017   \n",
            "otEcMhAX3mU4gumUSogqgteN3oaNmhdmTkoof2iRYEE=                    2017   \n",
            "t5rqTxCnG7s5VBgEfdkQCezv5KBK7+DMujNibYgylrs=                    2017   \n",
            "...                                                              ...   \n",
            "i21C/gnxqgu1EIO6eBzGDhqcvuzEfV1u78eYJjLPh5I=                    2017   \n",
            "5dXGSlRH5LQVFbTUGQwfyyaFb8w/FVqfTS8N4aNEots=                    2017   \n",
            "SjVZDYaiKgEHpFX1PcFDS94b9CFdaHjg78rfumtm/F4=                    2017   \n",
            "/QlhSIWEZelYnwttYJSQL50EJJ2yRV+ThQIVQLvctp8=                    2017   \n",
            "iZE41tbAQ65rJq60olkJT4BJzuUAYgQdfbEemXe/TTk=                    2017   \n",
            "\n",
            "                                              is_cancel  \n",
            "msno                                                     \n",
            "K6fja4+jmoZ5xG6BypqX80Uw/XKpMgrEMdG2edFOxnA=          0  \n",
            "moRTKhKIDvb+C8ZHOgmaF4dXMLk0jOn65d7a8tQ2Eds=          0  \n",
            "dW/tPZMDh2Oz/ksduEctJbsz0MXw3kay/1AlZCq3EbI=          0  \n",
            "otEcMhAX3mU4gumUSogqgteN3oaNmhdmTkoof2iRYEE=          0  \n",
            "t5rqTxCnG7s5VBgEfdkQCezv5KBK7+DMujNibYgylrs=          0  \n",
            "...                                                 ...  \n",
            "i21C/gnxqgu1EIO6eBzGDhqcvuzEfV1u78eYJjLPh5I=          0  \n",
            "5dXGSlRH5LQVFbTUGQwfyyaFb8w/FVqfTS8N4aNEots=          0  \n",
            "SjVZDYaiKgEHpFX1PcFDS94b9CFdaHjg78rfumtm/F4=          0  \n",
            "/QlhSIWEZelYnwttYJSQL50EJJ2yRV+ThQIVQLvctp8=          0  \n",
            "iZE41tbAQ65rJq60olkJT4BJzuUAYgQdfbEemXe/TTk=          0  \n",
            "\n",
            "[346054 rows x 15 columns]\n"
          ]
        }
      ]
    },
    {
      "cell_type": "code",
      "source": [
        "merged_data.to_csv('merged_raw_datasets.csv', encoding='utf-8')"
      ],
      "metadata": {
        "id": "QA4UCmrz954s"
      },
      "execution_count": 19,
      "outputs": []
    },
    {
      "cell_type": "markdown",
      "source": [
        "This file merged the four raw datasets into a large dataset. For transactions.csv, just used the transaction information of the msno's latest transaction. For user_logs.csv, just used the average playtime_per_day for every msno. For the gender column, all Null values are converted to -1, female to 0, and male to 1. registration_init_time, transaction_date, and membership_expire_date only used the year record. All columns are converted to numeric datatypes for easily used in classification models."
      ],
      "metadata": {
        "id": "zo_0fqjq8ks8"
      }
    },
    {
      "cell_type": "code",
      "source": [
        "# bar plot for number of churn\n",
        "\n",
        "count_churn = len(merged_data[(merged_data['is_churn'] == 1)])\n",
        "count_renewal = len(merged_data[(merged_data['is_churn'] == 0)])\n",
        "\n",
        "x = ['churn', 'renewal']\n",
        "y = [count_churn, count_renewal]\n",
        "\n",
        "print(f'{x[0]}: {y[0]}')\n",
        "print(f'{x[1]}: {y[1]}')\n",
        "\n",
        "plt.bar(x, y)\n",
        "\n",
        "plt.xlabel(\"Churn or not\")\n",
        "plt.ylabel(\"Count of members\")\n",
        "plt.title(\"Number of Churn vs. renewal members\")\n",
        "plt.show()"
      ],
      "metadata": {
        "colab": {
          "base_uri": "https://localhost:8080/",
          "height": 507
        },
        "id": "N4i_H5cK-ZPs",
        "outputId": "fc2d7c46-4e00-4d48-d046-0b375b6d9f59"
      },
      "execution_count": 22,
      "outputs": [
        {
          "output_type": "stream",
          "name": "stdout",
          "text": [
            "churn: 24092\n",
            "renewal: 321962\n"
          ]
        },
        {
          "output_type": "display_data",
          "data": {
            "text/plain": [
              "<Figure size 640x480 with 1 Axes>"
            ],
            "image/png": "[encoded data removed]"
          },
          "metadata": {}
        }
      ]
    }
  ]
}