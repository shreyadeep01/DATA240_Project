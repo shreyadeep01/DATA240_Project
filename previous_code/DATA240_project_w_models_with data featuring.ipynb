{
 "cells": [
  {
   "cell_type": "code",
   "execution_count": 1,
   "metadata": {
    "colab": {
     "base_uri": "https://localhost:8080/"
    },
    "id": "2mptajWMg7LU",
    "outputId": "46897329-36ab-4ebf-f723-22ae1766d3b5"
   },
   "outputs": [
    {
     "name": "stdout",
     "output_type": "stream",
     "text": [
      "Mounted at /content/drive\n"
     ]
    }
   ],
   "source": [
    "from google.colab import drive\n",
    "drive.mount('/content/drive')"
   ]
  },
  {
   "cell_type": "code",
   "execution_count": 2,
   "metadata": {
    "id": "X5Gi2-R2hhSz"
   },
   "outputs": [],
   "source": [
    "#adding some code data feature engineering\n",
    "# Visualization\n",
    "import matplotlib.pyplot as plt\n",
    "import seaborn as sns\n",
    "\n",
    "# Data Manipulation\n",
    "import pandas as pd\n",
    "import numpy as np\n",
    "\n",
    "# Date and Time\n",
    "from datetime import datetime\n",
    "\n",
    "# Additional visualization (not direct equivalents, but useful)\n",
    "from scipy.stats import gaussian_kde\n",
    "\n",
    "\n",
    "\n"
   ]
  },
  {
   "cell_type": "code",
   "execution_count": 3,
   "metadata": {
    "id": "WWBw2lIvhhVG"
   },
   "outputs": [],
   "source": [
    "import matplotlib.pyplot as plt\n",
    "import matplotlib.gridspec as gridspec\n",
    "\n",
    "def multiplot(plots, cols=1, layout=None):\n",
    "    num_plots = len(plots)\n",
    "\n",
    "    if layout is None:\n",
    "        rows = -(-num_plots // cols)  # Ceiling division\n",
    "        layout = (rows, cols)\n",
    "\n",
    "    fig = plt.figure(figsize=(cols * 4, rows * 4))  # Adjust figure size as needed\n",
    "    gs = gridspec.GridSpec(*layout)\n",
    "\n",
    "    for i, plot in enumerate(plots):\n",
    "        row, col = divmod(i, cols)\n",
    "        ax = fig.add_subplot(gs[row, col])\n",
    "        plot(ax)  # Assuming each plot is a function that takes an Axes object\n",
    "\n",
    "    plt.tight_layout()\n",
    "    plt.show()\n",
    "\n"
   ]
  },
  {
   "cell_type": "code",
   "execution_count": 4,
   "metadata": {
    "colab": {
     "base_uri": "https://localhost:8080/"
    },
    "id": "Ti5rYcZ0jZa-",
    "outputId": "2d8b9f28-8892-4a6a-e182-1b5d6dc318a9"
   },
   "outputs": [
    {
     "name": "stdout",
     "output_type": "stream",
     "text": [
      "^C\n",
      "Note: you may need to restart the kernel to use updated packages.\n"
     ]
    }
   ],
   "source": [
    "pip install statsmodels\n"
   ]
  },
  {
   "cell_type": "code",
   "execution_count": 5,
   "metadata": {
    "id": "uq_qKP5-jZdr"
   },
   "outputs": [],
   "source": [
    "import statsmodels.stats.proportion as smp\n",
    "\n",
    "def get_binCI(x, n, confidence_level=0.95):\n",
    "    \"\"\"\n",
    "    Function to calculate the binomial confidence interval.\n",
    "\n",
    "    :param x: Number of successes.\n",
    "    :param n: Number of trials.\n",
    "    :param confidence_level: Confidence level for the interval. Default is 0.95.\n",
    "    :return: A dictionary with lower and upper confidence interval bounds.\n",
    "    \"\"\"\n",
    "    lower, upper = smp.proportion_confint(count=x, nobs=n, alpha=(1 - confidence_level), method='normal')\n",
    "    return {'lwr': lower, 'upr': upper}\n"
   ]
  },
  {
   "cell_type": "code",
   "execution_count": 46,
   "metadata": {
    "colab": {
     "base_uri": "https://localhost:8080/"
    },
    "id": "aVhZCgsHjZgr",
    "outputId": "f149b1e6-e52e-41df-c1ee-61795111d164"
   },
   "outputs": [
    {
     "name": "stdout",
     "output_type": "stream",
     "text": [
      "Requirement already satisfied: pandas in /usr/local/lib/python3.10/dist-packages (1.5.3)\n",
      "Requirement already satisfied: python-dateutil>=2.8.1 in /usr/local/lib/python3.10/dist-packages (from pandas) (2.8.2)\n",
      "Requirement already satisfied: pytz>=2020.1 in /usr/local/lib/python3.10/dist-packages (from pandas) (2023.3.post1)\n",
      "Requirement already satisfied: numpy>=1.21.0 in /usr/local/lib/python3.10/dist-packages (from pandas) (1.23.5)\n",
      "Requirement already satisfied: six>=1.5 in /usr/local/lib/python3.10/dist-packages (from python-dateutil>=2.8.1->pandas) (1.16.0)\n"
     ]
    }
   ],
   "source": [
    "pip install pandas\n"
   ]
  },
  {
   "cell_type": "code",
   "execution_count": 51,
   "metadata": {
    "id": "HFq3v360jZjU"
   },
   "outputs": [],
   "source": [
    "import pandas as pd\n",
    "\n",
    "members = pd.read_csv('/content/drive/MyDrive/DATA MINING /members.csv')\n",
    "# test = pd.read_csv('../input/sample_submission.csv')\n",
    "trans = pd.read_csv('/content/drive/MyDrive/DATA MINING /transactions.csv', nrows=5000)\n",
    "logs = pd.read_csv('/content/drive/MyDrive/DATA MINING /user_logs.csv', nrows=5000)\n",
    "churn = pd.read_csv('/content/drive/MyDrive/DATA MINING /is_churn.csv', nrows=5000)\n"
   ]
  },
  {
   "cell_type": "code",
   "execution_count": 54,
   "metadata": {
    "colab": {
     "base_uri": "https://localhost:8080/"
    },
    "id": "zHXQfag_hhXp",
    "outputId": "2caab754-88d5-40dc-ae92-927190ee6031"
   },
   "outputs": [
    {
     "name": "stdout",
     "output_type": "stream",
     "text": [
      "                                           msno  city  bd gender  \\\n",
      "0  vcXU+0HJiJPRmQaBYUrmCmj64rIluNGYy5uGYK5jtmw=     4  21   male   \n",
      "1  Xj46RMUpTjv8IQq5TdDoifHw4WwHbXCnDc1QqL0KFlo=     4  29   male   \n",
      "2  sH1QH54J0ytNyLo4AITcozT9RBORbk0fpVjgLNmLZiI=     4  23   male   \n",
      "3  9eoVMtsXwWvmDtvBHzLTV5gegf59sdeuTvdbhnl77nk=     1   0    NaN   \n",
      "4  FytYRDc6RPMESLcVIea5WNCZ6qi9axDsSthI42w6Gd0=     1   0    NaN   \n",
      "\n",
      "   registered_via  registration_init_time  \n",
      "0               9                20070309  \n",
      "1               9                20140403  \n",
      "2               3                20141210  \n",
      "3              13                20161227  \n",
      "4               7                20170123  \n"
     ]
    }
   ],
   "source": [
    "print(members.head())\n",
    "# print(test.head())  # Uncomment if needed\n"
   ]
  },
  {
   "cell_type": "code",
   "execution_count": 55,
   "metadata": {
    "colab": {
     "base_uri": "https://localhost:8080/"
    },
    "id": "COBpzDPXhhZs",
    "outputId": "c48f487f-3a95-44ef-d0f0-60f1bf258a7e"
   },
   "outputs": [
    {
     "name": "stdout",
     "output_type": "stream",
     "text": [
      "                                           msno  payment_method_id  \\\n",
      "0  pytvLjmKj7HrcmrYFcTagnrf+phi8rfiuHRoRemWhqY=                 41   \n",
      "1  pytvLjmKj7HrcmrYFcTagnrf+phi8rfiuHRoRemWhqY=                 41   \n",
      "2  pytvLjmKj7HrcmrYFcTagnrf+phi8rfiuHRoRemWhqY=                 41   \n",
      "3  pytvLjmKj7HrcmrYFcTagnrf+phi8rfiuHRoRemWhqY=                 41   \n",
      "4  pytvLjmKj7HrcmrYFcTagnrf+phi8rfiuHRoRemWhqY=                 41   \n",
      "\n",
      "   payment_plan_days  plan_list_price  actual_amount_paid  is_auto_renew  \\\n",
      "0                 30               99                  99              1   \n",
      "1                 30               99                  99              1   \n",
      "2                 30               99                  99              1   \n",
      "3                 30               99                  99              1   \n",
      "4                 30               99                  99              1   \n",
      "\n",
      "   transaction_date  membership_expire_date  is_cancel  \n",
      "0          20160822                20160922          0  \n",
      "1          20161022                20161122          0  \n",
      "2          20161222                20170122          0  \n",
      "3          20170222                20170322          0  \n",
      "4          20160322                20160422          0  \n"
     ]
    }
   ],
   "source": [
    "print(trans.head())\n"
   ]
  },
  {
   "cell_type": "code",
   "execution_count": 56,
   "metadata": {
    "colab": {
     "base_uri": "https://localhost:8080/"
    },
    "id": "KDMRhxpvhhdR",
    "outputId": "90b592c9-e9bb-49ce-e56f-ae1130d3748b"
   },
   "outputs": [
    {
     "name": "stdout",
     "output_type": "stream",
     "text": [
      "                                           msno      date  num_25  num_50  \\\n",
      "0  S2T6jI9T0Co0vOUpzrIMTTSwq21nq2Qjsaxb9HeGIUc=  20150201       0       1   \n",
      "1  S2T6jI9T0Co0vOUpzrIMTTSwq21nq2Qjsaxb9HeGIUc=  20150329       2       0   \n",
      "2  S2T6jI9T0Co0vOUpzrIMTTSwq21nq2Qjsaxb9HeGIUc=  20150524       3       8   \n",
      "3  S2T6jI9T0Co0vOUpzrIMTTSwq21nq2Qjsaxb9HeGIUc=  20150716       3       0   \n",
      "4  S2T6jI9T0Co0vOUpzrIMTTSwq21nq2Qjsaxb9HeGIUc=  20150930       1       1   \n",
      "\n",
      "   num_75  num_985  num_100  num_unq  total_secs  \n",
      "0       0        1       41       20   10920.526  \n",
      "1       0        1       42       37   10944.409  \n",
      "2       1        1      100       64   25880.440  \n",
      "3       1        0        6       10    1596.681  \n",
      "4       1        1       26       24    7351.039  \n"
     ]
    }
   ],
   "source": [
    "print(logs.head())\n",
    "#print(churn.head())\n"
   ]
  },
  {
   "cell_type": "code",
   "execution_count": 58,
   "metadata": {
    "colab": {
     "base_uri": "https://localhost:8080/"
    },
    "id": "HbfQluMBhhpp",
    "outputId": "cecc8519-469a-4cea-a4af-6b505b6fbd5b"
   },
   "outputs": [
    {
     "name": "stdout",
     "output_type": "stream",
     "text": [
      "<class 'pandas.core.frame.DataFrame'>\n",
      "RangeIndex: 4407 entries, 0 to 4406\n",
      "Data columns (total 6 columns):\n",
      " #   Column                  Non-Null Count  Dtype \n",
      "---  ------                  --------------  ----- \n",
      " 0   msno                    4407 non-null   object\n",
      " 1   city                    4407 non-null   int64 \n",
      " 2   bd                      4407 non-null   int64 \n",
      " 3   gender                  1946 non-null   object\n",
      " 4   registered_via          4407 non-null   int64 \n",
      " 5   registration_init_time  4407 non-null   int64 \n",
      "dtypes: int64(4), object(2)\n",
      "memory usage: 206.7+ KB\n"
     ]
    }
   ],
   "source": [
    "members.info()\n"
   ]
  },
  {
   "cell_type": "code",
   "execution_count": 59,
   "metadata": {
    "colab": {
     "base_uri": "https://localhost:8080/"
    },
    "id": "zoh6F8Vulvr3",
    "outputId": "e37b4618-b58d-483a-ae40-a4c7b3031413"
   },
   "outputs": [
    {
     "name": "stdout",
     "output_type": "stream",
     "text": [
      "<class 'pandas.core.frame.DataFrame'>\n",
      "RangeIndex: 5000 entries, 0 to 4999\n",
      "Data columns (total 9 columns):\n",
      " #   Column                  Non-Null Count  Dtype \n",
      "---  ------                  --------------  ----- \n",
      " 0   msno                    5000 non-null   object\n",
      " 1   payment_method_id       5000 non-null   int64 \n",
      " 2   payment_plan_days       5000 non-null   int64 \n",
      " 3   plan_list_price         5000 non-null   int64 \n",
      " 4   actual_amount_paid      5000 non-null   int64 \n",
      " 5   is_auto_renew           5000 non-null   int64 \n",
      " 6   transaction_date        5000 non-null   int64 \n",
      " 7   membership_expire_date  5000 non-null   int64 \n",
      " 8   is_cancel               5000 non-null   int64 \n",
      "dtypes: int64(8), object(1)\n",
      "memory usage: 351.7+ KB\n"
     ]
    }
   ],
   "source": [
    "# test.info()  # Uncomment if needed\n",
    "trans.info()\n",
    "\n"
   ]
  },
  {
   "cell_type": "code",
   "execution_count": 60,
   "metadata": {
    "colab": {
     "base_uri": "https://localhost:8080/"
    },
    "id": "8yt3dGSxlvuu",
    "outputId": "ffdab51a-ea3a-419c-8b44-676944efa0a7"
   },
   "outputs": [
    {
     "name": "stdout",
     "output_type": "stream",
     "text": [
      "<class 'pandas.core.frame.DataFrame'>\n",
      "RangeIndex: 5000 entries, 0 to 4999\n",
      "Data columns (total 9 columns):\n",
      " #   Column      Non-Null Count  Dtype  \n",
      "---  ------      --------------  -----  \n",
      " 0   msno        5000 non-null   object \n",
      " 1   date        5000 non-null   int64  \n",
      " 2   num_25      5000 non-null   int64  \n",
      " 3   num_50      5000 non-null   int64  \n",
      " 4   num_75      5000 non-null   int64  \n",
      " 5   num_985     5000 non-null   int64  \n",
      " 6   num_100     5000 non-null   int64  \n",
      " 7   num_unq     5000 non-null   int64  \n",
      " 8   total_secs  5000 non-null   float64\n",
      "dtypes: float64(1), int64(7), object(1)\n",
      "memory usage: 351.7+ KB\n"
     ]
    }
   ],
   "source": [
    "# test.info()  # Uncomment if needed\n",
    "logs.info()\n"
   ]
  },
  {
   "cell_type": "code",
   "execution_count": 67,
   "metadata": {
    "colab": {
     "base_uri": "https://localhost:8080/"
    },
    "id": "51NGdMaToAx7",
    "outputId": "5d8e2400-3d5e-47d2-c376-c04fa8a21e92"
   },
   "outputs": [
    {
     "name": "stdout",
     "output_type": "stream",
     "text": [
      "<class 'pandas.core.frame.DataFrame'>\n",
      "RangeIndex: 4964 entries, 0 to 4963\n",
      "Data columns (total 2 columns):\n",
      " #   Column    Non-Null Count  Dtype \n",
      "---  ------    --------------  ----- \n",
      " 0   msno      4964 non-null   object\n",
      " 1   is_churn  4964 non-null   int64 \n",
      "dtypes: int64(1), object(1)\n",
      "memory usage: 77.7+ KB\n"
     ]
    }
   ],
   "source": [
    "churn.info()"
   ]
  },
  {
   "cell_type": "code",
   "execution_count": 61,
   "metadata": {
    "colab": {
     "base_uri": "https://localhost:8080/"
    },
    "id": "PZjwuD4ylvyY",
    "outputId": "2a9ce3f2-a0b1-4321-ba2a-e14c13a77660"
   },
   "outputs": [
    {
     "name": "stdout",
     "output_type": "stream",
     "text": [
      "              city           bd  registered_via  registration_init_time\n",
      "count  4407.000000  4407.000000     4407.000000            4.407000e+03\n",
      "mean      5.894940    13.237803        6.916043            2.013276e+07\n",
      "std       6.427259    16.059911        1.905206            2.932067e+04\n",
      "min       1.000000   -42.000000        3.000000            2.004033e+07\n",
      "25%       1.000000     0.000000        7.000000            2.012031e+07\n",
      "50%       1.000000     0.000000        7.000000            2.014060e+07\n",
      "75%      13.000000    27.000000        9.000000            2.016011e+07\n",
      "max      22.000000   117.000000       13.000000            2.017021e+07\n"
     ]
    }
   ],
   "source": [
    "print(members.describe())\n",
    "# print(test.describe())  # Uncomment if needed\n",
    "\n"
   ]
  },
  {
   "cell_type": "code",
   "execution_count": 62,
   "metadata": {
    "colab": {
     "base_uri": "https://localhost:8080/"
    },
    "id": "sfNAQ1Nplv3F",
    "outputId": "81f56e0a-0c51-46b9-dfe4-bc509dfe3385"
   },
   "outputs": [
    {
     "name": "stdout",
     "output_type": "stream",
     "text": [
      "       payment_method_id  payment_plan_days  plan_list_price  \\\n",
      "count        5000.000000         5000.00000      5000.000000   \n",
      "mean           38.911000           28.78820       130.852000   \n",
      "std             3.983849           10.08046        50.386878   \n",
      "min            14.000000            0.00000         0.000000   \n",
      "25%            38.000000           30.00000        99.000000   \n",
      "50%            41.000000           30.00000       149.000000   \n",
      "75%            41.000000           30.00000       149.000000   \n",
      "max            41.000000          410.00000      1788.000000   \n",
      "\n",
      "       actual_amount_paid  is_auto_renew  transaction_date  \\\n",
      "count         5000.000000     5000.00000      5.000000e+03   \n",
      "mean           137.015000        0.94020      2.015773e+07   \n",
      "std             41.720984        0.23714      6.140918e+03   \n",
      "min              0.000000        0.00000      2.015010e+07   \n",
      "25%            129.000000        1.00000      2.015092e+07   \n",
      "50%            149.000000        1.00000      2.016033e+07   \n",
      "75%            149.000000        1.00000      2.016092e+07   \n",
      "max           1788.000000        1.00000      2.017023e+07   \n",
      "\n",
      "       membership_expire_date   is_cancel  \n",
      "count            5.000000e+03  5000.00000  \n",
      "mean             2.015876e+07     0.01940  \n",
      "std              6.514154e+03     0.13794  \n",
      "min              2.014062e+07     0.00000  \n",
      "25%              2.015102e+07     0.00000  \n",
      "50%              2.016050e+07     0.00000  \n",
      "75%              2.016103e+07     0.00000  \n",
      "max              2.017033e+07     1.00000  \n"
     ]
    }
   ],
   "source": [
    "print(trans.describe())\n"
   ]
  },
  {
   "cell_type": "code",
   "execution_count": 63,
   "metadata": {
    "colab": {
     "base_uri": "https://localhost:8080/"
    },
    "id": "oftI-LkHlv6k",
    "outputId": "83aa07cc-6308-440e-e286-d298f778e6bb"
   },
   "outputs": [
    {
     "name": "stdout",
     "output_type": "stream",
     "text": [
      "               date       num_25       num_50       num_75      num_985  \\\n",
      "count  5.000000e+03  5000.000000  5000.000000  5000.000000  5000.000000   \n",
      "mean   2.015857e+07     6.352200     1.604800     1.003200     0.928800   \n",
      "std    6.095390e+03    11.227616     3.240234     1.933892     1.602699   \n",
      "min    2.015010e+07     0.000000     0.000000     0.000000     0.000000   \n",
      "25%    2.015110e+07     0.000000     0.000000     0.000000     0.000000   \n",
      "50%    2.016051e+07     2.000000     1.000000     0.000000     0.000000   \n",
      "75%    2.016101e+07     7.000000     2.000000     1.000000     1.000000   \n",
      "max    2.017023e+07   212.000000    47.000000    48.000000    39.000000   \n",
      "\n",
      "           num_100      num_unq    total_secs  \n",
      "count  5000.000000  5000.000000   5000.000000  \n",
      "mean     28.242800    28.433800   7371.679701  \n",
      "std      30.457357    28.035799   7711.519727  \n",
      "min       0.000000     1.000000      1.466000  \n",
      "25%       7.000000    10.000000   2097.765250  \n",
      "50%      17.000000    20.000000   4578.371500  \n",
      "75%      38.000000    37.000000   9839.675000  \n",
      "max     248.000000   225.000000  62883.571000  \n"
     ]
    }
   ],
   "source": [
    "print(logs.describe())\n"
   ]
  },
  {
   "cell_type": "code",
   "execution_count": 66,
   "metadata": {
    "colab": {
     "base_uri": "https://localhost:8080/"
    },
    "id": "lRRy7p1wlv9n",
    "outputId": "dfa619c9-2dbe-402a-8b7d-a2260ecf47e1"
   },
   "outputs": [
    {
     "name": "stdout",
     "output_type": "stream",
     "text": [
      "          is_churn\n",
      "count  4964.000000\n",
      "mean      0.063860\n",
      "std       0.244528\n",
      "min       0.000000\n",
      "25%       0.000000\n",
      "50%       0.000000\n",
      "75%       0.000000\n",
      "max       1.000000\n"
     ]
    }
   ],
   "source": [
    "print(churn.describe())"
   ]
  },
  {
   "cell_type": "code",
   "execution_count": null,
   "metadata": {
    "id": "bRTWcr--nNd3"
   },
   "outputs": [],
   "source": [
    "# reference: https://www.kaggle.com/code/headsortails/should-i-stay-or-should-i-go-kkbox-eda"
   ]
  },
  {
   "cell_type": "code",
   "execution_count": null,
   "metadata": {
    "id": "_R3BAAr0nNg5"
   },
   "outputs": [],
   "source": []
  },
  {
   "cell_type": "code",
   "execution_count": null,
   "metadata": {
    "id": "HC-1QLRWnNjZ"
   },
   "outputs": [],
   "source": []
  },
  {
   "cell_type": "code",
   "execution_count": null,
   "metadata": {
    "id": "UnbEufCsnNm1"
   },
   "outputs": [],
   "source": []
  },
  {
   "cell_type": "code",
   "execution_count": 6,
   "metadata": {
    "id": "3zbTPED2g3gz"
   },
   "outputs": [],
   "source": [
    "import pandas as pd\n",
    "import numpy as np\n",
    "\n",
    "import matplotlib.pyplot as plt"
   ]
  },
  {
   "cell_type": "markdown",
   "metadata": {
    "id": "RJ5sEjD8PMhG"
   },
   "source": [
    "Load datasets from Google drives"
   ]
  },
  {
   "cell_type": "code",
   "execution_count": 7,
   "metadata": {
    "id": "_jRdUXFmAUzQ"
   },
   "outputs": [],
   "source": [
    "is_churn_url = 'https://drive.google.com/file/d/1P43072y7KI4RUOKgWzZc3ov8kMaFQMVA/view?usp=sharing'\n",
    "is_churn_url = 'https://drive.google.com/uc?id=' + is_churn_url.split('/')[-2]\n",
    "\n",
    "# is_churn_url = 'is_churn.csv'\n",
    "is_churn_df = pd.read_csv(is_churn_url)\n",
    "\n",
    "# print(is_churn_df)"
   ]
  },
  {
   "cell_type": "code",
   "execution_count": 8,
   "metadata": {
    "id": "fOcDvqSBMc1p"
   },
   "outputs": [],
   "source": [
    "transactions_url = 'https://drive.google.com/file/d/1oPbL4uWPtFvq41IqNfMNW7QUaGA3INXV/view?usp=sharing'\n",
    "transactions_url = 'https://drive.google.com/uc?id=' + transactions_url.split('/')[-2]\n",
    "# transactions_url = 'transactions.csv'\n",
    "transactions_df = pd.read_csv(transactions_url)\n",
    "\n",
    "# print(transactions_df)"
   ]
  },
  {
   "cell_type": "code",
   "execution_count": 9,
   "metadata": {
    "id": "Itf_1tg2Mc86"
   },
   "outputs": [],
   "source": [
    "user_logs_url = 'https://drive.google.com/file/d/1FNMohIsfIcBFs2V-0m43qYoIGP1gCLQe/view?usp=sharing'\n",
    "user_logs_url = 'https://drive.google.com/uc?id=' + user_logs_url.split('/')[-2]\n",
    "\n",
    "user_logs_df = pd.read_csv(user_logs_url)\n",
    "\n",
    "# print(user_logs_df)"
   ]
  },
  {
   "cell_type": "code",
   "execution_count": 10,
   "metadata": {
    "id": "qQCGk852MdGr"
   },
   "outputs": [],
   "source": [
    "members_url = 'https://drive.google.com/file/d/1yWY0mrpyEU3Ug98H8JsbQ-esROu5L5X6/view?usp=sharing'\n",
    "members_url = 'https://drive.google.com/uc?id=' + members_url.split('/')[-2]\n",
    "\n",
    "# members_path = 'members.csv'\n",
    "members_df = pd.read_csv(members_url)\n",
    "\n",
    "# print(members_df)"
   ]
  },
  {
   "cell_type": "markdown",
   "metadata": {
    "id": "DhLdBGx0PZS4"
   },
   "source": [
    "Merge four datasets into a large dataset"
   ]
  },
  {
   "cell_type": "code",
   "execution_count": 11,
   "metadata": {
    "colab": {
     "base_uri": "https://localhost:8080/"
    },
    "id": "kRoYZeOaRm6i",
    "outputId": "1eb1dffb-f415-47dd-c2da-1ca501920b3c"
   },
   "outputs": [
    {
     "name": "stdout",
     "output_type": "stream",
     "text": [
      "msno                ++LEgyw4z5zuPu61SoBhMicDimkV+A9kPbcMaQgC/7c=\n",
      "playtime_per_day                            -320255973495365.125\n",
      "dtype: object\n"
     ]
    }
   ],
   "source": [
    "# count the average playtime per day for every member\n",
    "\n",
    "avg_playtime = user_logs_df.groupby('msno', as_index=False)['total_secs'].mean()\n",
    "avg_playtime = avg_playtime.rename(columns={\"total_secs\": \"playtime_per_day\"})\n",
    "print(avg_playtime.min())"
   ]
  },
  {
   "cell_type": "code",
   "execution_count": 12,
   "metadata": {
    "id": "dj66GyDWRm8X"
   },
   "outputs": [],
   "source": [
    "# calculate the total length of membership plan in days\n",
    "\n",
    "membership_days = transactions_df.groupby('msno', as_index=False)['payment_plan_days'].sum()\n",
    "latest_transaction_date = transactions_df.groupby('msno', as_index=False)['transaction_date'].max()\n",
    "latest_transactions = transactions_df.merge(latest_transaction_date, on=[\"msno\", \"transaction_date\"])\n",
    "# print(latest_transactions)"
   ]
  },
  {
   "cell_type": "code",
   "execution_count": 13,
   "metadata": {
    "colab": {
     "base_uri": "https://localhost:8080/"
    },
    "id": "WvEcfPJ53imG",
    "outputId": "9a169dd6-182c-4ec4-8928-92fa7519f495"
   },
   "outputs": [
    {
     "name": "stdout",
     "output_type": "stream",
     "text": [
      "                                              msno  is_churn  \\\n",
      "0     dEPT6Ki6RIimMvKFy2B/iLhNalAIQVvVEznJwqcI5xg=         0   \n",
      "1     NZh6JkdKxv5+yzfxoJjDpqQqlxaWoLte6GoAUcD2RKs=         0   \n",
      "2     MQJh0JzTYfSzdsOH/ice1rsxouzE/dRDFeI4MhA3mqA=         0   \n",
      "3     TMBsL0a7IjM8dEC4Yg8lwbnZP52MJpiSLcvHNjesmSs=         0   \n",
      "4     QH6WsEFO0cDNqAgBzuFoKdPbpaq27+StO4I/6ATGfXc=         0   \n",
      "...                                            ...       ...   \n",
      "4423  R+puA1IoFN9ZIBZINnLZivZEAW8jv47H6D0zPNeGlGc=         1   \n",
      "4424  uDT8cz06dz2Hwv0DspKzjDPcP4izsPH6HZgd9EvEgGg=         1   \n",
      "4425  2tfPyhPXlIGjqGMb+r/ZTmxeG/v0i28xY3xSn97gdOo=         1   \n",
      "4426  TQvFyIQAcPI4qpzYoT9+b9dM9Odjnyw4ev3kOu1I5sI=         1   \n",
      "4427  TQvFyIQAcPI4qpzYoT9+b9dM9Odjnyw4ev3kOu1I5sI=         1   \n",
      "\n",
      "      playtime_per_day  city  bd  gender  registered_via  \\\n",
      "0         1.481261e+04    22  35    male               9   \n",
      "1         1.446139e+03     1   0     NaN               7   \n",
      "2         3.540335e+03     8  32  female               7   \n",
      "3         2.101799e+03    12  21    male               4   \n",
      "4         2.693799e+04     1   0     NaN               7   \n",
      "...                ...   ...  ..     ...             ...   \n",
      "4423     -4.303284e+13     4  38  female               7   \n",
      "4424      6.345836e+03    17  17  female               7   \n",
      "4425      6.386885e+03    13  35  female               9   \n",
      "4426      6.546864e+03     1   0     NaN               4   \n",
      "4427      6.546864e+03     1   0     NaN               4   \n",
      "\n",
      "      registration_init_time  payment_method_id  payment_plan_days  \\\n",
      "0                   20110613                 31                 30   \n",
      "1                   20110111                 41                 30   \n",
      "2                   20110205                 41                 30   \n",
      "3                   20161005                 36                 30   \n",
      "4                   20130901                 38                 30   \n",
      "...                      ...                ...                ...   \n",
      "4423                20140116                 32                180   \n",
      "4424                20160204                 41                 30   \n",
      "4425                20050817                 32                180   \n",
      "4426                20161104                 38                 90   \n",
      "4427                20161104                 35                  7   \n",
      "\n",
      "      plan_list_price  actual_amount_paid  is_auto_renew  transaction_date  \\\n",
      "0                 149                 149              1          20170228   \n",
      "1                  99                  99              1          20170210   \n",
      "2                 149                 149              1          20170215   \n",
      "3                 180                 180              0          20170217   \n",
      "4                 149                 149              0          20170220   \n",
      "...               ...                 ...            ...               ...   \n",
      "4423              536                 536              0          20160823   \n",
      "4424               99                  99              1          20170204   \n",
      "4425              536                 536              0          20160811   \n",
      "4426              477                 477              0          20161104   \n",
      "4427                0                   0              0          20161104   \n",
      "\n",
      "      membership_expire_date  is_cancel  \n",
      "0                   20170331          0  \n",
      "1                   20170310          0  \n",
      "2                   20170316          0  \n",
      "3                   20170319          0  \n",
      "4                   20170322          0  \n",
      "...                      ...        ...  \n",
      "4423                20170222          0  \n",
      "4424                20170204          1  \n",
      "4425                20170210          0  \n",
      "4426                20170209          0  \n",
      "4427                20161111          0  \n",
      "\n",
      "[4428 rows x 16 columns]\n"
     ]
    }
   ],
   "source": [
    "# merge all dataset\n",
    "\n",
    "merged_data = is_churn_df.merge(avg_playtime, how='inner', on=[\"msno\"]).merge(members_df, how='inner', on=\"msno\").merge(latest_transactions, how='inner', on=[\"msno\"])\n",
    "\n",
    "print(merged_data)"
   ]
  },
  {
   "cell_type": "code",
   "execution_count": 14,
   "metadata": {
    "colab": {
     "base_uri": "https://localhost:8080/"
    },
    "id": "haFH06HE48_D",
    "outputId": "df7243f6-2597-4e40-c139-31570672b506"
   },
   "outputs": [
    {
     "data": {
      "text/plain": [
       "msno                         0\n",
       "is_churn                     0\n",
       "playtime_per_day             0\n",
       "city                         0\n",
       "bd                           0\n",
       "gender                    2471\n",
       "registered_via               0\n",
       "registration_init_time       0\n",
       "payment_method_id            0\n",
       "payment_plan_days            0\n",
       "plan_list_price              0\n",
       "actual_amount_paid           0\n",
       "is_auto_renew                0\n",
       "transaction_date             0\n",
       "membership_expire_date       0\n",
       "is_cancel                    0\n",
       "dtype: int64"
      ]
     },
     "execution_count": 14,
     "metadata": {},
     "output_type": "execute_result"
    }
   ],
   "source": [
    "# check missing values\n",
    "\n",
    "merged_data.isna().sum(axis = 0)"
   ]
  },
  {
   "cell_type": "code",
   "execution_count": 15,
   "metadata": {
    "id": "Ym6e7kEhO4qY"
   },
   "outputs": [],
   "source": [
    "# Replace missing values in column 'gender' with integer -1\n",
    "\n",
    "merged_data[['gender']] = merged_data[['gender']].fillna('-1')"
   ]
  },
  {
   "cell_type": "code",
   "execution_count": 16,
   "metadata": {
    "colab": {
     "base_uri": "https://localhost:8080/"
    },
    "id": "YzGc4Jr9VixT",
    "outputId": "b7bb52a5-df40-4f2a-d3e7-4dcbc1689f8f"
   },
   "outputs": [
    {
     "name": "stdout",
     "output_type": "stream",
     "text": [
      "                                              msno  is_churn  \\\n",
      "0     dEPT6Ki6RIimMvKFy2B/iLhNalAIQVvVEznJwqcI5xg=         0   \n",
      "1     NZh6JkdKxv5+yzfxoJjDpqQqlxaWoLte6GoAUcD2RKs=         0   \n",
      "2     MQJh0JzTYfSzdsOH/ice1rsxouzE/dRDFeI4MhA3mqA=         0   \n",
      "3     TMBsL0a7IjM8dEC4Yg8lwbnZP52MJpiSLcvHNjesmSs=         0   \n",
      "4     QH6WsEFO0cDNqAgBzuFoKdPbpaq27+StO4I/6ATGfXc=         0   \n",
      "...                                            ...       ...   \n",
      "4423  R+puA1IoFN9ZIBZINnLZivZEAW8jv47H6D0zPNeGlGc=         1   \n",
      "4424  uDT8cz06dz2Hwv0DspKzjDPcP4izsPH6HZgd9EvEgGg=         1   \n",
      "4425  2tfPyhPXlIGjqGMb+r/ZTmxeG/v0i28xY3xSn97gdOo=         1   \n",
      "4426  TQvFyIQAcPI4qpzYoT9+b9dM9Odjnyw4ev3kOu1I5sI=         1   \n",
      "4427  TQvFyIQAcPI4qpzYoT9+b9dM9Odjnyw4ev3kOu1I5sI=         1   \n",
      "\n",
      "      playtime_per_day  city  bd  gender  registered_via  \\\n",
      "0         1.481261e+04    22  35    male               9   \n",
      "1         1.446139e+03     1   0      -1               7   \n",
      "2         3.540335e+03     8  32  female               7   \n",
      "3         2.101799e+03    12  21    male               4   \n",
      "4         2.693799e+04     1   0      -1               7   \n",
      "...                ...   ...  ..     ...             ...   \n",
      "4423     -4.303284e+13     4  38  female               7   \n",
      "4424      6.345836e+03    17  17  female               7   \n",
      "4425      6.386885e+03    13  35  female               9   \n",
      "4426      6.546864e+03     1   0      -1               4   \n",
      "4427      6.546864e+03     1   0      -1               4   \n",
      "\n",
      "     registration_init_time  payment_method_id  payment_plan_days  \\\n",
      "0                      2011                 31                 30   \n",
      "1                      2011                 41                 30   \n",
      "2                      2011                 41                 30   \n",
      "3                      2016                 36                 30   \n",
      "4                      2013                 38                 30   \n",
      "...                     ...                ...                ...   \n",
      "4423                   2014                 32                180   \n",
      "4424                   2016                 41                 30   \n",
      "4425                   2005                 32                180   \n",
      "4426                   2016                 38                 90   \n",
      "4427                   2016                 35                  7   \n",
      "\n",
      "      plan_list_price  actual_amount_paid  is_auto_renew transaction_date  \\\n",
      "0                 149                 149              1             2017   \n",
      "1                  99                  99              1             2017   \n",
      "2                 149                 149              1             2017   \n",
      "3                 180                 180              0             2017   \n",
      "4                 149                 149              0             2017   \n",
      "...               ...                 ...            ...              ...   \n",
      "4423              536                 536              0             2016   \n",
      "4424               99                  99              1             2017   \n",
      "4425              536                 536              0             2016   \n",
      "4426              477                 477              0             2016   \n",
      "4427                0                   0              0             2016   \n",
      "\n",
      "     membership_expire_date  is_cancel  \n",
      "0                      2017          0  \n",
      "1                      2017          0  \n",
      "2                      2017          0  \n",
      "3                      2017          0  \n",
      "4                      2017          0  \n",
      "...                     ...        ...  \n",
      "4423                   2017          0  \n",
      "4424                   2017          1  \n",
      "4425                   2017          0  \n",
      "4426                   2017          0  \n",
      "4427                   2016          0  \n",
      "\n",
      "[4428 rows x 16 columns]\n"
     ]
    }
   ],
   "source": [
    "# Convert registration_init_time, transaction_date, membership_expire_date to years\n",
    "\n",
    "merged_data['registration_init_time'] = merged_data['registration_init_time'].astype(str).str[:4]\n",
    "merged_data['transaction_date'] = merged_data['transaction_date'].astype(str).str[:4]\n",
    "merged_data['membership_expire_date'] = merged_data['membership_expire_date'].astype(str).str[:4]\n",
    "\n",
    "print(merged_data)"
   ]
  },
  {
   "cell_type": "code",
   "execution_count": 17,
   "metadata": {
    "id": "W6HPPFjhX4lW"
   },
   "outputs": [],
   "source": [
    "# replacing values in column gender\n",
    "merged_data['gender'].replace(['female', 'male'],\n",
    "                        [0, 1], inplace=True)"
   ]
  },
  {
   "cell_type": "code",
   "execution_count": 18,
   "metadata": {
    "colab": {
     "base_uri": "https://localhost:8080/"
    },
    "id": "X0eg5WHJWCAY",
    "outputId": "caea65d6-f91d-4483-c5cb-027ce315c099"
   },
   "outputs": [
    {
     "data": {
      "text/plain": [
       "msno                       object\n",
       "is_churn                    int64\n",
       "playtime_per_day          float64\n",
       "city                        int64\n",
       "bd                          int64\n",
       "gender                     object\n",
       "registered_via              int64\n",
       "registration_init_time     object\n",
       "payment_method_id           int64\n",
       "payment_plan_days           int64\n",
       "plan_list_price             int64\n",
       "actual_amount_paid          int64\n",
       "is_auto_renew               int64\n",
       "transaction_date           object\n",
       "membership_expire_date     object\n",
       "is_cancel                   int64\n",
       "dtype: object"
      ]
     },
     "execution_count": 18,
     "metadata": {},
     "output_type": "execute_result"
    }
   ],
   "source": [
    "merged_data.dtypes"
   ]
  },
  {
   "cell_type": "code",
   "execution_count": 19,
   "metadata": {
    "colab": {
     "base_uri": "https://localhost:8080/"
    },
    "id": "mPcr7jN4VizZ",
    "outputId": "173c472e-fdc2-459e-b3c2-eb13ee3397d0"
   },
   "outputs": [
    {
     "name": "stdout",
     "output_type": "stream",
     "text": [
      "                                              is_churn  playtime_per_day  \\\n",
      "msno                                                                       \n",
      "dEPT6Ki6RIimMvKFy2B/iLhNalAIQVvVEznJwqcI5xg=         0      1.481261e+04   \n",
      "NZh6JkdKxv5+yzfxoJjDpqQqlxaWoLte6GoAUcD2RKs=         0      1.446139e+03   \n",
      "MQJh0JzTYfSzdsOH/ice1rsxouzE/dRDFeI4MhA3mqA=         0      3.540335e+03   \n",
      "TMBsL0a7IjM8dEC4Yg8lwbnZP52MJpiSLcvHNjesmSs=         0      2.101799e+03   \n",
      "QH6WsEFO0cDNqAgBzuFoKdPbpaq27+StO4I/6ATGfXc=         0      2.693799e+04   \n",
      "...                                                ...               ...   \n",
      "R+puA1IoFN9ZIBZINnLZivZEAW8jv47H6D0zPNeGlGc=         1     -4.303284e+13   \n",
      "uDT8cz06dz2Hwv0DspKzjDPcP4izsPH6HZgd9EvEgGg=         1      6.345836e+03   \n",
      "2tfPyhPXlIGjqGMb+r/ZTmxeG/v0i28xY3xSn97gdOo=         1      6.386885e+03   \n",
      "TQvFyIQAcPI4qpzYoT9+b9dM9Odjnyw4ev3kOu1I5sI=         1      6.546864e+03   \n",
      "TQvFyIQAcPI4qpzYoT9+b9dM9Odjnyw4ev3kOu1I5sI=         1      6.546864e+03   \n",
      "\n",
      "                                              city  bd gender  registered_via  \\\n",
      "msno                                                                            \n",
      "dEPT6Ki6RIimMvKFy2B/iLhNalAIQVvVEznJwqcI5xg=    22  35      1               9   \n",
      "NZh6JkdKxv5+yzfxoJjDpqQqlxaWoLte6GoAUcD2RKs=     1   0     -1               7   \n",
      "MQJh0JzTYfSzdsOH/ice1rsxouzE/dRDFeI4MhA3mqA=     8  32      0               7   \n",
      "TMBsL0a7IjM8dEC4Yg8lwbnZP52MJpiSLcvHNjesmSs=    12  21      1               4   \n",
      "QH6WsEFO0cDNqAgBzuFoKdPbpaq27+StO4I/6ATGfXc=     1   0     -1               7   \n",
      "...                                            ...  ..    ...             ...   \n",
      "R+puA1IoFN9ZIBZINnLZivZEAW8jv47H6D0zPNeGlGc=     4  38      0               7   \n",
      "uDT8cz06dz2Hwv0DspKzjDPcP4izsPH6HZgd9EvEgGg=    17  17      0               7   \n",
      "2tfPyhPXlIGjqGMb+r/ZTmxeG/v0i28xY3xSn97gdOo=    13  35      0               9   \n",
      "TQvFyIQAcPI4qpzYoT9+b9dM9Odjnyw4ev3kOu1I5sI=     1   0     -1               4   \n",
      "TQvFyIQAcPI4qpzYoT9+b9dM9Odjnyw4ev3kOu1I5sI=     1   0     -1               4   \n",
      "\n",
      "                                             registration_init_time  \\\n",
      "msno                                                                  \n",
      "dEPT6Ki6RIimMvKFy2B/iLhNalAIQVvVEznJwqcI5xg=                   2011   \n",
      "NZh6JkdKxv5+yzfxoJjDpqQqlxaWoLte6GoAUcD2RKs=                   2011   \n",
      "MQJh0JzTYfSzdsOH/ice1rsxouzE/dRDFeI4MhA3mqA=                   2011   \n",
      "TMBsL0a7IjM8dEC4Yg8lwbnZP52MJpiSLcvHNjesmSs=                   2016   \n",
      "QH6WsEFO0cDNqAgBzuFoKdPbpaq27+StO4I/6ATGfXc=                   2013   \n",
      "...                                                             ...   \n",
      "R+puA1IoFN9ZIBZINnLZivZEAW8jv47H6D0zPNeGlGc=                   2014   \n",
      "uDT8cz06dz2Hwv0DspKzjDPcP4izsPH6HZgd9EvEgGg=                   2016   \n",
      "2tfPyhPXlIGjqGMb+r/ZTmxeG/v0i28xY3xSn97gdOo=                   2005   \n",
      "TQvFyIQAcPI4qpzYoT9+b9dM9Odjnyw4ev3kOu1I5sI=                   2016   \n",
      "TQvFyIQAcPI4qpzYoT9+b9dM9Odjnyw4ev3kOu1I5sI=                   2016   \n",
      "\n",
      "                                              payment_method_id  \\\n",
      "msno                                                              \n",
      "dEPT6Ki6RIimMvKFy2B/iLhNalAIQVvVEznJwqcI5xg=                 31   \n",
      "NZh6JkdKxv5+yzfxoJjDpqQqlxaWoLte6GoAUcD2RKs=                 41   \n",
      "MQJh0JzTYfSzdsOH/ice1rsxouzE/dRDFeI4MhA3mqA=                 41   \n",
      "TMBsL0a7IjM8dEC4Yg8lwbnZP52MJpiSLcvHNjesmSs=                 36   \n",
      "QH6WsEFO0cDNqAgBzuFoKdPbpaq27+StO4I/6ATGfXc=                 38   \n",
      "...                                                         ...   \n",
      "R+puA1IoFN9ZIBZINnLZivZEAW8jv47H6D0zPNeGlGc=                 32   \n",
      "uDT8cz06dz2Hwv0DspKzjDPcP4izsPH6HZgd9EvEgGg=                 41   \n",
      "2tfPyhPXlIGjqGMb+r/ZTmxeG/v0i28xY3xSn97gdOo=                 32   \n",
      "TQvFyIQAcPI4qpzYoT9+b9dM9Odjnyw4ev3kOu1I5sI=                 38   \n",
      "TQvFyIQAcPI4qpzYoT9+b9dM9Odjnyw4ev3kOu1I5sI=                 35   \n",
      "\n",
      "                                              payment_plan_days  \\\n",
      "msno                                                              \n",
      "dEPT6Ki6RIimMvKFy2B/iLhNalAIQVvVEznJwqcI5xg=                 30   \n",
      "NZh6JkdKxv5+yzfxoJjDpqQqlxaWoLte6GoAUcD2RKs=                 30   \n",
      "MQJh0JzTYfSzdsOH/ice1rsxouzE/dRDFeI4MhA3mqA=                 30   \n",
      "TMBsL0a7IjM8dEC4Yg8lwbnZP52MJpiSLcvHNjesmSs=                 30   \n",
      "QH6WsEFO0cDNqAgBzuFoKdPbpaq27+StO4I/6ATGfXc=                 30   \n",
      "...                                                         ...   \n",
      "R+puA1IoFN9ZIBZINnLZivZEAW8jv47H6D0zPNeGlGc=                180   \n",
      "uDT8cz06dz2Hwv0DspKzjDPcP4izsPH6HZgd9EvEgGg=                 30   \n",
      "2tfPyhPXlIGjqGMb+r/ZTmxeG/v0i28xY3xSn97gdOo=                180   \n",
      "TQvFyIQAcPI4qpzYoT9+b9dM9Odjnyw4ev3kOu1I5sI=                 90   \n",
      "TQvFyIQAcPI4qpzYoT9+b9dM9Odjnyw4ev3kOu1I5sI=                  7   \n",
      "\n",
      "                                              plan_list_price  \\\n",
      "msno                                                            \n",
      "dEPT6Ki6RIimMvKFy2B/iLhNalAIQVvVEznJwqcI5xg=              149   \n",
      "NZh6JkdKxv5+yzfxoJjDpqQqlxaWoLte6GoAUcD2RKs=               99   \n",
      "MQJh0JzTYfSzdsOH/ice1rsxouzE/dRDFeI4MhA3mqA=              149   \n",
      "TMBsL0a7IjM8dEC4Yg8lwbnZP52MJpiSLcvHNjesmSs=              180   \n",
      "QH6WsEFO0cDNqAgBzuFoKdPbpaq27+StO4I/6ATGfXc=              149   \n",
      "...                                                       ...   \n",
      "R+puA1IoFN9ZIBZINnLZivZEAW8jv47H6D0zPNeGlGc=              536   \n",
      "uDT8cz06dz2Hwv0DspKzjDPcP4izsPH6HZgd9EvEgGg=               99   \n",
      "2tfPyhPXlIGjqGMb+r/ZTmxeG/v0i28xY3xSn97gdOo=              536   \n",
      "TQvFyIQAcPI4qpzYoT9+b9dM9Odjnyw4ev3kOu1I5sI=              477   \n",
      "TQvFyIQAcPI4qpzYoT9+b9dM9Odjnyw4ev3kOu1I5sI=                0   \n",
      "\n",
      "                                              actual_amount_paid  \\\n",
      "msno                                                               \n",
      "dEPT6Ki6RIimMvKFy2B/iLhNalAIQVvVEznJwqcI5xg=                 149   \n",
      "NZh6JkdKxv5+yzfxoJjDpqQqlxaWoLte6GoAUcD2RKs=                  99   \n",
      "MQJh0JzTYfSzdsOH/ice1rsxouzE/dRDFeI4MhA3mqA=                 149   \n",
      "TMBsL0a7IjM8dEC4Yg8lwbnZP52MJpiSLcvHNjesmSs=                 180   \n",
      "QH6WsEFO0cDNqAgBzuFoKdPbpaq27+StO4I/6ATGfXc=                 149   \n",
      "...                                                          ...   \n",
      "R+puA1IoFN9ZIBZINnLZivZEAW8jv47H6D0zPNeGlGc=                 536   \n",
      "uDT8cz06dz2Hwv0DspKzjDPcP4izsPH6HZgd9EvEgGg=                  99   \n",
      "2tfPyhPXlIGjqGMb+r/ZTmxeG/v0i28xY3xSn97gdOo=                 536   \n",
      "TQvFyIQAcPI4qpzYoT9+b9dM9Odjnyw4ev3kOu1I5sI=                 477   \n",
      "TQvFyIQAcPI4qpzYoT9+b9dM9Odjnyw4ev3kOu1I5sI=                   0   \n",
      "\n",
      "                                              is_auto_renew transaction_date  \\\n",
      "msno                                                                           \n",
      "dEPT6Ki6RIimMvKFy2B/iLhNalAIQVvVEznJwqcI5xg=              1             2017   \n",
      "NZh6JkdKxv5+yzfxoJjDpqQqlxaWoLte6GoAUcD2RKs=              1             2017   \n",
      "MQJh0JzTYfSzdsOH/ice1rsxouzE/dRDFeI4MhA3mqA=              1             2017   \n",
      "TMBsL0a7IjM8dEC4Yg8lwbnZP52MJpiSLcvHNjesmSs=              0             2017   \n",
      "QH6WsEFO0cDNqAgBzuFoKdPbpaq27+StO4I/6ATGfXc=              0             2017   \n",
      "...                                                     ...              ...   \n",
      "R+puA1IoFN9ZIBZINnLZivZEAW8jv47H6D0zPNeGlGc=              0             2016   \n",
      "uDT8cz06dz2Hwv0DspKzjDPcP4izsPH6HZgd9EvEgGg=              1             2017   \n",
      "2tfPyhPXlIGjqGMb+r/ZTmxeG/v0i28xY3xSn97gdOo=              0             2016   \n",
      "TQvFyIQAcPI4qpzYoT9+b9dM9Odjnyw4ev3kOu1I5sI=              0             2016   \n",
      "TQvFyIQAcPI4qpzYoT9+b9dM9Odjnyw4ev3kOu1I5sI=              0             2016   \n",
      "\n",
      "                                             membership_expire_date  is_cancel  \n",
      "msno                                                                            \n",
      "dEPT6Ki6RIimMvKFy2B/iLhNalAIQVvVEznJwqcI5xg=                   2017          0  \n",
      "NZh6JkdKxv5+yzfxoJjDpqQqlxaWoLte6GoAUcD2RKs=                   2017          0  \n",
      "MQJh0JzTYfSzdsOH/ice1rsxouzE/dRDFeI4MhA3mqA=                   2017          0  \n",
      "TMBsL0a7IjM8dEC4Yg8lwbnZP52MJpiSLcvHNjesmSs=                   2017          0  \n",
      "QH6WsEFO0cDNqAgBzuFoKdPbpaq27+StO4I/6ATGfXc=                   2017          0  \n",
      "...                                                             ...        ...  \n",
      "R+puA1IoFN9ZIBZINnLZivZEAW8jv47H6D0zPNeGlGc=                   2017          0  \n",
      "uDT8cz06dz2Hwv0DspKzjDPcP4izsPH6HZgd9EvEgGg=                   2017          1  \n",
      "2tfPyhPXlIGjqGMb+r/ZTmxeG/v0i28xY3xSn97gdOo=                   2017          0  \n",
      "TQvFyIQAcPI4qpzYoT9+b9dM9Odjnyw4ev3kOu1I5sI=                   2017          0  \n",
      "TQvFyIQAcPI4qpzYoT9+b9dM9Odjnyw4ev3kOu1I5sI=                   2016          0  \n",
      "\n",
      "[4428 rows x 15 columns]\n"
     ]
    }
   ],
   "source": [
    "# set row names (index) to the msno column\n",
    "\n",
    "merged_data = merged_data.set_index('msno')\n",
    "\n",
    "print(merged_data)"
   ]
  },
  {
   "cell_type": "markdown",
   "metadata": {
    "id": "0UW2jO1iPzvO"
   },
   "source": [
    "Split training and test data"
   ]
  },
  {
   "cell_type": "code",
   "execution_count": 20,
   "metadata": {
    "colab": {
     "base_uri": "https://localhost:8080/"
    },
    "id": "7MJbHQ6RQ2Gz",
    "outputId": "6d829628-7ccb-49d2-f663-8c3d8fc984c6"
   },
   "outputs": [
    {
     "name": "stdout",
     "output_type": "stream",
     "text": [
      "306\n",
      "4122\n"
     ]
    }
   ],
   "source": [
    "# Identify features and target variable\n",
    "X = merged_data.drop(['is_churn'], axis=1)\n",
    "y = merged_data['is_churn']\n",
    "\n",
    "yes_count = merged_data['is_churn'].value_counts().get(1, 0)\n",
    "no_count = merged_data['is_churn'].value_counts().get(0, 0)\n",
    "print(yes_count)\n",
    "print(no_count)"
   ]
  },
  {
   "cell_type": "code",
   "execution_count": 23,
   "metadata": {},
   "outputs": [
    {
     "name": "stdout",
     "output_type": "stream",
     "text": [
      "Collecting imbalanced-learn\n",
      "  Downloading imbalanced_learn-0.11.0-py3-none-any.whl (235 kB)\n",
      "     -------------------------------------- 235.6/235.6 kB 7.0 MB/s eta 0:00:00\n",
      "Requirement already satisfied: joblib>=1.1.1 in c:\\users\\abhis\\anaconda3\\lib\\site-packages (from imbalanced-learn) (1.3.2)\n",
      "Requirement already satisfied: threadpoolctl>=2.0.0 in c:\\users\\abhis\\anaconda3\\lib\\site-packages (from imbalanced-learn) (3.2.0)\n",
      "Requirement already satisfied: numpy>=1.17.3 in c:\\users\\abhis\\anaconda3\\lib\\site-packages (from imbalanced-learn) (1.23.5)\n",
      "Requirement already satisfied: scikit-learn>=1.0.2 in c:\\users\\abhis\\anaconda3\\lib\\site-packages (from imbalanced-learn) (1.3.2)\n",
      "Requirement already satisfied: scipy>=1.5.0 in c:\\users\\abhis\\anaconda3\\lib\\site-packages (from imbalanced-learn) (1.9.1)\n",
      "Installing collected packages: imbalanced-learn\n",
      "Successfully installed imbalanced-learn-0.11.0\n",
      "Note: you may need to restart the kernel to use updated packages.\n"
     ]
    }
   ],
   "source": [
    "pip install imbalanced-learn\n"
   ]
  },
  {
   "cell_type": "code",
   "execution_count": 24,
   "metadata": {
    "colab": {
     "base_uri": "https://localhost:8080/"
    },
    "id": "HVBREKYcPy2N",
    "outputId": "a50593b5-28d8-49fe-c93d-668d609a7776"
   },
   "outputs": [
    {
     "name": "stdout",
     "output_type": "stream",
     "text": [
      "                                              playtime_per_day  city  bd  \\\n",
      "msno                                                                       \n",
      "fXIbo3doDl/oK7KPhIUlAIoPS+ZZev9mjpc7xfHA1fM=       3054.982949     1   0   \n",
      "cK2PscBpXADun3kHkKjz8tDf6TeViSmnZpzpB5A2yAA=      21048.954481     8   0   \n",
      "vNmOT0Ub6+GtH+rxTYG2SNdj3P+mXRuftTlHjGScGpM=       4645.567653     4  32   \n",
      "8bQq9L3xAW4Zc+jnmUiWrNC/sgzeYviKX4sxC0xjqgQ=       3618.238833     1   0   \n",
      "hQ9Z5imxSji1P9n2AEOrAxRXhlTI8A6HxFQqUUjD5hQ=       3619.656167     4  25   \n",
      "...                                                        ...   ...  ..   \n",
      "uDT8cz06dz2Hwv0DspKzjDPcP4izsPH6HZgd9EvEgGg=       6345.836411    17  17   \n",
      "Wi9FVuWepMuned5EY76C3jFxTAlWZ9O7212Dtzb3+9s=       4254.758122     1   0   \n",
      "ks6TN/5KhmCwcCbCsuuFjgyGBLvV31c0GsyNT6WLMtk=       7506.612632    22  33   \n",
      "RGkfGJcM313EimSZVUqqOqaWcok4+9bPMXAFyW6ta5c=       4441.723980     5  41   \n",
      "FMUaTrZrrU1Oa8nIbaNrpJZaZHLpj/g/zLqvcPzCb8s=       4729.417708     1   0   \n",
      "\n",
      "                                             gender  registered_via  \\\n",
      "msno                                                                  \n",
      "fXIbo3doDl/oK7KPhIUlAIoPS+ZZev9mjpc7xfHA1fM=     -1               7   \n",
      "cK2PscBpXADun3kHkKjz8tDf6TeViSmnZpzpB5A2yAA=     -1               9   \n",
      "vNmOT0Ub6+GtH+rxTYG2SNdj3P+mXRuftTlHjGScGpM=      1               9   \n",
      "8bQq9L3xAW4Zc+jnmUiWrNC/sgzeYviKX4sxC0xjqgQ=     -1               7   \n",
      "hQ9Z5imxSji1P9n2AEOrAxRXhlTI8A6HxFQqUUjD5hQ=      0               3   \n",
      "...                                             ...             ...   \n",
      "uDT8cz06dz2Hwv0DspKzjDPcP4izsPH6HZgd9EvEgGg=      0               7   \n",
      "Wi9FVuWepMuned5EY76C3jFxTAlWZ9O7212Dtzb3+9s=     -1               7   \n",
      "ks6TN/5KhmCwcCbCsuuFjgyGBLvV31c0GsyNT6WLMtk=      1               9   \n",
      "RGkfGJcM313EimSZVUqqOqaWcok4+9bPMXAFyW6ta5c=      1               9   \n",
      "FMUaTrZrrU1Oa8nIbaNrpJZaZHLpj/g/zLqvcPzCb8s=     -1               3   \n",
      "\n",
      "                                             registration_init_time  \\\n",
      "msno                                                                  \n",
      "fXIbo3doDl/oK7KPhIUlAIoPS+ZZev9mjpc7xfHA1fM=                   2016   \n",
      "cK2PscBpXADun3kHkKjz8tDf6TeViSmnZpzpB5A2yAA=                   2015   \n",
      "vNmOT0Ub6+GtH+rxTYG2SNdj3P+mXRuftTlHjGScGpM=                   2010   \n",
      "8bQq9L3xAW4Zc+jnmUiWrNC/sgzeYviKX4sxC0xjqgQ=                   2014   \n",
      "hQ9Z5imxSji1P9n2AEOrAxRXhlTI8A6HxFQqUUjD5hQ=                   2012   \n",
      "...                                                             ...   \n",
      "uDT8cz06dz2Hwv0DspKzjDPcP4izsPH6HZgd9EvEgGg=                   2016   \n",
      "Wi9FVuWepMuned5EY76C3jFxTAlWZ9O7212Dtzb3+9s=                   2011   \n",
      "ks6TN/5KhmCwcCbCsuuFjgyGBLvV31c0GsyNT6WLMtk=                   2011   \n",
      "RGkfGJcM313EimSZVUqqOqaWcok4+9bPMXAFyW6ta5c=                   2009   \n",
      "FMUaTrZrrU1Oa8nIbaNrpJZaZHLpj/g/zLqvcPzCb8s=                   2013   \n",
      "\n",
      "                                              payment_method_id  \\\n",
      "msno                                                              \n",
      "fXIbo3doDl/oK7KPhIUlAIoPS+ZZev9mjpc7xfHA1fM=                 41   \n",
      "cK2PscBpXADun3kHkKjz8tDf6TeViSmnZpzpB5A2yAA=                 37   \n",
      "vNmOT0Ub6+GtH+rxTYG2SNdj3P+mXRuftTlHjGScGpM=                 34   \n",
      "8bQq9L3xAW4Zc+jnmUiWrNC/sgzeYviKX4sxC0xjqgQ=                 41   \n",
      "hQ9Z5imxSji1P9n2AEOrAxRXhlTI8A6HxFQqUUjD5hQ=                 40   \n",
      "...                                                         ...   \n",
      "uDT8cz06dz2Hwv0DspKzjDPcP4izsPH6HZgd9EvEgGg=                 41   \n",
      "Wi9FVuWepMuned5EY76C3jFxTAlWZ9O7212Dtzb3+9s=                 41   \n",
      "ks6TN/5KhmCwcCbCsuuFjgyGBLvV31c0GsyNT6WLMtk=                 29   \n",
      "RGkfGJcM313EimSZVUqqOqaWcok4+9bPMXAFyW6ta5c=                 33   \n",
      "FMUaTrZrrU1Oa8nIbaNrpJZaZHLpj/g/zLqvcPzCb8s=                 38   \n",
      "\n",
      "                                              payment_plan_days  \\\n",
      "msno                                                              \n",
      "fXIbo3doDl/oK7KPhIUlAIoPS+ZZev9mjpc7xfHA1fM=                 30   \n",
      "cK2PscBpXADun3kHkKjz8tDf6TeViSmnZpzpB5A2yAA=                 30   \n",
      "vNmOT0Ub6+GtH+rxTYG2SNdj3P+mXRuftTlHjGScGpM=                 30   \n",
      "8bQq9L3xAW4Zc+jnmUiWrNC/sgzeYviKX4sxC0xjqgQ=                 30   \n",
      "hQ9Z5imxSji1P9n2AEOrAxRXhlTI8A6HxFQqUUjD5hQ=                 30   \n",
      "...                                                         ...   \n",
      "uDT8cz06dz2Hwv0DspKzjDPcP4izsPH6HZgd9EvEgGg=                 30   \n",
      "Wi9FVuWepMuned5EY76C3jFxTAlWZ9O7212Dtzb3+9s=                 30   \n",
      "ks6TN/5KhmCwcCbCsuuFjgyGBLvV31c0GsyNT6WLMtk=                 30   \n",
      "RGkfGJcM313EimSZVUqqOqaWcok4+9bPMXAFyW6ta5c=                 30   \n",
      "FMUaTrZrrU1Oa8nIbaNrpJZaZHLpj/g/zLqvcPzCb8s=                 30   \n",
      "\n",
      "                                              plan_list_price  \\\n",
      "msno                                                            \n",
      "fXIbo3doDl/oK7KPhIUlAIoPS+ZZev9mjpc7xfHA1fM=               99   \n",
      "cK2PscBpXADun3kHkKjz8tDf6TeViSmnZpzpB5A2yAA=              149   \n",
      "vNmOT0Ub6+GtH+rxTYG2SNdj3P+mXRuftTlHjGScGpM=              149   \n",
      "8bQq9L3xAW4Zc+jnmUiWrNC/sgzeYviKX4sxC0xjqgQ=               99   \n",
      "hQ9Z5imxSji1P9n2AEOrAxRXhlTI8A6HxFQqUUjD5hQ=              149   \n",
      "...                                                       ...   \n",
      "uDT8cz06dz2Hwv0DspKzjDPcP4izsPH6HZgd9EvEgGg=               99   \n",
      "Wi9FVuWepMuned5EY76C3jFxTAlWZ9O7212Dtzb3+9s=               99   \n",
      "ks6TN/5KhmCwcCbCsuuFjgyGBLvV31c0GsyNT6WLMtk=              180   \n",
      "RGkfGJcM313EimSZVUqqOqaWcok4+9bPMXAFyW6ta5c=              149   \n",
      "FMUaTrZrrU1Oa8nIbaNrpJZaZHLpj/g/zLqvcPzCb8s=              149   \n",
      "\n",
      "                                              actual_amount_paid  \\\n",
      "msno                                                               \n",
      "fXIbo3doDl/oK7KPhIUlAIoPS+ZZev9mjpc7xfHA1fM=                  99   \n",
      "cK2PscBpXADun3kHkKjz8tDf6TeViSmnZpzpB5A2yAA=                 149   \n",
      "vNmOT0Ub6+GtH+rxTYG2SNdj3P+mXRuftTlHjGScGpM=                 149   \n",
      "8bQq9L3xAW4Zc+jnmUiWrNC/sgzeYviKX4sxC0xjqgQ=                  99   \n",
      "hQ9Z5imxSji1P9n2AEOrAxRXhlTI8A6HxFQqUUjD5hQ=                 149   \n",
      "...                                                          ...   \n",
      "uDT8cz06dz2Hwv0DspKzjDPcP4izsPH6HZgd9EvEgGg=                  99   \n",
      "Wi9FVuWepMuned5EY76C3jFxTAlWZ9O7212Dtzb3+9s=                  99   \n",
      "ks6TN/5KhmCwcCbCsuuFjgyGBLvV31c0GsyNT6WLMtk=                 180   \n",
      "RGkfGJcM313EimSZVUqqOqaWcok4+9bPMXAFyW6ta5c=                 149   \n",
      "FMUaTrZrrU1Oa8nIbaNrpJZaZHLpj/g/zLqvcPzCb8s=                 149   \n",
      "\n",
      "                                              is_auto_renew transaction_date  \\\n",
      "msno                                                                           \n",
      "fXIbo3doDl/oK7KPhIUlAIoPS+ZZev9mjpc7xfHA1fM=              1             2017   \n",
      "cK2PscBpXADun3kHkKjz8tDf6TeViSmnZpzpB5A2yAA=              1             2017   \n",
      "vNmOT0Ub6+GtH+rxTYG2SNdj3P+mXRuftTlHjGScGpM=              1             2017   \n",
      "8bQq9L3xAW4Zc+jnmUiWrNC/sgzeYviKX4sxC0xjqgQ=              1             2017   \n",
      "hQ9Z5imxSji1P9n2AEOrAxRXhlTI8A6HxFQqUUjD5hQ=              1             2017   \n",
      "...                                                     ...              ...   \n",
      "uDT8cz06dz2Hwv0DspKzjDPcP4izsPH6HZgd9EvEgGg=              1             2017   \n",
      "Wi9FVuWepMuned5EY76C3jFxTAlWZ9O7212Dtzb3+9s=              1             2017   \n",
      "ks6TN/5KhmCwcCbCsuuFjgyGBLvV31c0GsyNT6WLMtk=              1             2017   \n",
      "RGkfGJcM313EimSZVUqqOqaWcok4+9bPMXAFyW6ta5c=              1             2017   \n",
      "FMUaTrZrrU1Oa8nIbaNrpJZaZHLpj/g/zLqvcPzCb8s=              0             2017   \n",
      "\n",
      "                                             membership_expire_date  is_cancel  \n",
      "msno                                                                            \n",
      "fXIbo3doDl/oK7KPhIUlAIoPS+ZZev9mjpc7xfHA1fM=                   2017          0  \n",
      "cK2PscBpXADun3kHkKjz8tDf6TeViSmnZpzpB5A2yAA=                   2017          0  \n",
      "vNmOT0Ub6+GtH+rxTYG2SNdj3P+mXRuftTlHjGScGpM=                   2017          0  \n",
      "8bQq9L3xAW4Zc+jnmUiWrNC/sgzeYviKX4sxC0xjqgQ=                   2017          0  \n",
      "hQ9Z5imxSji1P9n2AEOrAxRXhlTI8A6HxFQqUUjD5hQ=                   2017          0  \n",
      "...                                                             ...        ...  \n",
      "uDT8cz06dz2Hwv0DspKzjDPcP4izsPH6HZgd9EvEgGg=                   2017          1  \n",
      "Wi9FVuWepMuned5EY76C3jFxTAlWZ9O7212Dtzb3+9s=                   2017          1  \n",
      "ks6TN/5KhmCwcCbCsuuFjgyGBLvV31c0GsyNT6WLMtk=                   2017          1  \n",
      "RGkfGJcM313EimSZVUqqOqaWcok4+9bPMXAFyW6ta5c=                   2017          1  \n",
      "FMUaTrZrrU1Oa8nIbaNrpJZaZHLpj/g/zLqvcPzCb8s=                   2017          0  \n",
      "\n",
      "[490 rows x 14 columns]\n"
     ]
    }
   ],
   "source": [
    "from sklearn.model_selection import train_test_split\n",
    "from imblearn.under_sampling import RandomUnderSampler\n",
    "\n",
    "# Split the data into training and testing sets\n",
    "X_train, X_test, y_train, y_test = train_test_split(X, y, test_size=0.2, random_state=42, stratify=y)\n",
    "# Combine X_train and y_train into a single DataFrame for undersampling\n",
    "train_data = pd.concat([X_train, y_train], axis=1)\n",
    "\n",
    "# Identify the minority class label\n",
    "minority_class_label = train_data['is_churn'].value_counts().idxmin()\n",
    "\n",
    "# Apply random undersampling on imbalanced target data\n",
    "undersampler = RandomUnderSampler(sampling_strategy='auto', random_state=42)\n",
    "X_resampled, y_resampled = undersampler.fit_resample(train_data.drop('is_churn', axis=1), train_data['is_churn'])\n",
    "print(X_resampled)"
   ]
  },
  {
   "cell_type": "markdown",
   "metadata": {
    "id": "5tOChm64cwjo"
   },
   "source": [
    "Train and evaluate classification models (RANDOM FOREST AS AN EXAMPLE)"
   ]
  },
  {
   "cell_type": "code",
   "execution_count": 25,
   "metadata": {
    "colab": {
     "base_uri": "https://localhost:8080/"
    },
    "id": "lP7K6AsNPy4Q",
    "outputId": "91a46102-06d7-436c-959e-59bf5399a652"
   },
   "outputs": [
    {
     "name": "stdout",
     "output_type": "stream",
     "text": [
      "Accuracy for Random Forest Classifier with 10 Estimators: 0.8916\n"
     ]
    }
   ],
   "source": [
    "from sklearn.ensemble import RandomForestClassifier\n",
    "from sklearn.metrics import accuracy_score\n",
    "\n",
    "RF = RandomForestClassifier(n_estimators=10, random_state=0)\n",
    "RF.fit(X_resampled, y_resampled)\n",
    "\n",
    "y_pred_RF = RF.predict(X_test)\n",
    "\n",
    "accuracy_RF = accuracy_score(y_test, y_pred_RF)\n",
    "print(f'Accuracy for Random Forest Classifier with 10 Estimators: {accuracy_RF:.4f}')"
   ]
  },
  {
   "cell_type": "markdown",
   "metadata": {
    "id": "7TqWV8ZNs4LE"
   },
   "source": [
    "EDA"
   ]
  },
  {
   "cell_type": "code",
   "execution_count": 26,
   "metadata": {
    "colab": {
     "base_uri": "https://localhost:8080/",
     "height": 472
    },
    "id": "s_yadVbYvZvd",
    "outputId": "59ca5de7-bd37-4c67-8c11-38e817b015d3"
   },
   "outputs": [
    {
     "data": {
      "image/png": "[encoded data removed]",
      "text/plain": [
       "<Figure size 640x480 with 1 Axes>"
      ]
     },
     "metadata": {},
     "output_type": "display_data"
    }
   ],
   "source": [
    "# bar plot for number of churn\n",
    "\n",
    "count_churn = len(is_churn_df[(is_churn_df['is_churn'] == 1)])\n",
    "count_renewal = len(is_churn_df[(is_churn_df['is_churn'] == 0)])\n",
    "\n",
    "x = ['churn', 'renewal']\n",
    "y = [count_churn, count_renewal]\n",
    "\n",
    "plt.bar(x, y)\n",
    "\n",
    "plt.xlabel(\"Churn or not\")\n",
    "plt.ylabel(\"Count of members\")\n",
    "plt.title(\"Number of Churn vs. renewal members\")\n",
    "plt.show()"
   ]
  },
  {
   "cell_type": "code",
   "execution_count": 27,
   "metadata": {
    "id": "KiaSON4L8FXL"
   },
   "outputs": [],
   "source": [
    "import matplotlib.pyplot as plt\n",
    "import seaborn as sns\n",
    "from sklearn.metrics import confusion_matrix, accuracy_score\n"
   ]
  },
  {
   "cell_type": "code",
   "execution_count": 28,
   "metadata": {
    "id": "oagnKxcF8FZy"
   },
   "outputs": [],
   "source": [
    "def plot_model_results(model, X_test, y_test, model_name):\n",
    "    y_pred = model.predict(X_test)\n",
    "    acc = accuracy_score(y_test, y_pred)\n",
    "    cm = confusion_matrix(y_test, y_pred)\n",
    "\n",
    "    plt.figure(figsize=(12, 5))\n",
    "\n",
    "    # Plotting Confusion Matrix\n",
    "    plt.subplot(1, 2, 1)\n",
    "    sns.heatmap(cm, annot=True, fmt=\"d\")\n",
    "    plt.title(f'Confusion Matrix for {model_name}')\n",
    "    plt.xlabel('Predicted')\n",
    "    plt.ylabel('True')\n",
    "\n",
    "    # Plotting Accuracy Score\n",
    "    plt.subplot(1, 2, 2)\n",
    "    plt.bar(model_name, acc)\n",
    "    plt.title(f'Accuracy Score for {model_name}')\n",
    "    plt.ylabel('Accuracy')\n",
    "\n",
    "    plt.tight_layout()\n",
    "    plt.show()\n"
   ]
  },
  {
   "cell_type": "code",
   "execution_count": null,
   "metadata": {
    "id": "mSd0fWqR8FcC"
   },
   "outputs": [],
   "source": []
  },
  {
   "cell_type": "code",
   "execution_count": 29,
   "metadata": {
    "colab": {
     "base_uri": "https://localhost:8080/"
    },
    "id": "F622LcZF7KIU",
    "outputId": "6c476ce0-b1c9-4f76-f0e2-7f2eb7d8e285"
   },
   "outputs": [
    {
     "name": "stdout",
     "output_type": "stream",
     "text": [
      "Accuracy for Decision Tree Classifier: 0.8781\n"
     ]
    }
   ],
   "source": [
    "from sklearn.tree import DecisionTreeClassifier\n",
    "\n",
    "# Creating the Decision Tree classifier\n",
    "dt = DecisionTreeClassifier(random_state=42)\n",
    "\n",
    "# Fitting the classifier to the resampled training data\n",
    "dt.fit(X_resampled, y_resampled)\n",
    "\n",
    "# Making predictions\n",
    "y_pred_dt = dt.predict(X_test)\n",
    "\n",
    "# Calculating accuracy\n",
    "accuracy_dt = accuracy_score(y_test, y_pred_dt)\n",
    "print(f'Accuracy for Decision Tree Classifier: {accuracy_dt:.4f}')\n"
   ]
  },
  {
   "cell_type": "code",
   "execution_count": 30,
   "metadata": {
    "colab": {
     "base_uri": "https://localhost:8080/",
     "height": 419
    },
    "id": "a_Gn01Ax8B76",
    "outputId": "c85ea364-7f89-4e98-8579-102400dcf285"
   },
   "outputs": [
    {
     "data": {
      "image/png": "[encoded data removed]",
      "text/plain": [
       "<Figure size 1200x500 with 3 Axes>"
      ]
     },
     "metadata": {},
     "output_type": "display_data"
    }
   ],
   "source": [
    "# For Decision Tree\n",
    "plot_model_results(dt, X_test, y_test, 'Decision Tree')"
   ]
  },
  {
   "cell_type": "code",
   "execution_count": 31,
   "metadata": {
    "colab": {
     "base_uri": "https://localhost:8080/"
    },
    "id": "U5Qv3Pq07KKi",
    "outputId": "ea931701-fcbd-4808-8acb-1cd7f16d0682"
   },
   "outputs": [
    {
     "name": "stdout",
     "output_type": "stream",
     "text": [
      "Accuracy for AdaBoost Classifier: 0.9018\n"
     ]
    }
   ],
   "source": [
    "from sklearn.ensemble import AdaBoostClassifier\n",
    "\n",
    "# Creating the AdaBoost classifier\n",
    "ab = AdaBoostClassifier(random_state=42)\n",
    "\n",
    "# Fitting the classifier to the resampled training data\n",
    "ab.fit(X_resampled, y_resampled)\n",
    "\n",
    "# Making predictions\n",
    "y_pred_ab = ab.predict(X_test)\n",
    "\n",
    "# Calculating accuracy\n",
    "accuracy_ab = accuracy_score(y_test, y_pred_ab)\n",
    "print(f'Accuracy for AdaBoost Classifier: {accuracy_ab:.4f}')\n"
   ]
  },
  {
   "cell_type": "code",
   "execution_count": 32,
   "metadata": {
    "colab": {
     "base_uri": "https://localhost:8080/",
     "height": 419
    },
    "id": "lTA7wMOf8N4A",
    "outputId": "029500a9-7729-4fc9-9982-e2c2e670d7cf"
   },
   "outputs": [
    {
     "data": {
      "image/png": "[encoded data removed]",
      "text/plain": [
       "<Figure size 1200x500 with 3 Axes>"
      ]
     },
     "metadata": {},
     "output_type": "display_data"
    }
   ],
   "source": [
    "\n",
    "# For AdaBoost\n",
    "plot_model_results(ab, X_test, y_test, 'AdaBoost')"
   ]
  },
  {
   "cell_type": "code",
   "execution_count": 33,
   "metadata": {
    "colab": {
     "base_uri": "https://localhost:8080/"
    },
    "id": "SDe-C5B17X9C",
    "outputId": "9884c9f6-f19e-459b-ffdd-6c3e88299989"
   },
   "outputs": [
    {
     "name": "stdout",
     "output_type": "stream",
     "text": [
      "Accuracy for KNN Classifier: 0.6038\n"
     ]
    }
   ],
   "source": [
    "from sklearn.neighbors import KNeighborsClassifier\n",
    "\n",
    "# Creating the KNN classifier\n",
    "knn = KNeighborsClassifier()\n",
    "\n",
    "# Fitting the classifier to the resampled training data\n",
    "knn.fit(X_resampled, y_resampled)\n",
    "\n",
    "# Making predictions\n",
    "y_pred_knn = knn.predict(X_test)\n",
    "\n",
    "# Calculating accuracy\n",
    "accuracy_knn = accuracy_score(y_test, y_pred_knn)\n",
    "print(f'Accuracy for KNN Classifier: {accuracy_knn:.4f}')\n"
   ]
  },
  {
   "cell_type": "code",
   "execution_count": 34,
   "metadata": {
    "colab": {
     "base_uri": "https://localhost:8080/",
     "height": 419
    },
    "id": "FIc_3LBS78WY",
    "outputId": "c5347ce9-cebf-4e9e-baba-265f40ad914d"
   },
   "outputs": [
    {
     "data": {
      "image/png": "[encoded data removed]",
      "text/plain": [
       "<Figure size 1200x500 with 3 Axes>"
      ]
     },
     "metadata": {},
     "output_type": "display_data"
    }
   ],
   "source": [
    "# For KNN\n",
    "plot_model_results(knn, X_test, y_test, 'KNN')"
   ]
  },
  {
   "cell_type": "code",
   "execution_count": null,
   "metadata": {
    "colab": {
     "base_uri": "https://localhost:8080/",
     "height": 425
    },
    "id": "ZfqhgHJF7KMk",
    "outputId": "c3ec2617-7539-4397-dfbf-d72e6cf094fd"
   },
   "outputs": [],
   "source": [
    "import xgboost as xgb\n",
    "\n",
    "# Creating the XGBoost classifier\n",
    "xgb_clf = xgb.XGBClassifier(random_state=42)\n",
    "\n",
    "# Fitting the classifier to the resampled training data\n",
    "xgb_clf.fit(X_resampled, y_resampled)\n",
    "\n",
    "# Making predictions\n",
    "y_pred_xgb = xgb_clf.predict(X_test)\n",
    "\n",
    "# Calculating accuracy\n",
    "accuracy_xgb = accuracy_score(y_test, y_pred_xgb)\n",
    "print(f'Accuracy for XGBoost Classifier: {accuracy_xgb:.4f}')\n"
   ]
  },
  {
   "cell_type": "code",
   "execution_count": 36,
   "metadata": {
    "id": "OvsE3i_J7KQH"
   },
   "outputs": [
    {
     "ename": "NameError",
     "evalue": "name 'cols' is not defined",
     "output_type": "error",
     "traceback": [
      "\u001b[1;31m---------------------------------------------------------------------------\u001b[0m",
      "\u001b[1;31mNameError\u001b[0m                                 Traceback (most recent call last)",
      "\u001b[1;32m~\\AppData\\Local\\Temp\\ipykernel_22116\\1696179808.py\u001b[0m in \u001b[0;36m<module>\u001b[1;34m\u001b[0m\n\u001b[0;32m      2\u001b[0m \u001b[1;33m\u001b[0m\u001b[0m\n\u001b[0;32m      3\u001b[0m \u001b[1;31m# creating DMatrix for train, cv, and test\u001b[0m\u001b[1;33m\u001b[0m\u001b[1;33m\u001b[0m\u001b[0m\n\u001b[1;32m----> 4\u001b[1;33m \u001b[0mtrain\u001b[0m \u001b[1;33m=\u001b[0m \u001b[0mxgb\u001b[0m\u001b[1;33m.\u001b[0m\u001b[0mDMatrix\u001b[0m\u001b[1;33m(\u001b[0m\u001b[0mX_train\u001b[0m\u001b[1;33m,\u001b[0m \u001b[0mlabel\u001b[0m\u001b[1;33m=\u001b[0m\u001b[0my_train\u001b[0m\u001b[1;33m,\u001b[0m \u001b[0mfeature_names\u001b[0m\u001b[1;33m=\u001b[0m\u001b[0mcols\u001b[0m\u001b[1;33m,\u001b[0m \u001b[0mnthread\u001b[0m\u001b[1;33m=\u001b[0m\u001b[1;33m-\u001b[0m\u001b[1;36m1\u001b[0m\u001b[1;33m)\u001b[0m\u001b[1;33m\u001b[0m\u001b[1;33m\u001b[0m\u001b[0m\n\u001b[0m\u001b[0;32m      5\u001b[0m \u001b[0mcv\u001b[0m \u001b[1;33m=\u001b[0m \u001b[0mxgb\u001b[0m\u001b[1;33m.\u001b[0m\u001b[0mDMatrix\u001b[0m\u001b[1;33m(\u001b[0m\u001b[0mX_cv\u001b[0m\u001b[1;33m,\u001b[0m \u001b[0mlabel\u001b[0m\u001b[1;33m=\u001b[0m\u001b[0my_cv\u001b[0m\u001b[1;33m,\u001b[0m \u001b[0mfeature_names\u001b[0m\u001b[1;33m=\u001b[0m\u001b[0mcols\u001b[0m\u001b[1;33m,\u001b[0m \u001b[0mnthread\u001b[0m\u001b[1;33m=\u001b[0m\u001b[1;33m-\u001b[0m\u001b[1;36m1\u001b[0m\u001b[1;33m)\u001b[0m\u001b[1;33m\u001b[0m\u001b[1;33m\u001b[0m\u001b[0m\n\u001b[0;32m      6\u001b[0m \u001b[0mtest\u001b[0m \u001b[1;33m=\u001b[0m \u001b[0mxgb\u001b[0m\u001b[1;33m.\u001b[0m\u001b[0mDMatrix\u001b[0m\u001b[1;33m(\u001b[0m\u001b[0mtest_data\u001b[0m\u001b[1;33m,\u001b[0m \u001b[0mfeature_names\u001b[0m\u001b[1;33m=\u001b[0m\u001b[0mcols\u001b[0m\u001b[1;33m,\u001b[0m \u001b[0mnthread\u001b[0m\u001b[1;33m=\u001b[0m\u001b[1;33m-\u001b[0m\u001b[1;36m1\u001b[0m\u001b[1;33m)\u001b[0m\u001b[1;33m\u001b[0m\u001b[1;33m\u001b[0m\u001b[0m\n",
      "\u001b[1;31mNameError\u001b[0m: name 'cols' is not defined"
     ]
    }
   ],
   "source": [
    "import xgboost as xgb\n",
    "\n",
    "# creating DMatrix for train, cv, and test\n",
    "train = xgb.DMatrix(X_train, label=y_train, feature_names=cols, nthread=-1)\n",
    "cv = xgb.DMatrix(X_cv, label=y_cv, feature_names=cols, nthread=-1)\n",
    "test = xgb.DMatrix(test_data, feature_names=cols, nthread=-1)\n",
    "\n",
    "# setting parameters\n",
    "params = {'objective' : 'binary:logistic',\n",
    "          'eval_metric' : 'logloss'}\n",
    "\n",
    "# train the xgboost model\n",
    "xgb_model = xgb.train(params, train, 12, verbose_eval=True)"
   ]
  },
  {
   "cell_type": "code",
   "execution_count": 27,
   "metadata": {
    "id": "TsRJc6jH7vpW"
   },
   "outputs": [],
   "source": []
  },
  {
   "cell_type": "code",
   "execution_count": null,
   "metadata": {
    "id": "nljXUPOO75ys"
   },
   "outputs": [],
   "source": []
  },
  {
   "cell_type": "code",
   "execution_count": null,
   "metadata": {
    "id": "0OuazlFX751R"
   },
   "outputs": [],
   "source": []
  },
  {
   "cell_type": "code",
   "execution_count": null,
   "metadata": {
    "id": "FVz-fCbS7534"
   },
   "outputs": [],
   "source": []
  },
  {
   "cell_type": "code",
   "execution_count": null,
   "metadata": {
    "id": "ZBKJ9SvR7vul"
   },
   "outputs": [],
   "source": []
  },
  {
   "cell_type": "code",
   "execution_count": null,
   "metadata": {
    "id": "vZ4GT_mc7vxK"
   },
   "outputs": [],
   "source": []
  }
 ],
 "metadata": {
  "colab": {
   "provenance": []
  },
  "kernelspec": {
   "display_name": "Python 3 (ipykernel)",
   "language": "python",
   "name": "python3"
  },
  "language_info": {
   "codemirror_mode": {
    "name": "ipython",
    "version": 3
   },
   "file_extension": ".py",
   "mimetype": "text/x-python",
   "name": "python",
   "nbconvert_exporter": "python",
   "pygments_lexer": "ipython3",
   "version": "3.9.13"
  }
 },
 "nbformat": 4,
 "nbformat_minor": 1
}
