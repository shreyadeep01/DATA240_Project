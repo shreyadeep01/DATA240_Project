{
  "nbformat": 4,
  "nbformat_minor": 0,
  "metadata": {
    "colab": {
      "provenance": []
    },
    "kernelspec": {
      "name": "python3",
      "display_name": "Python 3"
    },
    "language_info": {
      "name": "python"
    }
  },
  "cells": [
    {
      "cell_type": "code",
      "execution_count": 1,
      "metadata": {
        "id": "I4Ad8uaqjD9v"
      },
      "outputs": [],
      "source": [
        "import pandas as pd\n",
        "import numpy as np\n",
        "\n",
        "import matplotlib.pyplot as plt"
      ]
    },
    {
      "cell_type": "markdown",
      "source": [
        "Load datasets from Google drives"
      ],
      "metadata": {
        "id": "RJ5sEjD8PMhG"
      }
    },
    {
      "cell_type": "code",
      "source": [
        "is_churn_url = 'https://drive.google.com/file/d/1P43072y7KI4RUOKgWzZc3ov8kMaFQMVA/view?usp=sharing'\n",
        "is_churn_url = 'https://drive.google.com/uc?id=' + is_churn_url.split('/')[-2]\n",
        "\n",
        "# is_churn_url = 'is_churn.csv'\n",
        "is_churn_df = pd.read_csv(is_churn_url)\n",
        "\n",
        "# print(is_churn_df)"
      ],
      "metadata": {
        "id": "_jRdUXFmAUzQ"
      },
      "execution_count": 2,
      "outputs": []
    },
    {
      "cell_type": "code",
      "source": [
        "transactions_url = 'https://drive.google.com/file/d/1oPbL4uWPtFvq41IqNfMNW7QUaGA3INXV/view?usp=sharing'\n",
        "transactions_url = 'https://drive.google.com/uc?id=' + transactions_url.split('/')[-2]\n",
        "# transactions_url = 'transactions.csv'\n",
        "transactions_df = pd.read_csv(transactions_url)\n",
        "\n",
        "# print(transactions_df)"
      ],
      "metadata": {
        "id": "fOcDvqSBMc1p"
      },
      "execution_count": 3,
      "outputs": []
    },
    {
      "cell_type": "code",
      "source": [
        "user_logs_url = 'https://drive.google.com/file/d/1FNMohIsfIcBFs2V-0m43qYoIGP1gCLQe/view?usp=sharing'\n",
        "user_logs_url = 'https://drive.google.com/uc?id=' + user_logs_url.split('/')[-2]\n",
        "\n",
        "user_logs_df = pd.read_csv(user_logs_url)\n",
        "\n",
        "# print(user_logs_df)"
      ],
      "metadata": {
        "id": "Itf_1tg2Mc86"
      },
      "execution_count": 4,
      "outputs": []
    },
    {
      "cell_type": "code",
      "source": [
        "members_url = 'https://drive.google.com/file/d/1yWY0mrpyEU3Ug98H8JsbQ-esROu5L5X6/view?usp=sharing'\n",
        "members_url = 'https://drive.google.com/uc?id=' + members_url.split('/')[-2]\n",
        "\n",
        "# members_path = 'members.csv'\n",
        "members_df = pd.read_csv(members_url)\n",
        "\n",
        "# print(members_df)"
      ],
      "metadata": {
        "id": "qQCGk852MdGr"
      },
      "execution_count": 5,
      "outputs": []
    },
    {
      "cell_type": "markdown",
      "source": [
        "Merge four datasets into a large dataset"
      ],
      "metadata": {
        "id": "DhLdBGx0PZS4"
      }
    },
    {
      "cell_type": "code",
      "source": [
        "# count the average playtime per day for every member\n",
        "\n",
        "avg_playtime = user_logs_df.groupby('msno', as_index=False)['total_secs'].mean()\n",
        "avg_playtime = avg_playtime.rename(columns={\"total_secs\": \"playtime_per_day\"})\n",
        "print(avg_playtime.min())"
      ],
      "metadata": {
        "colab": {
          "base_uri": "https://localhost:8080/"
        },
        "id": "kRoYZeOaRm6i",
        "outputId": "2be8aacc-2bb4-4bf8-d7f2-849e98f51f4e"
      },
      "execution_count": 6,
      "outputs": [
        {
          "output_type": "stream",
          "name": "stdout",
          "text": [
            "msno                ++LEgyw4z5zuPu61SoBhMicDimkV+A9kPbcMaQgC/7c=\n",
            "playtime_per_day                            -320255973495365.125\n",
            "dtype: object\n"
          ]
        }
      ]
    },
    {
      "cell_type": "code",
      "source": [
        "# calculate the total length of membership plan in days\n",
        "\n",
        "membership_days = transactions_df.groupby('msno', as_index=False)['payment_plan_days'].sum()\n",
        "latest_transaction_date = transactions_df.groupby('msno', as_index=False)['transaction_date'].max()\n",
        "latest_transactions = transactions_df.merge(latest_transaction_date, on=[\"msno\", \"transaction_date\"])\n",
        "# print(latest_transactions)"
      ],
      "metadata": {
        "id": "dj66GyDWRm8X"
      },
      "execution_count": 7,
      "outputs": []
    },
    {
      "cell_type": "code",
      "source": [
        "# merge all dataset\n",
        "\n",
        "merged_data = is_churn_df.merge(avg_playtime, how='inner', on=[\"msno\"]).merge(members_df, how='inner', on=\"msno\").merge(latest_transactions, how='inner', on=[\"msno\"])\n",
        "\n",
        "print(merged_data)"
      ],
      "metadata": {
        "colab": {
          "base_uri": "https://localhost:8080/"
        },
        "id": "WvEcfPJ53imG",
        "outputId": "8623a5b3-64f7-45cc-9373-960e8d0a0d05"
      },
      "execution_count": 8,
      "outputs": [
        {
          "output_type": "stream",
          "name": "stdout",
          "text": [
            "                                              msno  is_churn  \\\n",
            "0     dEPT6Ki6RIimMvKFy2B/iLhNalAIQVvVEznJwqcI5xg=         0   \n",
            "1     NZh6JkdKxv5+yzfxoJjDpqQqlxaWoLte6GoAUcD2RKs=         0   \n",
            "2     MQJh0JzTYfSzdsOH/ice1rsxouzE/dRDFeI4MhA3mqA=         0   \n",
            "3     TMBsL0a7IjM8dEC4Yg8lwbnZP52MJpiSLcvHNjesmSs=         0   \n",
            "4     QH6WsEFO0cDNqAgBzuFoKdPbpaq27+StO4I/6ATGfXc=         0   \n",
            "...                                            ...       ...   \n",
            "4423  R+puA1IoFN9ZIBZINnLZivZEAW8jv47H6D0zPNeGlGc=         1   \n",
            "4424  uDT8cz06dz2Hwv0DspKzjDPcP4izsPH6HZgd9EvEgGg=         1   \n",
            "4425  2tfPyhPXlIGjqGMb+r/ZTmxeG/v0i28xY3xSn97gdOo=         1   \n",
            "4426  TQvFyIQAcPI4qpzYoT9+b9dM9Odjnyw4ev3kOu1I5sI=         1   \n",
            "4427  TQvFyIQAcPI4qpzYoT9+b9dM9Odjnyw4ev3kOu1I5sI=         1   \n",
            "\n",
            "      playtime_per_day  city  bd  gender  registered_via  \\\n",
            "0         1.481261e+04    22  35    male               9   \n",
            "1         1.446139e+03     1   0     NaN               7   \n",
            "2         3.540335e+03     8  32  female               7   \n",
            "3         2.101799e+03    12  21    male               4   \n",
            "4         2.693799e+04     1   0     NaN               7   \n",
            "...                ...   ...  ..     ...             ...   \n",
            "4423     -4.303284e+13     4  38  female               7   \n",
            "4424      6.345836e+03    17  17  female               7   \n",
            "4425      6.386885e+03    13  35  female               9   \n",
            "4426      6.546864e+03     1   0     NaN               4   \n",
            "4427      6.546864e+03     1   0     NaN               4   \n",
            "\n",
            "      registration_init_time  payment_method_id  payment_plan_days  \\\n",
            "0                   20110613                 31                 30   \n",
            "1                   20110111                 41                 30   \n",
            "2                   20110205                 41                 30   \n",
            "3                   20161005                 36                 30   \n",
            "4                   20130901                 38                 30   \n",
            "...                      ...                ...                ...   \n",
            "4423                20140116                 32                180   \n",
            "4424                20160204                 41                 30   \n",
            "4425                20050817                 32                180   \n",
            "4426                20161104                 38                 90   \n",
            "4427                20161104                 35                  7   \n",
            "\n",
            "      plan_list_price  actual_amount_paid  is_auto_renew  transaction_date  \\\n",
            "0                 149                 149              1          20170228   \n",
            "1                  99                  99              1          20170210   \n",
            "2                 149                 149              1          20170215   \n",
            "3                 180                 180              0          20170217   \n",
            "4                 149                 149              0          20170220   \n",
            "...               ...                 ...            ...               ...   \n",
            "4423              536                 536              0          20160823   \n",
            "4424               99                  99              1          20170204   \n",
            "4425              536                 536              0          20160811   \n",
            "4426              477                 477              0          20161104   \n",
            "4427                0                   0              0          20161104   \n",
            "\n",
            "      membership_expire_date  is_cancel  \n",
            "0                   20170331          0  \n",
            "1                   20170310          0  \n",
            "2                   20170316          0  \n",
            "3                   20170319          0  \n",
            "4                   20170322          0  \n",
            "...                      ...        ...  \n",
            "4423                20170222          0  \n",
            "4424                20170204          1  \n",
            "4425                20170210          0  \n",
            "4426                20170209          0  \n",
            "4427                20161111          0  \n",
            "\n",
            "[4428 rows x 16 columns]\n"
          ]
        }
      ]
    },
    {
      "cell_type": "code",
      "source": [
        "# check missing values\n",
        "\n",
        "merged_data.isna().sum(axis = 0)"
      ],
      "metadata": {
        "colab": {
          "base_uri": "https://localhost:8080/"
        },
        "id": "haFH06HE48_D",
        "outputId": "97921d2c-ad09-4b9e-9f5a-99623065aeff"
      },
      "execution_count": 9,
      "outputs": [
        {
          "output_type": "execute_result",
          "data": {
            "text/plain": [
              "msno                         0\n",
              "is_churn                     0\n",
              "playtime_per_day             0\n",
              "city                         0\n",
              "bd                           0\n",
              "gender                    2471\n",
              "registered_via               0\n",
              "registration_init_time       0\n",
              "payment_method_id            0\n",
              "payment_plan_days            0\n",
              "plan_list_price              0\n",
              "actual_amount_paid           0\n",
              "is_auto_renew                0\n",
              "transaction_date             0\n",
              "membership_expire_date       0\n",
              "is_cancel                    0\n",
              "dtype: int64"
            ]
          },
          "metadata": {},
          "execution_count": 9
        }
      ]
    },
    {
      "cell_type": "code",
      "source": [
        "# Replace missing values in column 'gender' with integer -1\n",
        "\n",
        "merged_data[['gender']] = merged_data[['gender']].fillna('-1')"
      ],
      "metadata": {
        "id": "Ym6e7kEhO4qY"
      },
      "execution_count": 10,
      "outputs": []
    },
    {
      "cell_type": "code",
      "source": [
        "# Convert registration_init_time, transaction_date, membership_expire_date to years\n",
        "\n",
        "merged_data['registration_init_time'] = merged_data['registration_init_time'].astype(str).str[:4]\n",
        "merged_data['transaction_date'] = merged_data['transaction_date'].astype(str).str[:4]\n",
        "merged_data['membership_expire_date'] = merged_data['membership_expire_date'].astype(str).str[:4]\n",
        "\n",
        "print(merged_data)"
      ],
      "metadata": {
        "colab": {
          "base_uri": "https://localhost:8080/"
        },
        "id": "YzGc4Jr9VixT",
        "outputId": "3873f2ec-1ba9-4224-fd7e-fe5f8d3874ee"
      },
      "execution_count": 11,
      "outputs": [
        {
          "output_type": "stream",
          "name": "stdout",
          "text": [
            "                                              msno  is_churn  \\\n",
            "0     dEPT6Ki6RIimMvKFy2B/iLhNalAIQVvVEznJwqcI5xg=         0   \n",
            "1     NZh6JkdKxv5+yzfxoJjDpqQqlxaWoLte6GoAUcD2RKs=         0   \n",
            "2     MQJh0JzTYfSzdsOH/ice1rsxouzE/dRDFeI4MhA3mqA=         0   \n",
            "3     TMBsL0a7IjM8dEC4Yg8lwbnZP52MJpiSLcvHNjesmSs=         0   \n",
            "4     QH6WsEFO0cDNqAgBzuFoKdPbpaq27+StO4I/6ATGfXc=         0   \n",
            "...                                            ...       ...   \n",
            "4423  R+puA1IoFN9ZIBZINnLZivZEAW8jv47H6D0zPNeGlGc=         1   \n",
            "4424  uDT8cz06dz2Hwv0DspKzjDPcP4izsPH6HZgd9EvEgGg=         1   \n",
            "4425  2tfPyhPXlIGjqGMb+r/ZTmxeG/v0i28xY3xSn97gdOo=         1   \n",
            "4426  TQvFyIQAcPI4qpzYoT9+b9dM9Odjnyw4ev3kOu1I5sI=         1   \n",
            "4427  TQvFyIQAcPI4qpzYoT9+b9dM9Odjnyw4ev3kOu1I5sI=         1   \n",
            "\n",
            "      playtime_per_day  city  bd  gender  registered_via  \\\n",
            "0         1.481261e+04    22  35    male               9   \n",
            "1         1.446139e+03     1   0      -1               7   \n",
            "2         3.540335e+03     8  32  female               7   \n",
            "3         2.101799e+03    12  21    male               4   \n",
            "4         2.693799e+04     1   0      -1               7   \n",
            "...                ...   ...  ..     ...             ...   \n",
            "4423     -4.303284e+13     4  38  female               7   \n",
            "4424      6.345836e+03    17  17  female               7   \n",
            "4425      6.386885e+03    13  35  female               9   \n",
            "4426      6.546864e+03     1   0      -1               4   \n",
            "4427      6.546864e+03     1   0      -1               4   \n",
            "\n",
            "     registration_init_time  payment_method_id  payment_plan_days  \\\n",
            "0                      2011                 31                 30   \n",
            "1                      2011                 41                 30   \n",
            "2                      2011                 41                 30   \n",
            "3                      2016                 36                 30   \n",
            "4                      2013                 38                 30   \n",
            "...                     ...                ...                ...   \n",
            "4423                   2014                 32                180   \n",
            "4424                   2016                 41                 30   \n",
            "4425                   2005                 32                180   \n",
            "4426                   2016                 38                 90   \n",
            "4427                   2016                 35                  7   \n",
            "\n",
            "      plan_list_price  actual_amount_paid  is_auto_renew transaction_date  \\\n",
            "0                 149                 149              1             2017   \n",
            "1                  99                  99              1             2017   \n",
            "2                 149                 149              1             2017   \n",
            "3                 180                 180              0             2017   \n",
            "4                 149                 149              0             2017   \n",
            "...               ...                 ...            ...              ...   \n",
            "4423              536                 536              0             2016   \n",
            "4424               99                  99              1             2017   \n",
            "4425              536                 536              0             2016   \n",
            "4426              477                 477              0             2016   \n",
            "4427                0                   0              0             2016   \n",
            "\n",
            "     membership_expire_date  is_cancel  \n",
            "0                      2017          0  \n",
            "1                      2017          0  \n",
            "2                      2017          0  \n",
            "3                      2017          0  \n",
            "4                      2017          0  \n",
            "...                     ...        ...  \n",
            "4423                   2017          0  \n",
            "4424                   2017          1  \n",
            "4425                   2017          0  \n",
            "4426                   2017          0  \n",
            "4427                   2016          0  \n",
            "\n",
            "[4428 rows x 16 columns]\n"
          ]
        }
      ]
    },
    {
      "cell_type": "code",
      "source": [
        "# replacing values in column gender\n",
        "merged_data['gender'].replace(['female', 'male'],\n",
        "                        [0, 1], inplace=True)"
      ],
      "metadata": {
        "id": "W6HPPFjhX4lW"
      },
      "execution_count": 12,
      "outputs": []
    },
    {
      "cell_type": "code",
      "source": [
        "merged_data.dtypes"
      ],
      "metadata": {
        "colab": {
          "base_uri": "https://localhost:8080/"
        },
        "id": "X0eg5WHJWCAY",
        "outputId": "3ef92706-3818-4e3a-9d75-57f84966c481"
      },
      "execution_count": 13,
      "outputs": [
        {
          "output_type": "execute_result",
          "data": {
            "text/plain": [
              "msno                       object\n",
              "is_churn                    int64\n",
              "playtime_per_day          float64\n",
              "city                        int64\n",
              "bd                          int64\n",
              "gender                     object\n",
              "registered_via              int64\n",
              "registration_init_time     object\n",
              "payment_method_id           int64\n",
              "payment_plan_days           int64\n",
              "plan_list_price             int64\n",
              "actual_amount_paid          int64\n",
              "is_auto_renew               int64\n",
              "transaction_date           object\n",
              "membership_expire_date     object\n",
              "is_cancel                   int64\n",
              "dtype: object"
            ]
          },
          "metadata": {},
          "execution_count": 13
        }
      ]
    },
    {
      "cell_type": "code",
      "source": [
        "# set row names (index) to the msno column\n",
        "\n",
        "merged_data = merged_data.set_index('msno')\n",
        "\n",
        "print(merged_data)"
      ],
      "metadata": {
        "colab": {
          "base_uri": "https://localhost:8080/"
        },
        "id": "mPcr7jN4VizZ",
        "outputId": "2672f4a9-77cf-45e9-9221-070dfbb1e1b8"
      },
      "execution_count": 14,
      "outputs": [
        {
          "output_type": "stream",
          "name": "stdout",
          "text": [
            "                                              is_churn  playtime_per_day  \\\n",
            "msno                                                                       \n",
            "dEPT6Ki6RIimMvKFy2B/iLhNalAIQVvVEznJwqcI5xg=         0      1.481261e+04   \n",
            "NZh6JkdKxv5+yzfxoJjDpqQqlxaWoLte6GoAUcD2RKs=         0      1.446139e+03   \n",
            "MQJh0JzTYfSzdsOH/ice1rsxouzE/dRDFeI4MhA3mqA=         0      3.540335e+03   \n",
            "TMBsL0a7IjM8dEC4Yg8lwbnZP52MJpiSLcvHNjesmSs=         0      2.101799e+03   \n",
            "QH6WsEFO0cDNqAgBzuFoKdPbpaq27+StO4I/6ATGfXc=         0      2.693799e+04   \n",
            "...                                                ...               ...   \n",
            "R+puA1IoFN9ZIBZINnLZivZEAW8jv47H6D0zPNeGlGc=         1     -4.303284e+13   \n",
            "uDT8cz06dz2Hwv0DspKzjDPcP4izsPH6HZgd9EvEgGg=         1      6.345836e+03   \n",
            "2tfPyhPXlIGjqGMb+r/ZTmxeG/v0i28xY3xSn97gdOo=         1      6.386885e+03   \n",
            "TQvFyIQAcPI4qpzYoT9+b9dM9Odjnyw4ev3kOu1I5sI=         1      6.546864e+03   \n",
            "TQvFyIQAcPI4qpzYoT9+b9dM9Odjnyw4ev3kOu1I5sI=         1      6.546864e+03   \n",
            "\n",
            "                                              city  bd gender  registered_via  \\\n",
            "msno                                                                            \n",
            "dEPT6Ki6RIimMvKFy2B/iLhNalAIQVvVEznJwqcI5xg=    22  35      1               9   \n",
            "NZh6JkdKxv5+yzfxoJjDpqQqlxaWoLte6GoAUcD2RKs=     1   0     -1               7   \n",
            "MQJh0JzTYfSzdsOH/ice1rsxouzE/dRDFeI4MhA3mqA=     8  32      0               7   \n",
            "TMBsL0a7IjM8dEC4Yg8lwbnZP52MJpiSLcvHNjesmSs=    12  21      1               4   \n",
            "QH6WsEFO0cDNqAgBzuFoKdPbpaq27+StO4I/6ATGfXc=     1   0     -1               7   \n",
            "...                                            ...  ..    ...             ...   \n",
            "R+puA1IoFN9ZIBZINnLZivZEAW8jv47H6D0zPNeGlGc=     4  38      0               7   \n",
            "uDT8cz06dz2Hwv0DspKzjDPcP4izsPH6HZgd9EvEgGg=    17  17      0               7   \n",
            "2tfPyhPXlIGjqGMb+r/ZTmxeG/v0i28xY3xSn97gdOo=    13  35      0               9   \n",
            "TQvFyIQAcPI4qpzYoT9+b9dM9Odjnyw4ev3kOu1I5sI=     1   0     -1               4   \n",
            "TQvFyIQAcPI4qpzYoT9+b9dM9Odjnyw4ev3kOu1I5sI=     1   0     -1               4   \n",
            "\n",
            "                                             registration_init_time  \\\n",
            "msno                                                                  \n",
            "dEPT6Ki6RIimMvKFy2B/iLhNalAIQVvVEznJwqcI5xg=                   2011   \n",
            "NZh6JkdKxv5+yzfxoJjDpqQqlxaWoLte6GoAUcD2RKs=                   2011   \n",
            "MQJh0JzTYfSzdsOH/ice1rsxouzE/dRDFeI4MhA3mqA=                   2011   \n",
            "TMBsL0a7IjM8dEC4Yg8lwbnZP52MJpiSLcvHNjesmSs=                   2016   \n",
            "QH6WsEFO0cDNqAgBzuFoKdPbpaq27+StO4I/6ATGfXc=                   2013   \n",
            "...                                                             ...   \n",
            "R+puA1IoFN9ZIBZINnLZivZEAW8jv47H6D0zPNeGlGc=                   2014   \n",
            "uDT8cz06dz2Hwv0DspKzjDPcP4izsPH6HZgd9EvEgGg=                   2016   \n",
            "2tfPyhPXlIGjqGMb+r/ZTmxeG/v0i28xY3xSn97gdOo=                   2005   \n",
            "TQvFyIQAcPI4qpzYoT9+b9dM9Odjnyw4ev3kOu1I5sI=                   2016   \n",
            "TQvFyIQAcPI4qpzYoT9+b9dM9Odjnyw4ev3kOu1I5sI=                   2016   \n",
            "\n",
            "                                              payment_method_id  \\\n",
            "msno                                                              \n",
            "dEPT6Ki6RIimMvKFy2B/iLhNalAIQVvVEznJwqcI5xg=                 31   \n",
            "NZh6JkdKxv5+yzfxoJjDpqQqlxaWoLte6GoAUcD2RKs=                 41   \n",
            "MQJh0JzTYfSzdsOH/ice1rsxouzE/dRDFeI4MhA3mqA=                 41   \n",
            "TMBsL0a7IjM8dEC4Yg8lwbnZP52MJpiSLcvHNjesmSs=                 36   \n",
            "QH6WsEFO0cDNqAgBzuFoKdPbpaq27+StO4I/6ATGfXc=                 38   \n",
            "...                                                         ...   \n",
            "R+puA1IoFN9ZIBZINnLZivZEAW8jv47H6D0zPNeGlGc=                 32   \n",
            "uDT8cz06dz2Hwv0DspKzjDPcP4izsPH6HZgd9EvEgGg=                 41   \n",
            "2tfPyhPXlIGjqGMb+r/ZTmxeG/v0i28xY3xSn97gdOo=                 32   \n",
            "TQvFyIQAcPI4qpzYoT9+b9dM9Odjnyw4ev3kOu1I5sI=                 38   \n",
            "TQvFyIQAcPI4qpzYoT9+b9dM9Odjnyw4ev3kOu1I5sI=                 35   \n",
            "\n",
            "                                              payment_plan_days  \\\n",
            "msno                                                              \n",
            "dEPT6Ki6RIimMvKFy2B/iLhNalAIQVvVEznJwqcI5xg=                 30   \n",
            "NZh6JkdKxv5+yzfxoJjDpqQqlxaWoLte6GoAUcD2RKs=                 30   \n",
            "MQJh0JzTYfSzdsOH/ice1rsxouzE/dRDFeI4MhA3mqA=                 30   \n",
            "TMBsL0a7IjM8dEC4Yg8lwbnZP52MJpiSLcvHNjesmSs=                 30   \n",
            "QH6WsEFO0cDNqAgBzuFoKdPbpaq27+StO4I/6ATGfXc=                 30   \n",
            "...                                                         ...   \n",
            "R+puA1IoFN9ZIBZINnLZivZEAW8jv47H6D0zPNeGlGc=                180   \n",
            "uDT8cz06dz2Hwv0DspKzjDPcP4izsPH6HZgd9EvEgGg=                 30   \n",
            "2tfPyhPXlIGjqGMb+r/ZTmxeG/v0i28xY3xSn97gdOo=                180   \n",
            "TQvFyIQAcPI4qpzYoT9+b9dM9Odjnyw4ev3kOu1I5sI=                 90   \n",
            "TQvFyIQAcPI4qpzYoT9+b9dM9Odjnyw4ev3kOu1I5sI=                  7   \n",
            "\n",
            "                                              plan_list_price  \\\n",
            "msno                                                            \n",
            "dEPT6Ki6RIimMvKFy2B/iLhNalAIQVvVEznJwqcI5xg=              149   \n",
            "NZh6JkdKxv5+yzfxoJjDpqQqlxaWoLte6GoAUcD2RKs=               99   \n",
            "MQJh0JzTYfSzdsOH/ice1rsxouzE/dRDFeI4MhA3mqA=              149   \n",
            "TMBsL0a7IjM8dEC4Yg8lwbnZP52MJpiSLcvHNjesmSs=              180   \n",
            "QH6WsEFO0cDNqAgBzuFoKdPbpaq27+StO4I/6ATGfXc=              149   \n",
            "...                                                       ...   \n",
            "R+puA1IoFN9ZIBZINnLZivZEAW8jv47H6D0zPNeGlGc=              536   \n",
            "uDT8cz06dz2Hwv0DspKzjDPcP4izsPH6HZgd9EvEgGg=               99   \n",
            "2tfPyhPXlIGjqGMb+r/ZTmxeG/v0i28xY3xSn97gdOo=              536   \n",
            "TQvFyIQAcPI4qpzYoT9+b9dM9Odjnyw4ev3kOu1I5sI=              477   \n",
            "TQvFyIQAcPI4qpzYoT9+b9dM9Odjnyw4ev3kOu1I5sI=                0   \n",
            "\n",
            "                                              actual_amount_paid  \\\n",
            "msno                                                               \n",
            "dEPT6Ki6RIimMvKFy2B/iLhNalAIQVvVEznJwqcI5xg=                 149   \n",
            "NZh6JkdKxv5+yzfxoJjDpqQqlxaWoLte6GoAUcD2RKs=                  99   \n",
            "MQJh0JzTYfSzdsOH/ice1rsxouzE/dRDFeI4MhA3mqA=                 149   \n",
            "TMBsL0a7IjM8dEC4Yg8lwbnZP52MJpiSLcvHNjesmSs=                 180   \n",
            "QH6WsEFO0cDNqAgBzuFoKdPbpaq27+StO4I/6ATGfXc=                 149   \n",
            "...                                                          ...   \n",
            "R+puA1IoFN9ZIBZINnLZivZEAW8jv47H6D0zPNeGlGc=                 536   \n",
            "uDT8cz06dz2Hwv0DspKzjDPcP4izsPH6HZgd9EvEgGg=                  99   \n",
            "2tfPyhPXlIGjqGMb+r/ZTmxeG/v0i28xY3xSn97gdOo=                 536   \n",
            "TQvFyIQAcPI4qpzYoT9+b9dM9Odjnyw4ev3kOu1I5sI=                 477   \n",
            "TQvFyIQAcPI4qpzYoT9+b9dM9Odjnyw4ev3kOu1I5sI=                   0   \n",
            "\n",
            "                                              is_auto_renew transaction_date  \\\n",
            "msno                                                                           \n",
            "dEPT6Ki6RIimMvKFy2B/iLhNalAIQVvVEznJwqcI5xg=              1             2017   \n",
            "NZh6JkdKxv5+yzfxoJjDpqQqlxaWoLte6GoAUcD2RKs=              1             2017   \n",
            "MQJh0JzTYfSzdsOH/ice1rsxouzE/dRDFeI4MhA3mqA=              1             2017   \n",
            "TMBsL0a7IjM8dEC4Yg8lwbnZP52MJpiSLcvHNjesmSs=              0             2017   \n",
            "QH6WsEFO0cDNqAgBzuFoKdPbpaq27+StO4I/6ATGfXc=              0             2017   \n",
            "...                                                     ...              ...   \n",
            "R+puA1IoFN9ZIBZINnLZivZEAW8jv47H6D0zPNeGlGc=              0             2016   \n",
            "uDT8cz06dz2Hwv0DspKzjDPcP4izsPH6HZgd9EvEgGg=              1             2017   \n",
            "2tfPyhPXlIGjqGMb+r/ZTmxeG/v0i28xY3xSn97gdOo=              0             2016   \n",
            "TQvFyIQAcPI4qpzYoT9+b9dM9Odjnyw4ev3kOu1I5sI=              0             2016   \n",
            "TQvFyIQAcPI4qpzYoT9+b9dM9Odjnyw4ev3kOu1I5sI=              0             2016   \n",
            "\n",
            "                                             membership_expire_date  is_cancel  \n",
            "msno                                                                            \n",
            "dEPT6Ki6RIimMvKFy2B/iLhNalAIQVvVEznJwqcI5xg=                   2017          0  \n",
            "NZh6JkdKxv5+yzfxoJjDpqQqlxaWoLte6GoAUcD2RKs=                   2017          0  \n",
            "MQJh0JzTYfSzdsOH/ice1rsxouzE/dRDFeI4MhA3mqA=                   2017          0  \n",
            "TMBsL0a7IjM8dEC4Yg8lwbnZP52MJpiSLcvHNjesmSs=                   2017          0  \n",
            "QH6WsEFO0cDNqAgBzuFoKdPbpaq27+StO4I/6ATGfXc=                   2017          0  \n",
            "...                                                             ...        ...  \n",
            "R+puA1IoFN9ZIBZINnLZivZEAW8jv47H6D0zPNeGlGc=                   2017          0  \n",
            "uDT8cz06dz2Hwv0DspKzjDPcP4izsPH6HZgd9EvEgGg=                   2017          1  \n",
            "2tfPyhPXlIGjqGMb+r/ZTmxeG/v0i28xY3xSn97gdOo=                   2017          0  \n",
            "TQvFyIQAcPI4qpzYoT9+b9dM9Odjnyw4ev3kOu1I5sI=                   2017          0  \n",
            "TQvFyIQAcPI4qpzYoT9+b9dM9Odjnyw4ev3kOu1I5sI=                   2016          0  \n",
            "\n",
            "[4428 rows x 15 columns]\n"
          ]
        }
      ]
    },
    {
      "cell_type": "markdown",
      "source": [
        "Split training and test data"
      ],
      "metadata": {
        "id": "0UW2jO1iPzvO"
      }
    },
    {
      "cell_type": "code",
      "source": [
        "# Identify features and target variable\n",
        "X = merged_data.drop(['is_churn'], axis=1)\n",
        "y = merged_data['is_churn']\n",
        "\n",
        "yes_count = merged_data['is_churn'].value_counts().get(1, 0)\n",
        "no_count = merged_data['is_churn'].value_counts().get(0, 0)\n",
        "print(yes_count)\n",
        "print(no_count)"
      ],
      "metadata": {
        "colab": {
          "base_uri": "https://localhost:8080/"
        },
        "id": "7MJbHQ6RQ2Gz",
        "outputId": "d23fea42-076b-47f8-8f75-f09eb7e653a7"
      },
      "execution_count": 15,
      "outputs": [
        {
          "output_type": "stream",
          "name": "stdout",
          "text": [
            "306\n",
            "4122\n"
          ]
        }
      ]
    },
    {
      "cell_type": "code",
      "source": [
        "from sklearn.model_selection import train_test_split\n",
        "from imblearn.under_sampling import RandomUnderSampler\n",
        "\n",
        "# Split the data into training and testing sets\n",
        "X_train, X_test, y_train, y_test = train_test_split(X, y, test_size=0.2, random_state=42, stratify=y)\n",
        "# Combine X_train and y_train into a single DataFrame for undersampling\n",
        "train_data = pd.concat([X_train, y_train], axis=1)\n",
        "\n",
        "# Identify the minority class label\n",
        "minority_class_label = train_data['is_churn'].value_counts().idxmin()\n",
        "\n",
        "# Apply random undersampling on imbalanced target data\n",
        "undersampler = RandomUnderSampler(sampling_strategy='auto', random_state=42)\n",
        "X_resampled, y_resampled = undersampler.fit_resample(train_data.drop('is_churn', axis=1), train_data['is_churn'])\n",
        "print(X_resampled)"
      ],
      "metadata": {
        "colab": {
          "base_uri": "https://localhost:8080/"
        },
        "id": "HVBREKYcPy2N",
        "outputId": "bbc8e4b6-6bc7-434b-eb99-9ec74c328812"
      },
      "execution_count": 16,
      "outputs": [
        {
          "output_type": "stream",
          "name": "stdout",
          "text": [
            "     playtime_per_day  city  bd gender  registered_via registration_init_time  \\\n",
            "0         3054.982949     1   0     -1               7                   2016   \n",
            "1        21048.954481     8   0     -1               9                   2015   \n",
            "2         4645.567653     4  32      1               9                   2010   \n",
            "3         3618.238833     1   0     -1               7                   2014   \n",
            "4         3619.656167     4  25      0               3                   2012   \n",
            "..                ...   ...  ..    ...             ...                    ...   \n",
            "485       6345.836411    17  17      0               7                   2016   \n",
            "486       4254.758122     1   0     -1               7                   2011   \n",
            "487       7506.612632    22  33      1               9                   2011   \n",
            "488       4441.723980     5  41      1               9                   2009   \n",
            "489       4729.417708     1   0     -1               3                   2013   \n",
            "\n",
            "     payment_method_id  payment_plan_days  plan_list_price  \\\n",
            "0                   41                 30               99   \n",
            "1                   37                 30              149   \n",
            "2                   34                 30              149   \n",
            "3                   41                 30               99   \n",
            "4                   40                 30              149   \n",
            "..                 ...                ...              ...   \n",
            "485                 41                 30               99   \n",
            "486                 41                 30               99   \n",
            "487                 29                 30              180   \n",
            "488                 33                 30              149   \n",
            "489                 38                 30              149   \n",
            "\n",
            "     actual_amount_paid  is_auto_renew transaction_date  \\\n",
            "0                    99              1             2017   \n",
            "1                   149              1             2017   \n",
            "2                   149              1             2017   \n",
            "3                    99              1             2017   \n",
            "4                   149              1             2017   \n",
            "..                  ...            ...              ...   \n",
            "485                  99              1             2017   \n",
            "486                  99              1             2017   \n",
            "487                 180              1             2017   \n",
            "488                 149              1             2017   \n",
            "489                 149              0             2017   \n",
            "\n",
            "    membership_expire_date  is_cancel  \n",
            "0                     2017          0  \n",
            "1                     2017          0  \n",
            "2                     2017          0  \n",
            "3                     2017          0  \n",
            "4                     2017          0  \n",
            "..                     ...        ...  \n",
            "485                   2017          1  \n",
            "486                   2017          1  \n",
            "487                   2017          1  \n",
            "488                   2017          1  \n",
            "489                   2017          0  \n",
            "\n",
            "[490 rows x 14 columns]\n"
          ]
        }
      ]
    },
    {
      "cell_type": "markdown",
      "source": [
        "Train and evaluate classification models (RANDOM FOREST AS AN EXAMPLE)"
      ],
      "metadata": {
        "id": "5tOChm64cwjo"
      }
    },
    {
      "cell_type": "code",
      "source": [
        "from sklearn.ensemble import RandomForestClassifier\n",
        "from sklearn.metrics import accuracy_score\n",
        "\n",
        "RF = RandomForestClassifier(n_estimators=10, random_state=0)\n",
        "RF.fit(X_resampled, y_resampled)\n",
        "\n",
        "y_pred_RF = RF.predict(X_test)\n",
        "\n",
        "accuracy_RF = accuracy_score(y_test, y_pred_RF)\n",
        "print(f'Accuracy for Random Forest Classifier with 10 Estimators: {accuracy_RF:.4f}')"
      ],
      "metadata": {
        "colab": {
          "base_uri": "https://localhost:8080/"
        },
        "id": "lP7K6AsNPy4Q",
        "outputId": "a3056230-1c89-4c5f-ac79-34e12a87b722"
      },
      "execution_count": 17,
      "outputs": [
        {
          "output_type": "stream",
          "name": "stdout",
          "text": [
            "Accuracy for Random Forest Classifier with 10 Estimators: 0.8916\n"
          ]
        }
      ]
    },
    {
      "cell_type": "markdown",
      "source": [
        "EDA"
      ],
      "metadata": {
        "id": "7TqWV8ZNs4LE"
      }
    },
    {
      "cell_type": "code",
      "source": [
        "# bar plot for number of churn\n",
        "\n",
        "count_churn = len(is_churn_df[(is_churn_df['is_churn'] == 1)])\n",
        "count_renewal = len(is_churn_df[(is_churn_df['is_churn'] == 0)])\n",
        "\n",
        "x = ['churn', 'renewal']\n",
        "y = [count_churn, count_renewal]\n",
        "\n",
        "plt.bar(x, y)\n",
        "\n",
        "plt.xlabel(\"Churn or not\")\n",
        "plt.ylabel(\"Count of members\")\n",
        "plt.title(\"Number of Churn vs. renewal members\")\n",
        "plt.show()"
      ],
      "metadata": {
        "colab": {
          "base_uri": "https://localhost:8080/",
          "height": 472
        },
        "id": "s_yadVbYvZvd",
        "outputId": "4b6313b5-536f-48ef-f50a-5a719e5ad107"
      },
      "execution_count": 11,
      "outputs": [
        {
          "output_type": "display_data",
          "data": {
            "text/plain": [
              "<Figure size 640x480 with 1 Axes>"
            ],
            "image/png": "[encoded data removed]"
          },
          "metadata": {}
        }
      ]
    }
  ]
}